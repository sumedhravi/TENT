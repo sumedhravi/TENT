{
 "cells": [
  {
   "cell_type": "code",
   "execution_count": 1,
   "id": "b0644875",
   "metadata": {
    "_cell_guid": "b1076dfc-b9ad-4769-8c92-a6c4dae69d19",
    "_uuid": "8f2839f25d086af736a60e9eeb907d3b93b6e0e5",
    "execution": {
     "iopub.execute_input": "2022-05-01T00:52:19.113779Z",
     "iopub.status.busy": "2022-05-01T00:52:19.113300Z",
     "iopub.status.idle": "2022-05-01T00:52:20.768048Z",
     "shell.execute_reply": "2022-05-01T00:52:20.767057Z"
    },
    "papermill": {
     "duration": 1.69391,
     "end_time": "2022-05-01T00:52:20.771191",
     "exception": false,
     "start_time": "2022-05-01T00:52:19.077281",
     "status": "completed"
    },
    "tags": []
   },
   "outputs": [],
   "source": [
    "import numpy as np\n",
    "import pandas as pd\n",
    "import torch, torchvision\n",
    "import torch.nn as nn\n",
    "import torch.optim as optim\n",
    "from torch.optim import lr_scheduler\n",
    "import torchvision.datasets as datasets\n",
    "import torch.utils.data as data\n",
    "import torchvision.transforms as transforms\n",
    "from torch.autograd import Variable\n",
    "from PIL import Image\n",
    "import torchvision.models as models\n",
    "import matplotlib.pyplot as plt\n",
    "import time, os, copy\n",
    "import sys\n",
    "%matplotlib inline"
   ]
  },
  {
   "cell_type": "code",
   "execution_count": 2,
   "id": "b49f2c6f",
   "metadata": {
    "execution": {
     "iopub.execute_input": "2022-05-01T00:52:20.873336Z",
     "iopub.status.busy": "2022-05-01T00:52:20.872838Z",
     "iopub.status.idle": "2022-05-01T00:53:03.252194Z",
     "shell.execute_reply": "2022-05-01T00:53:03.251196Z"
    },
    "papermill": {
     "duration": 42.43596,
     "end_time": "2022-05-01T00:53:03.254393",
     "exception": false,
     "start_time": "2022-05-01T00:52:20.818433",
     "status": "completed"
    },
    "tags": []
   },
   "outputs": [
    {
     "name": "stdout",
     "output_type": "stream",
     "text": [
      "--2022-05-01 00:52:21--  https://zenodo.org/record/3239543/files/mnist_c.zip\r\n",
      "Resolving zenodo.org (zenodo.org)... 137.138.76.77\r\n",
      "Connecting to zenodo.org (zenodo.org)|137.138.76.77|:443... connected.\r\n",
      "HTTP request sent, awaiting response... 200 OK\r\n",
      "Length: 246661575 (235M) [application/octet-stream]\r\n",
      "Saving to: ‘mnist_c.zip’\r\n",
      "\r\n",
      "mnist_c.zip         100%[===================>] 235.23M  6.56MB/s    in 32s     \r\n",
      "\r\n",
      "2022-05-01 00:52:55 (7.36 MB/s) - ‘mnist_c.zip’ saved [246661575/246661575]\r\n",
      "\r\n"
     ]
    }
   ],
   "source": [
    "!wget https://zenodo.org/record/3239543/files/mnist_c.zip\n",
    "!unzip -qq mnist_c.zip\n",
    "!rm mnist_c.zip"
   ]
  },
  {
   "cell_type": "code",
   "execution_count": 3,
   "id": "4076ba36",
   "metadata": {
    "execution": {
     "iopub.execute_input": "2022-05-01T00:53:03.407767Z",
     "iopub.status.busy": "2022-05-01T00:53:03.407049Z",
     "iopub.status.idle": "2022-05-01T00:53:03.419797Z",
     "shell.execute_reply": "2022-05-01T00:53:03.419155Z"
    },
    "papermill": {
     "duration": 0.092051,
     "end_time": "2022-05-01T00:53:03.421417",
     "exception": false,
     "start_time": "2022-05-01T00:53:03.329366",
     "status": "completed"
    },
    "tags": []
   },
   "outputs": [
    {
     "data": {
      "text/plain": [
       "<torch._C.Generator at 0x7fb7ed724a70>"
      ]
     },
     "execution_count": 3,
     "metadata": {},
     "output_type": "execute_result"
    }
   ],
   "source": [
    "n_epochs = 8\n",
    "num_classes = 10\n",
    "batch_size_train = 128\n",
    "batch_size_test = 128\n",
    "lr = 1e-3\n",
    "momentum = 0.9\n",
    "wd = 1e-6\n",
    "model_name = \"resnet18\"\n",
    "size=48 if model_name == \"vgg16\" else None\n",
    "\n",
    "random_seed = 1\n",
    "torch.backends.cudnn.enabled = False\n",
    "torch.manual_seed(random_seed)"
   ]
  },
  {
   "cell_type": "code",
   "execution_count": 4,
   "id": "f2ec9580",
   "metadata": {
    "execution": {
     "iopub.execute_input": "2022-05-01T00:53:03.574587Z",
     "iopub.status.busy": "2022-05-01T00:53:03.574332Z",
     "iopub.status.idle": "2022-05-01T00:53:03.581758Z",
     "shell.execute_reply": "2022-05-01T00:53:03.581098Z"
    },
    "papermill": {
     "duration": 0.087413,
     "end_time": "2022-05-01T00:53:03.583479",
     "exception": false,
     "start_time": "2022-05-01T00:53:03.496066",
     "status": "completed"
    },
    "tags": []
   },
   "outputs": [],
   "source": [
    "def get_train_transforms(pixel_mean, pixel_std, size=None):\n",
    "    if size == None:\n",
    "        return transforms.Compose([\n",
    "            transforms.RandomRotation(15),\n",
    "            transforms.ToTensor(),\n",
    "            transforms.Normalize(pixel_mean, pixel_std)\n",
    "            ])\n",
    "    else:\n",
    "        return transforms.Compose([\n",
    "            transforms.Resize(size),\n",
    "            transforms.RandomRotation(15),\n",
    "            transforms.ToTensor(),\n",
    "            transforms.Normalize(pixel_mean, pixel_std)\n",
    "            ])\n",
    "\n",
    "def get_val_transforms(pixel_mean, pixel_std,size=None):\n",
    "    if size == None:\n",
    "        return transforms.Compose([\n",
    "            transforms.ToTensor(),\n",
    "            transforms.Normalize(pixel_mean, pixel_std)\n",
    "            ])\n",
    "    else:\n",
    "        return transforms.Compose([\n",
    "            transforms.Resize(size),\n",
    "            transforms.ToTensor(),\n",
    "            transforms.Normalize(pixel_mean, pixel_std)\n",
    "            ])"
   ]
  },
  {
   "cell_type": "code",
   "execution_count": 5,
   "id": "01aaa22a",
   "metadata": {
    "execution": {
     "iopub.execute_input": "2022-05-01T00:53:03.736972Z",
     "iopub.status.busy": "2022-05-01T00:53:03.736421Z",
     "iopub.status.idle": "2022-05-01T00:53:04.960638Z",
     "shell.execute_reply": "2022-05-01T00:53:04.959949Z"
    },
    "papermill": {
     "duration": 1.302784,
     "end_time": "2022-05-01T00:53:04.963255",
     "exception": false,
     "start_time": "2022-05-01T00:53:03.660471",
     "status": "completed"
    },
    "tags": []
   },
   "outputs": [
    {
     "name": "stdout",
     "output_type": "stream",
     "text": [
      "Downloading http://yann.lecun.com/exdb/mnist/train-images-idx3-ubyte.gz\n",
      "Downloading http://yann.lecun.com/exdb/mnist/train-images-idx3-ubyte.gz to MNIST/raw/train-images-idx3-ubyte.gz\n"
     ]
    },
    {
     "data": {
      "application/vnd.jupyter.widget-view+json": {
       "model_id": "4ae4ddbca6764ab891c6e6c1f346993a",
       "version_major": 2,
       "version_minor": 0
      },
      "text/plain": [
       "  0%|          | 0/9912422 [00:00<?, ?it/s]"
      ]
     },
     "metadata": {},
     "output_type": "display_data"
    },
    {
     "name": "stdout",
     "output_type": "stream",
     "text": [
      "Extracting MNIST/raw/train-images-idx3-ubyte.gz to MNIST/raw\n",
      "\n",
      "Downloading http://yann.lecun.com/exdb/mnist/train-labels-idx1-ubyte.gz\n",
      "Downloading http://yann.lecun.com/exdb/mnist/train-labels-idx1-ubyte.gz to MNIST/raw/train-labels-idx1-ubyte.gz\n"
     ]
    },
    {
     "data": {
      "application/vnd.jupyter.widget-view+json": {
       "model_id": "6671a316843c48c8854630c60307cd47",
       "version_major": 2,
       "version_minor": 0
      },
      "text/plain": [
       "  0%|          | 0/28881 [00:00<?, ?it/s]"
      ]
     },
     "metadata": {},
     "output_type": "display_data"
    },
    {
     "name": "stdout",
     "output_type": "stream",
     "text": [
      "Extracting MNIST/raw/train-labels-idx1-ubyte.gz to MNIST/raw\n",
      "\n",
      "Downloading http://yann.lecun.com/exdb/mnist/t10k-images-idx3-ubyte.gz\n",
      "Downloading http://yann.lecun.com/exdb/mnist/t10k-images-idx3-ubyte.gz to MNIST/raw/t10k-images-idx3-ubyte.gz\n"
     ]
    },
    {
     "data": {
      "application/vnd.jupyter.widget-view+json": {
       "model_id": "2037833ce7f04ed3b42e5bd1af6fa348",
       "version_major": 2,
       "version_minor": 0
      },
      "text/plain": [
       "  0%|          | 0/1648877 [00:00<?, ?it/s]"
      ]
     },
     "metadata": {},
     "output_type": "display_data"
    },
    {
     "name": "stdout",
     "output_type": "stream",
     "text": [
      "Extracting MNIST/raw/t10k-images-idx3-ubyte.gz to MNIST/raw\n",
      "\n",
      "Downloading http://yann.lecun.com/exdb/mnist/t10k-labels-idx1-ubyte.gz\n",
      "Downloading http://yann.lecun.com/exdb/mnist/t10k-labels-idx1-ubyte.gz to MNIST/raw/t10k-labels-idx1-ubyte.gz\n"
     ]
    },
    {
     "data": {
      "application/vnd.jupyter.widget-view+json": {
       "model_id": "d21165e94c264adbb3106ecbe32e5209",
       "version_major": 2,
       "version_minor": 0
      },
      "text/plain": [
       "  0%|          | 0/4542 [00:00<?, ?it/s]"
      ]
     },
     "metadata": {},
     "output_type": "display_data"
    },
    {
     "name": "stdout",
     "output_type": "stream",
     "text": [
      "Extracting MNIST/raw/t10k-labels-idx1-ubyte.gz to MNIST/raw\n",
      "\n"
     ]
    },
    {
     "name": "stderr",
     "output_type": "stream",
     "text": [
      "/opt/conda/lib/python3.7/site-packages/torchvision/datasets/mnist.py:498: UserWarning: The given NumPy array is not writeable, and PyTorch does not support non-writeable tensors. This means you can write to the underlying (supposedly non-writeable) NumPy array using the tensor. You may want to copy the array to protect its data or make it writeable before converting it to a tensor. This type of warning will be suppressed for the rest of this program. (Triggered internally at  /usr/local/src/pytorch/torch/csrc/utils/tensor_numpy.cpp:174.)\n",
      "  return torch.from_numpy(parsed.astype(m[2], copy=False)).view(*s)\n"
     ]
    }
   ],
   "source": [
    "train_dataset = datasets.MNIST('', train=True, download=True, transform= get_train_transforms((0.1307,), (0.3081,), size))"
   ]
  },
  {
   "cell_type": "code",
   "execution_count": 6,
   "id": "9dfdc260",
   "metadata": {
    "execution": {
     "iopub.execute_input": "2022-05-01T00:53:05.228909Z",
     "iopub.status.busy": "2022-05-01T00:53:05.228494Z",
     "iopub.status.idle": "2022-05-01T00:53:05.255389Z",
     "shell.execute_reply": "2022-05-01T00:53:05.254594Z"
    },
    "papermill": {
     "duration": 0.150451,
     "end_time": "2022-05-01T00:53:05.258062",
     "exception": false,
     "start_time": "2022-05-01T00:53:05.107611",
     "status": "completed"
    },
    "tags": []
   },
   "outputs": [],
   "source": [
    "val_dataset = datasets.MNIST(root='', train=False, download=True, transform=get_val_transforms((0.1307,), (0.3081,), size))"
   ]
  },
  {
   "cell_type": "code",
   "execution_count": 7,
   "id": "61462892",
   "metadata": {
    "execution": {
     "iopub.execute_input": "2022-05-01T00:53:05.465575Z",
     "iopub.status.busy": "2022-05-01T00:53:05.465307Z",
     "iopub.status.idle": "2022-05-01T00:53:05.469740Z",
     "shell.execute_reply": "2022-05-01T00:53:05.468901Z"
    },
    "papermill": {
     "duration": 0.0888,
     "end_time": "2022-05-01T00:53:05.471788",
     "exception": false,
     "start_time": "2022-05-01T00:53:05.382988",
     "status": "completed"
    },
    "tags": []
   },
   "outputs": [],
   "source": [
    "train_loader = torch.utils.data.DataLoader(train_dataset,batch_size=batch_size_train, shuffle=True)"
   ]
  },
  {
   "cell_type": "code",
   "execution_count": 8,
   "id": "12342e23",
   "metadata": {
    "execution": {
     "iopub.execute_input": "2022-05-01T00:53:05.633477Z",
     "iopub.status.busy": "2022-05-01T00:53:05.632784Z",
     "iopub.status.idle": "2022-05-01T00:53:05.710182Z",
     "shell.execute_reply": "2022-05-01T00:53:05.709299Z"
    },
    "papermill": {
     "duration": 0.160683,
     "end_time": "2022-05-01T00:53:05.712400",
     "exception": false,
     "start_time": "2022-05-01T00:53:05.551717",
     "status": "completed"
    },
    "tags": []
   },
   "outputs": [
    {
     "name": "stdout",
     "output_type": "stream",
     "text": [
      "469\n"
     ]
    }
   ],
   "source": [
    "print(len(train_loader))\n",
    "examples = enumerate(train_loader)\n",
    "batch_idx, (example_data, example_targets) = next(examples)"
   ]
  },
  {
   "cell_type": "code",
   "execution_count": 9,
   "id": "387e94c2",
   "metadata": {
    "execution": {
     "iopub.execute_input": "2022-05-01T00:53:05.874117Z",
     "iopub.status.busy": "2022-05-01T00:53:05.873852Z",
     "iopub.status.idle": "2022-05-01T00:53:06.340405Z",
     "shell.execute_reply": "2022-05-01T00:53:06.339676Z"
    },
    "papermill": {
     "duration": 0.549984,
     "end_time": "2022-05-01T00:53:06.342455",
     "exception": false,
     "start_time": "2022-05-01T00:53:05.792471",
     "status": "completed"
    },
    "tags": []
   },
   "outputs": [
    {
     "data": {
      "image/png": "[encoded data removed]",
      "text/plain": [
       "<Figure size 432x288 with 6 Axes>"
      ]
     },
     "metadata": {},
     "output_type": "display_data"
    }
   ],
   "source": [
    "fig = plt.figure()\n",
    "for i in range(6):\n",
    "  plt.subplot(2,3,i+1)\n",
    "  plt.tight_layout()\n",
    "  plt.imshow(example_data[i][0], cmap='gray', interpolation='none')\n",
    "  plt.title(\"Ground Truth: {}\".format(example_targets[i]))\n",
    "  plt.xticks([])\n",
    "  plt.yticks([])"
   ]
  },
  {
   "cell_type": "code",
   "execution_count": 10,
   "id": "8844b786",
   "metadata": {
    "execution": {
     "iopub.execute_input": "2022-05-01T00:53:06.506903Z",
     "iopub.status.busy": "2022-05-01T00:53:06.506623Z",
     "iopub.status.idle": "2022-05-01T00:53:06.513356Z",
     "shell.execute_reply": "2022-05-01T00:53:06.512490Z"
    },
    "papermill": {
     "duration": 0.090863,
     "end_time": "2022-05-01T00:53:06.515363",
     "exception": false,
     "start_time": "2022-05-01T00:53:06.424500",
     "status": "completed"
    },
    "tags": []
   },
   "outputs": [],
   "source": [
    "def preprocess_test(data, mean, std, size=None):\n",
    "    N, H, W, C = data.shape\n",
    "    if size==None:\n",
    "        Y = torch.zeros(N, C, H, W)\n",
    "        transform_test = get_val_transforms((0.1307,), (0.3081,), size)\n",
    "    else:  \n",
    "        Y = torch.zeros(N, C, size, size)\n",
    "        transform_test = transforms.Compose([\n",
    "            transforms.ToPILImage(),\n",
    "            transforms.Resize(size),\n",
    "            transforms.ToTensor(),\n",
    "            transforms.Normalize(mean, std)\n",
    "        ])\n",
    "\n",
    "    for n in range(len(data)):\n",
    "        Y[n] =  transform_test(data[n])\n",
    "        \n",
    "    return Y"
   ]
  },
  {
   "cell_type": "code",
   "execution_count": 11,
   "id": "251558be",
   "metadata": {
    "execution": {
     "iopub.execute_input": "2022-05-01T00:53:06.683492Z",
     "iopub.status.busy": "2022-05-01T00:53:06.682878Z",
     "iopub.status.idle": "2022-05-01T00:53:07.364260Z",
     "shell.execute_reply": "2022-05-01T00:53:07.363528Z"
    },
    "papermill": {
     "duration": 0.769982,
     "end_time": "2022-05-01T00:53:07.366436",
     "exception": false,
     "start_time": "2022-05-01T00:53:06.596454",
     "status": "completed"
    },
    "tags": []
   },
   "outputs": [],
   "source": [
    "chal_data = np.load('mnist_c/' + 'translate/' + 'test_images.npy')\n",
    "chal_data = preprocess_test(chal_data, (0.1307,), (0.3081,), size)\n",
    "chal_labels = val_dataset.targets\n",
    "# chal_labels = torch.Tensor(chal_labels, dtype='long')\n",
    "# chal_labels = chal_labels.long()\n",
    "chal_dataset = torch.utils.data.TensorDataset(chal_data, chal_labels)\n",
    "chal_loader = torch.utils.data.DataLoader(chal_dataset, batch_size=batch_size_test)"
   ]
  },
  {
   "cell_type": "code",
   "execution_count": 12,
   "id": "dc004372",
   "metadata": {
    "execution": {
     "iopub.execute_input": "2022-05-01T00:53:07.534204Z",
     "iopub.status.busy": "2022-05-01T00:53:07.533942Z",
     "iopub.status.idle": "2022-05-01T00:53:07.541653Z",
     "shell.execute_reply": "2022-05-01T00:53:07.540799Z"
    },
    "papermill": {
     "duration": 0.092576,
     "end_time": "2022-05-01T00:53:07.543563",
     "exception": false,
     "start_time": "2022-05-01T00:53:07.450987",
     "status": "completed"
    },
    "tags": []
   },
   "outputs": [
    {
     "name": "stdout",
     "output_type": "stream",
     "text": [
      "79\n"
     ]
    }
   ],
   "source": [
    "print(len(chal_loader))\n",
    "examples = enumerate(chal_loader)\n",
    "batch_idx, (example_data, example_targets) = next(examples)"
   ]
  },
  {
   "cell_type": "code",
   "execution_count": 13,
   "id": "26e60b10",
   "metadata": {
    "execution": {
     "iopub.execute_input": "2022-05-01T00:53:07.713527Z",
     "iopub.status.busy": "2022-05-01T00:53:07.713240Z",
     "iopub.status.idle": "2022-05-01T00:53:08.178397Z",
     "shell.execute_reply": "2022-05-01T00:53:08.177700Z"
    },
    "papermill": {
     "duration": 0.554148,
     "end_time": "2022-05-01T00:53:08.180183",
     "exception": false,
     "start_time": "2022-05-01T00:53:07.626035",
     "status": "completed"
    },
    "tags": []
   },
   "outputs": [
    {
     "data": {
      "image/png": "[encoded data removed]",
      "text/plain": [
       "<Figure size 432x288 with 6 Axes>"
      ]
     },
     "metadata": {},
     "output_type": "display_data"
    }
   ],
   "source": [
    "fig = plt.figure()\n",
    "for i in range(6):\n",
    "  plt.subplot(2,3,i+1)\n",
    "  plt.tight_layout()\n",
    "  plt.imshow(example_data[i][0], cmap='gray', interpolation='none')\n",
    "  plt.title(\"Ground Truth: {}\".format(example_targets[i]))\n",
    "  plt.xticks([])\n",
    "  plt.yticks([])"
   ]
  },
  {
   "cell_type": "code",
   "execution_count": 14,
   "id": "7836c105",
   "metadata": {
    "execution": {
     "iopub.execute_input": "2022-05-01T00:53:08.345478Z",
     "iopub.status.busy": "2022-05-01T00:53:08.345217Z",
     "iopub.status.idle": "2022-05-01T00:53:08.487838Z",
     "shell.execute_reply": "2022-05-01T00:53:08.487152Z"
    },
    "papermill": {
     "duration": 0.227945,
     "end_time": "2022-05-01T00:53:08.489833",
     "exception": false,
     "start_time": "2022-05-01T00:53:08.261888",
     "status": "completed"
    },
    "tags": []
   },
   "outputs": [],
   "source": [
    "class ResNet(nn.Module):\n",
    "    def __init__(self, num_layers, in_channels, output_dim, pretrained = True,freeze_pretrained=False):\n",
    "        super().__init__()\n",
    "\n",
    "        self.conv_layers = None\n",
    "        self.fc_layers = None\n",
    "        self.loss_criterion = None\n",
    "\n",
    "        if num_layers == 18:\n",
    "            resnet_model = models.resnet18(pretrained=pretrained)\n",
    "        elif num_layers == 34:\n",
    "            resnet_model = models.resnet34(pretrained=pretrained)\n",
    "        if in_channels == 1:\n",
    "            conv1 = nn.Conv2d(1, 64, kernel_size=(7, 7), stride=(2, 2), padding=(3, 3), bias=False)\n",
    "            if pretrained:\n",
    "                conv1.weight = nn.Parameter(torch.mean(resnet_model.conv1.weight, dim=1, keepdim=True))\n",
    "            resnet_model.conv1 = conv1\n",
    "        self.conv_layers = nn.Sequential(*(list(resnet_model.children())[:-1]))\n",
    "        self.fc_layers = nn.Sequential(torch.nn.Linear(list(resnet_model.children())[-1].in_features, output_dim))\n",
    "        if freeze_pretrained:\n",
    "            for param in self.conv_layers.parameters():\n",
    "                param.requires_grad = False\n",
    "\n",
    "    def forward(self, x: torch.Tensor) -> torch.Tensor:\n",
    "        model_output = self.conv_layers(x)\n",
    "        model_output = model_output.view(model_output.shape[0], -1)\n",
    "        model_output = self.fc_layers(model_output)\n",
    "\n",
    "        return model_output"
   ]
  },
  {
   "cell_type": "code",
   "execution_count": 15,
   "id": "7110fc73",
   "metadata": {
    "execution": {
     "iopub.execute_input": "2022-05-01T00:53:08.668505Z",
     "iopub.status.busy": "2022-05-01T00:53:08.668180Z",
     "iopub.status.idle": "2022-05-01T00:53:08.681627Z",
     "shell.execute_reply": "2022-05-01T00:53:08.680924Z"
    },
    "papermill": {
     "duration": 0.112953,
     "end_time": "2022-05-01T00:53:08.684409",
     "exception": false,
     "start_time": "2022-05-01T00:53:08.571456",
     "status": "completed"
    },
    "tags": []
   },
   "outputs": [],
   "source": [
    "class VGG16(nn.Module):\n",
    "    def __init__(self, in_channels, output_dim):\n",
    "        super().__init__()\n",
    "        model = models.vgg16_bn()\n",
    "        model.classifier = nn.Sequential(\n",
    "            nn.Linear(in_features=model.classifier[0].in_features, out_features=100, bias=True),\n",
    "            nn.ReLU(inplace=True),\n",
    "            nn.Dropout(p=0.5, inplace=False),\n",
    "            nn.Linear(in_features=100, out_features=output_dim, bias=True)\n",
    "        )\n",
    "        model.features[0] = nn.Conv2d(1, 64, kernel_size=(3, 3), stride=(1, 1), padding=(1, 1))\n",
    "        self.model = model\n",
    "    \n",
    "    def forward(self, x: torch.Tensor) -> torch.Tensor:\n",
    "        model_output = self.model(x)\n",
    "\n",
    "        return model_output"
   ]
  },
  {
   "cell_type": "code",
   "execution_count": 16,
   "id": "cde1a4bf",
   "metadata": {
    "execution": {
     "iopub.execute_input": "2022-05-01T00:53:08.866475Z",
     "iopub.status.busy": "2022-05-01T00:53:08.866219Z",
     "iopub.status.idle": "2022-05-01T00:53:08.873631Z",
     "shell.execute_reply": "2022-05-01T00:53:08.872960Z"
    },
    "papermill": {
     "duration": 0.093394,
     "end_time": "2022-05-01T00:53:08.875425",
     "exception": false,
     "start_time": "2022-05-01T00:53:08.782031",
     "status": "completed"
    },
    "tags": []
   },
   "outputs": [],
   "source": [
    "def plot_loss_history(train_loss_history, validation_loss_history):\n",
    "        \"\"\"Plots the loss history\"\"\"\n",
    "        plt.figure()\n",
    "        epoch_idxs = range(len(train_loss_history))\n",
    "\n",
    "        plt.plot(epoch_idxs, train_loss_history, \"-b\", label=\"training\")\n",
    "        plt.plot(epoch_idxs, validation_loss_history, \"-r\", label=\"validation\")\n",
    "        plt.title(\"Loss history\")\n",
    "        plt.legend()\n",
    "        plt.ylabel(\"Loss\")\n",
    "        plt.xlabel(\"Epochs\")\n",
    "        plt.show()\n",
    "\n",
    "def plot_accuracy(train_accuracy_history, validation_accuracy_history):\n",
    "    \"\"\"Plots the accuracy history\"\"\"\n",
    "    plt.figure()\n",
    "    epoch_idxs = range(len(train_accuracy_history))\n",
    "    plt.plot(epoch_idxs, train_accuracy_history, \"-b\", label=\"training\")\n",
    "    plt.plot(epoch_idxs, validation_accuracy_history, \"-r\", label=\"validation\")\n",
    "    plt.title(\"Accuracy history\")\n",
    "    plt.legend()\n",
    "    plt.ylabel(\"Accuracy\")\n",
    "    plt.xlabel(\"Epochs\")\n",
    "    plt.show()"
   ]
  },
  {
   "cell_type": "code",
   "execution_count": 17,
   "id": "48a57906",
   "metadata": {
    "execution": {
     "iopub.execute_input": "2022-05-01T00:53:09.042073Z",
     "iopub.status.busy": "2022-05-01T00:53:09.041725Z",
     "iopub.status.idle": "2022-05-01T00:53:09.057332Z",
     "shell.execute_reply": "2022-05-01T00:53:09.056657Z"
    },
    "papermill": {
     "duration": 0.100427,
     "end_time": "2022-05-01T00:53:09.059022",
     "exception": false,
     "start_time": "2022-05-01T00:53:08.958595",
     "status": "completed"
    },
    "tags": []
   },
   "outputs": [],
   "source": [
    "def train_model(model, dataloaders, dataset_sizes, criterion, optimizer, scheduler, num_epochs=25):\n",
    "    device = torch.device(\"cuda:0\" if torch.cuda.is_available() else \"cpu\")\n",
    "    since = time.time()\n",
    "    loss_history= []\n",
    "    acc_history = []\n",
    "    best_model_wts = copy.deepcopy(model.state_dict())\n",
    "    best_acc = 0.0\n",
    "    num_train_batches = len(dataloaders['train'])\n",
    "    num_val_batches = len(dataloaders['val'])\n",
    "\n",
    "    for epoch in range(num_epochs):\n",
    "        print('Epoch {}/{}'.format(epoch+1, num_epochs))\n",
    "        print('-' * 10)\n",
    "\n",
    "        # Each epoch has a training and validation phase\n",
    "        for phase in ['train', 'val']:\n",
    "            if phase == 'train':\n",
    "#                 scheduler.step()\n",
    "                model.train()  # Set model to training mode\n",
    "            else:\n",
    "                model.eval()   # Set model to evaluate mode\n",
    "\n",
    "            running_loss = 0.0\n",
    "            running_corrects = 0\n",
    "\n",
    "            for i,(inputs, labels) in enumerate(dataloaders[phase]):\n",
    "                inputs = inputs.to(device)\n",
    "                labels = labels.to(device)\n",
    "\n",
    "                optimizer.zero_grad()\n",
    "\n",
    "                with torch.set_grad_enabled(phase == 'train'):\n",
    "                    outputs = model(inputs)\n",
    "                    _, preds = torch.max(outputs, 1)\n",
    "                    loss = criterion(outputs, labels)\n",
    "\n",
    "                    if phase == 'train':\n",
    "                        loss.backward()\n",
    "                        optimizer.step()\n",
    "\n",
    "                # statistics\n",
    "                running_loss += loss.item()\n",
    "                running_corrects += torch.sum(preds == labels.data)\n",
    "                print(\"\\rIteration: {}/{}, Loss: {}.\".format(i+1, len(dataloaders[phase]), loss.item()), end=\"\")\n",
    "\n",
    "#                 print( (i+1)*100. / len(dataloaders[phase]), \"% Complete\" )\n",
    "                sys.stdout.flush()\n",
    "                \n",
    "            if phase == 'train':\n",
    "                if scheduler != None:\n",
    "                    scheduler.step()\n",
    "            epoch_loss = running_loss\n",
    "            epoch_acc = running_corrects.double() / dataset_sizes[phase]\n",
    "            if phase == 'train':\n",
    "                avg_loss = epoch_loss\n",
    "                t_acc = epoch_acc\n",
    "            else:\n",
    "                val_loss = epoch_loss\n",
    "                val_acc = epoch_acc\n",
    "            \n",
    "\n",
    "            if phase == 'val' and epoch_acc > best_acc:\n",
    "                best_acc = epoch_acc\n",
    "                best_model_wts = copy.deepcopy(model.state_dict())\n",
    "        avg_loss = avg_loss / num_train_batches\n",
    "        val_loss = val_loss/num_val_batches\n",
    "        loss_history.append([avg_loss, val_loss])\n",
    "        acc_history.append([t_acc, val_acc])\n",
    "        print('Train Loss: {:.4f} Acc: {:.4f}'.format(avg_loss, t_acc))\n",
    "        print(  'Val Loss: {:.4f} Acc: {:.4f}'.format(val_loss, val_acc))\n",
    "        print('Best Val Accuracy: {}'.format(best_acc))\n",
    "        print()\n",
    "    \n",
    "    time_elapsed = time.time() - since\n",
    "    print('Training complete in {:.0f}m {:.0f}s'.format(\n",
    "        time_elapsed // 60, time_elapsed % 60))\n",
    "    print('Best val Acc: {:4f}'.format(best_acc))\n",
    "\n",
    "    # load best model weights\n",
    "    model.load_state_dict(best_model_wts)\n",
    "    return model, loss_history, acc_history"
   ]
  },
  {
   "cell_type": "code",
   "execution_count": 18,
   "id": "c5d2de7a",
   "metadata": {
    "execution": {
     "iopub.execute_input": "2022-05-01T00:53:09.226568Z",
     "iopub.status.busy": "2022-05-01T00:53:09.225884Z",
     "iopub.status.idle": "2022-05-01T00:53:09.231447Z",
     "shell.execute_reply": "2022-05-01T00:53:09.230769Z"
    },
    "papermill": {
     "duration": 0.091115,
     "end_time": "2022-05-01T00:53:09.233066",
     "exception": false,
     "start_time": "2022-05-01T00:53:09.141951",
     "status": "completed"
    },
    "tags": []
   },
   "outputs": [],
   "source": [
    "train_loader = torch.utils.data.DataLoader(train_dataset,batch_size=batch_size_train, shuffle=True)\n",
    "val_loader = torch.utils.data.DataLoader(val_dataset,batch_size=batch_size_test, shuffle=True)\n",
    "dataset_sizes = {}\n",
    "dataset_sizes['train'] = len(train_dataset)\n",
    "dataset_sizes['val'] = len(val_dataset)\n",
    "dataloaders={}\n",
    "dataloaders['train'] = train_loader\n",
    "dataloaders['val'] = val_loader"
   ]
  },
  {
   "cell_type": "code",
   "execution_count": 19,
   "id": "a92cc508",
   "metadata": {
    "execution": {
     "iopub.execute_input": "2022-05-01T00:53:09.398324Z",
     "iopub.status.busy": "2022-05-01T00:53:09.397609Z",
     "iopub.status.idle": "2022-05-01T00:53:12.743030Z",
     "shell.execute_reply": "2022-05-01T00:53:12.742307Z"
    },
    "papermill": {
     "duration": 3.430651,
     "end_time": "2022-05-01T00:53:12.745142",
     "exception": false,
     "start_time": "2022-05-01T00:53:09.314491",
     "status": "completed"
    },
    "tags": []
   },
   "outputs": [],
   "source": [
    "if model_name == \"vgg16\":\n",
    "    model = VGG16(1, num_classes)\n",
    "else:\n",
    "    model = ResNet(18, 1, num_classes, pretrained = False)\n",
    "\n",
    "device = torch.device(\"cuda:0\" if torch.cuda.is_available() else \"cpu\")\n",
    "model = model.to(device)\n",
    "\n",
    "#Loss Function\n",
    "criterion = nn.CrossEntropyLoss()\n",
    "optimizer = optim.Adam(model.parameters(), lr = lr, weight_decay = wd)\n",
    "\n",
    "# Decay LR by a factor of 0.1 every 7 epochs\n",
    "# exp_lr_scheduler = lr_scheduler.StepLR(optimizer, step_size=7, gamma=0.1)"
   ]
  },
  {
   "cell_type": "code",
   "execution_count": 20,
   "id": "400b94e4",
   "metadata": {
    "execution": {
     "iopub.execute_input": "2022-05-01T00:53:12.913483Z",
     "iopub.status.busy": "2022-05-01T00:53:12.913223Z",
     "iopub.status.idle": "2022-05-01T01:16:09.970601Z",
     "shell.execute_reply": "2022-05-01T01:16:09.969931Z"
    },
    "papermill": {
     "duration": 1377.143357,
     "end_time": "2022-05-01T01:16:09.972679",
     "exception": false,
     "start_time": "2022-05-01T00:53:12.829322",
     "status": "completed"
    },
    "tags": []
   },
   "outputs": [
    {
     "name": "stdout",
     "output_type": "stream",
     "text": [
      "Epoch 1/8\n",
      "----------\n",
      "Iteration: 79/79, Loss: 0.005376119166612625.Train Loss: 0.1567 Acc: 0.9514\n",
      "Val Loss: 0.0506 Acc: 0.9853\n",
      "Best Val Accuracy: 0.9853000000000001\n",
      "\n",
      "Epoch 2/8\n",
      "----------\n",
      "Iteration: 79/79, Loss: 0.1364324986934662.Train Loss: 0.0723 Acc: 0.9779\n",
      "Val Loss: 0.0514 Acc: 0.9842\n",
      "Best Val Accuracy: 0.9853000000000001\n",
      "\n",
      "Epoch 3/8\n",
      "----------\n",
      "Iteration: 79/79, Loss: 0.09841533750295639.Train Loss: 0.0541 Acc: 0.9838\n",
      "Val Loss: 0.0396 Acc: 0.9882\n",
      "Best Val Accuracy: 0.9882000000000001\n",
      "\n",
      "Epoch 4/8\n",
      "----------\n",
      "Iteration: 79/79, Loss: 0.20553700625896454.Train Loss: 0.0473 Acc: 0.9856\n",
      "Val Loss: 0.0285 Acc: 0.9914\n",
      "Best Val Accuracy: 0.9914000000000001\n",
      "\n",
      "Epoch 5/8\n",
      "----------\n",
      "Iteration: 79/79, Loss: 0.08737781643867493.Train Loss: 0.0423 Acc: 0.9870\n",
      "Val Loss: 0.0320 Acc: 0.9902\n",
      "Best Val Accuracy: 0.9914000000000001\n",
      "\n",
      "Epoch 6/8\n",
      "----------\n",
      "Iteration: 79/79, Loss: 0.0003133004065603018.Train Loss: 0.0376 Acc: 0.9889\n",
      "Val Loss: 0.0175 Acc: 0.9945\n",
      "Best Val Accuracy: 0.9945\n",
      "\n",
      "Epoch 7/8\n",
      "----------\n",
      "Iteration: 79/79, Loss: 9.408103505847976e-05.Train Loss: 0.0346 Acc: 0.9898\n",
      "Val Loss: 0.0261 Acc: 0.9918\n",
      "Best Val Accuracy: 0.9945\n",
      "\n",
      "Epoch 8/8\n",
      "----------\n",
      "Iteration: 79/79, Loss: 0.0022400254383683205.Train Loss: 0.0346 Acc: 0.9894\n",
      "Val Loss: 0.0221 Acc: 0.9934\n",
      "Best Val Accuracy: 0.9945\n",
      "\n",
      "Training complete in 22m 57s\n",
      "Best val Acc: 0.994500\n"
     ]
    }
   ],
   "source": [
    "model, loss_history, acc_history = train_model(model, dataloaders, dataset_sizes, criterion, optimizer, None,num_epochs=n_epochs)"
   ]
  },
  {
   "cell_type": "code",
   "execution_count": 21,
   "id": "dc2309e6",
   "metadata": {
    "execution": {
     "iopub.execute_input": "2022-05-01T01:16:13.074173Z",
     "iopub.status.busy": "2022-05-01T01:16:13.073881Z",
     "iopub.status.idle": "2022-05-01T01:16:13.160297Z",
     "shell.execute_reply": "2022-05-01T01:16:13.159534Z"
    },
    "papermill": {
     "duration": 1.522129,
     "end_time": "2022-05-01T01:16:13.162576",
     "exception": false,
     "start_time": "2022-05-01T01:16:11.640447",
     "status": "completed"
    },
    "tags": []
   },
   "outputs": [],
   "source": [
    "torch.save(model.state_dict(), model_name + \"_baseline.pt\") "
   ]
  },
  {
   "cell_type": "code",
   "execution_count": 22,
   "id": "40118fee",
   "metadata": {
    "execution": {
     "iopub.execute_input": "2022-05-01T01:16:16.076962Z",
     "iopub.status.busy": "2022-05-01T01:16:16.076684Z",
     "iopub.status.idle": "2022-05-01T01:16:16.460491Z",
     "shell.execute_reply": "2022-05-01T01:16:16.459760Z"
    },
    "papermill": {
     "duration": 1.827991,
     "end_time": "2022-05-01T01:16:16.462231",
     "exception": false,
     "start_time": "2022-05-01T01:16:14.634240",
     "status": "completed"
    },
    "tags": []
   },
   "outputs": [
    {
     "data": {
      "image/png": "[encoded data removed]",
      "text/plain": [
       "<Figure size 432x288 with 1 Axes>"
      ]
     },
     "metadata": {
      "needs_background": "light"
     },
     "output_type": "display_data"
    },
    {
     "data": {
      "image/png": "[encoded data removed]",
      "text/plain": [
       "<Figure size 432x288 with 1 Axes>"
      ]
     },
     "metadata": {
      "needs_background": "light"
     },
     "output_type": "display_data"
    }
   ],
   "source": [
    "loss_history = pd.DataFrame(loss_history, columns=['train', 'val'])\n",
    "acc_history = pd.DataFrame(acc_history, columns=['train', 'val'])\n",
    "plot_loss_history(loss_history.loc[:, 'train'], loss_history.loc[:, 'val'])\n",
    "plot_accuracy(acc_history.loc[:, 'train'], acc_history.loc[:, 'val'])"
   ]
  },
  {
   "cell_type": "code",
   "execution_count": 23,
   "id": "c2e1f483",
   "metadata": {
    "execution": {
     "iopub.execute_input": "2022-05-01T01:16:19.308633Z",
     "iopub.status.busy": "2022-05-01T01:16:19.308372Z",
     "iopub.status.idle": "2022-05-01T01:16:19.352618Z",
     "shell.execute_reply": "2022-05-01T01:16:19.351944Z"
    },
    "papermill": {
     "duration": 1.474982,
     "end_time": "2022-05-01T01:16:19.354409",
     "exception": false,
     "start_time": "2022-05-01T01:16:17.879427",
     "status": "completed"
    },
    "tags": []
   },
   "outputs": [],
   "source": [
    "from copy import deepcopy\n",
    "\n",
    "import torch\n",
    "import torch.nn as nn\n",
    "import torch.jit\n",
    "\n",
    "\n",
    "class Tent(nn.Module):\n",
    "    \"\"\"Tent adapts a model by entropy minimization during testing.\n",
    "    Once tented, a model adapts itself by updating on every forward.\n",
    "    \"\"\"\n",
    "    def __init__(self, model, optimizer, steps=1, episodic=False):\n",
    "        super().__init__()\n",
    "        self.model = model\n",
    "        self.optimizer = optimizer\n",
    "        self.steps = steps\n",
    "        assert steps > 0, \"tent requires >= 1 step(s) to forward and update\"\n",
    "        self.episodic = episodic\n",
    "\n",
    "        # note: if the model is never reset, like for continual adaptation,\n",
    "        # then skipping the state copy would save memory\n",
    "        self.model_state, self.optimizer_state = \\\n",
    "            copy_model_and_optimizer(self.model, self.optimizer)\n",
    "\n",
    "    def forward(self, x):\n",
    "        if self.episodic:\n",
    "            self.reset()\n",
    "\n",
    "        for _ in range(self.steps):\n",
    "            outputs = forward_and_adapt(x, self.model, self.optimizer)\n",
    "\n",
    "        return outputs\n",
    "\n",
    "    def reset(self):\n",
    "        if self.model_state is None or self.optimizer_state is None:\n",
    "            raise Exception(\"cannot reset without saved model/optimizer state\")\n",
    "        load_model_and_optimizer(self.model, self.optimizer,\n",
    "                                 self.model_state, self.optimizer_state)\n",
    "\n",
    "\n",
    "@torch.jit.script\n",
    "def softmax_entropy(x: torch.Tensor) -> torch.Tensor:\n",
    "    \"\"\"Entropy of softmax distribution from logits.\"\"\"\n",
    "    return -(x.softmax(1) * x.log_softmax(1)).sum(1)\n",
    "\n",
    "\n",
    "@torch.enable_grad()  # ensure grads in possible no grad context for testing\n",
    "def forward_and_adapt(x, model, optimizer):\n",
    "    \"\"\"Forward and adapt model on batch of data.\n",
    "    Measure entropy of the model prediction, take gradients, and update params.\n",
    "    \"\"\"\n",
    "    # forward\n",
    "    outputs = model(x)\n",
    "    # adapt\n",
    "    loss = softmax_entropy(outputs).mean(0)\n",
    "    loss.backward()\n",
    "    optimizer.step()\n",
    "    optimizer.zero_grad()\n",
    "    return outputs\n",
    "\n",
    "\n",
    "def collect_params(model):\n",
    "    \"\"\"Collect the affine scale + shift parameters from batch norms.\n",
    "    Walk the model's modules and collect all batch normalization parameters.\n",
    "    Return the parameters and their names.\n",
    "    Note: other choices of parameterization are possible!\n",
    "    \"\"\"\n",
    "    params = []\n",
    "    names = []\n",
    "    for nm, m in model.named_modules():\n",
    "        if isinstance(m, nn.BatchNorm2d):\n",
    "            for np, p in m.named_parameters():\n",
    "                if np in ['weight', 'bias']:  # weight is scale, bias is shift\n",
    "                    params.append(p)\n",
    "                    names.append(f\"{nm}.{np}\")\n",
    "    return params, names\n",
    "\n",
    "\n",
    "def copy_model_and_optimizer(model, optimizer):\n",
    "    \"\"\"Copy the model and optimizer states for resetting after adaptation.\"\"\"\n",
    "    model_state = deepcopy(model.state_dict())\n",
    "    optimizer_state = deepcopy(optimizer.state_dict())\n",
    "    return model_state, optimizer_state\n",
    "\n",
    "\n",
    "def load_model_and_optimizer(model, optimizer, model_state, optimizer_state):\n",
    "    \"\"\"Restore the model and optimizer states from copies.\"\"\"\n",
    "    model.load_state_dict(model_state, strict=True)\n",
    "    optimizer.load_state_dict(optimizer_state)\n",
    "\n",
    "\n",
    "def configure_model(model):\n",
    "    \"\"\"Configure model for use with tent.\"\"\"\n",
    "    # train mode, because tent optimizes the model to minimize entropy\n",
    "    model.train()\n",
    "    # disable grad, to (re-)enable only what tent updates\n",
    "    model.requires_grad_(False)\n",
    "    # configure norm for tent updates: enable grad + force batch statisics\n",
    "    for m in model.modules():\n",
    "        if isinstance(m, nn.BatchNorm2d):\n",
    "            m.requires_grad_(True)\n",
    "            # force use of batch stats in train and eval modes\n",
    "            m.track_running_stats = False\n",
    "            m.running_mean = None\n",
    "            m.running_var = None\n",
    "    return model\n",
    "\n",
    "\n",
    "def check_model(model):\n",
    "    \"\"\"Check model for compatability with tent.\"\"\"\n",
    "    is_training = model.training\n",
    "    assert is_training, \"tent needs train mode: call model.train()\"\n",
    "    param_grads = [p.requires_grad for p in model.parameters()]\n",
    "    has_any_params = any(param_grads)\n",
    "    has_all_params = all(param_grads)\n",
    "    assert has_any_params, \"tent needs params to update: \" \\\n",
    "                           \"check which require grad\"\n",
    "    assert not has_all_params, \"tent should not update all params: \" \\\n",
    "                               \"check which require grad\"\n",
    "    has_bn = any([isinstance(m, nn.BatchNorm2d) for m in model.modules()])\n",
    "    assert has_bn, \"tent needs normalization for its optimization\""
   ]
  },
  {
   "cell_type": "code",
   "execution_count": 24,
   "id": "8c3f2dd1",
   "metadata": {
    "execution": {
     "iopub.execute_input": "2022-05-01T01:16:22.463439Z",
     "iopub.status.busy": "2022-05-01T01:16:22.463188Z",
     "iopub.status.idle": "2022-05-01T01:16:22.704114Z",
     "shell.execute_reply": "2022-05-01T01:16:22.703367Z"
    },
    "papermill": {
     "duration": 1.911292,
     "end_time": "2022-05-01T01:16:22.706566",
     "exception": false,
     "start_time": "2022-05-01T01:16:20.795274",
     "status": "completed"
    },
    "tags": []
   },
   "outputs": [],
   "source": [
    "if model_name == \"vgg16\":\n",
    "    model = VGG16(1, num_classes)\n",
    "else:\n",
    "    model = ResNet(18, 1, num_classes, pretrained = False)\n",
    "\n",
    "device = torch.device(\"cuda:0\" if torch.cuda.is_available() else \"cpu\")\n",
    "model.load_state_dict(torch.load(model_name+\"_baseline.pt\"))\n",
    "model = model.to(device)"
   ]
  },
  {
   "cell_type": "code",
   "execution_count": 25,
   "id": "038d7081",
   "metadata": {
    "execution": {
     "iopub.execute_input": "2022-05-01T01:16:26.296587Z",
     "iopub.status.busy": "2022-05-01T01:16:26.296265Z",
     "iopub.status.idle": "2022-05-01T01:16:37.824242Z",
     "shell.execute_reply": "2022-05-01T01:16:37.823514Z"
    },
    "papermill": {
     "duration": 13.232818,
     "end_time": "2022-05-01T01:16:37.826559",
     "exception": false,
     "start_time": "2022-05-01T01:16:24.593741",
     "status": "completed"
    },
    "tags": []
   },
   "outputs": [
    {
     "name": "stdout",
     "output_type": "stream",
     "text": [
      "Model:  resnet18\n",
      "###Test Set Accuracy on Clean Images with no TENT###\n",
      "Test loss: 0.0223 | Test acc.: 0.9934\n",
      "\n"
     ]
    }
   ],
   "source": [
    "print(\"Model: \", model_name)\n",
    "print(\"###Test Set Accuracy on Clean Images with no TENT###\")\n",
    "model.eval()\n",
    "test_loader = torch.utils.data.DataLoader(val_dataset, batch_size_test, shuffle=False)\n",
    "running_loss = 0.0\n",
    "running_acc = 0.0\n",
    "\n",
    "\n",
    "for i, batch in enumerate(test_loader):\n",
    "    inputs, labels = batch\n",
    "    inputs, labels = inputs.to(device), labels.to(device)\n",
    "\n",
    "    with torch.no_grad(): # Don't build computation graph for testing\n",
    "        outputs = model(inputs)\n",
    "    loss = nn.CrossEntropyLoss(reduction='mean')(outputs, labels)\n",
    "\n",
    "    _, preds = torch.max(outputs, 1)\n",
    "    running_loss += loss.detach() * inputs.size(0)\n",
    "    running_acc += torch.sum(preds == labels.data)\n",
    "\n",
    "# Get loss and accuracy\n",
    "test_loss = (running_loss / len(val_dataset))\n",
    "test_accuracy = (running_acc.float() / len(val_dataset))\n",
    "\n",
    "# Display loss, accuracy values after each epoch\n",
    "print(\"Test loss: {:.4f} | Test acc.: {:.4f}\\n\"\n",
    "            .format(test_loss.item(),test_accuracy.item()))"
   ]
  },
  {
   "cell_type": "code",
   "execution_count": 26,
   "id": "a0c8d498",
   "metadata": {
    "execution": {
     "iopub.execute_input": "2022-05-01T01:16:40.687297Z",
     "iopub.status.busy": "2022-05-01T01:16:40.687034Z",
     "iopub.status.idle": "2022-05-01T01:19:57.284934Z",
     "shell.execute_reply": "2022-05-01T01:19:57.283946Z"
    },
    "papermill": {
     "duration": 198.014192,
     "end_time": "2022-05-01T01:19:57.287288",
     "exception": false,
     "start_time": "2022-05-01T01:16:39.273096",
     "status": "completed"
    },
    "tags": []
   },
   "outputs": [
    {
     "name": "stdout",
     "output_type": "stream",
     "text": [
      "Model:  resnet18\n",
      "###Test Set Accuracy on Corrupted Images with no TENT###\n",
      "glass_blur :  0.8860999941825867  \n",
      "identity :  0.993399977684021  \n",
      "spatter :  0.981499969959259  \n",
      "dotted_line :  0.9271999597549438  \n",
      "translate :  0.7501999735832214  \n",
      "scale :  0.9520999789237976  \n",
      "motion_blur :  0.9657999873161316  \n",
      "shear :  0.9824999570846558  \n",
      "shot_noise :  0.9761999845504761  \n",
      "impulse_noise :  0.7519999742507935  \n",
      "stripe :  0.788599967956543  \n",
      "canny_edges :  0.3375999927520752  \n",
      "rotate :  0.9750999808311462  \n",
      "fog :  0.2231999933719635  \n",
      "zigzag :  0.8299999833106995  \n",
      "brightness :  0.7482999563217163  \n",
      "Mean:  0.8168624769896269\n"
     ]
    }
   ],
   "source": [
    "chal_labels = val_dataset.targets\n",
    "testset_c_dir = 'mnist_c/'\n",
    "challenges = os.listdir(testset_c_dir)\n",
    "print(\"Model: \", model_name)\n",
    "print(\"###Test Set Accuracy on Corrupted Images with no TENT###\")\n",
    "\n",
    "model.eval()\n",
    "avg_list = []\n",
    "for chal in challenges:\n",
    "    chal_avg = 0\n",
    "    for severity in range(1, 2):\n",
    "        chal_data = np.load(testset_c_dir + chal + '/test_images.npy')\n",
    "        chal_data = preprocess_test(chal_data, (0.1307,), (0.3081,),size)\n",
    "        chal_dataset = torch.utils.data.TensorDataset(chal_data, chal_labels)\n",
    "        test_loader = torch.utils.data.DataLoader(chal_dataset, batch_size=batch_size_test)\n",
    "\n",
    "        sev_acc = 0\n",
    "        with torch.no_grad():\n",
    "            for x, y in test_loader:\n",
    "                x = x.to(device)\n",
    "                y = y.to(device)\n",
    "\n",
    "                outputs = model(x)\n",
    "                sev_acc += torch.sum(torch.argmax(outputs,1) == y)\n",
    "\n",
    "        chal_avg += (sev_acc/len(chal_dataset)).item()\n",
    "    \n",
    "    avg_list.append(chal_avg)\n",
    "    print(chal, \": \", (chal_avg),\" \")\n",
    "\n",
    "print(\"Mean: \", np.mean(avg_list))"
   ]
  },
  {
   "cell_type": "code",
   "execution_count": 27,
   "id": "2ea8bd9d",
   "metadata": {
    "execution": {
     "iopub.execute_input": "2022-05-01T01:20:00.139831Z",
     "iopub.status.busy": "2022-05-01T01:20:00.139580Z",
     "iopub.status.idle": "2022-05-01T01:20:00.144549Z",
     "shell.execute_reply": "2022-05-01T01:20:00.143840Z"
    },
    "papermill": {
     "duration": 1.423106,
     "end_time": "2022-05-01T01:20:00.146164",
     "exception": false,
     "start_time": "2022-05-01T01:19:58.723058",
     "status": "completed"
    },
    "tags": []
   },
   "outputs": [],
   "source": [
    "baseresults= list(zip(challenges, avg_list))\n",
    "results = pd.DataFrame(baseresults, columns=['DistortionType', 'baseline_score'])\n",
    "# model_base.to_csv(model_name+\"_baseline.csv\")"
   ]
  },
  {
   "cell_type": "code",
   "execution_count": 28,
   "id": "b600788d",
   "metadata": {
    "execution": {
     "iopub.execute_input": "2022-05-01T01:20:03.326618Z",
     "iopub.status.busy": "2022-05-01T01:20:03.326357Z",
     "iopub.status.idle": "2022-05-01T01:20:21.707056Z",
     "shell.execute_reply": "2022-05-01T01:20:21.706317Z"
    },
    "papermill": {
     "duration": 20.077157,
     "end_time": "2022-05-01T01:20:21.709602",
     "exception": false,
     "start_time": "2022-05-01T01:20:01.632445",
     "status": "completed"
    },
    "tags": []
   },
   "outputs": [
    {
     "name": "stdout",
     "output_type": "stream",
     "text": [
      "Model:  resnet18\n",
      "###Test Set Accuracy on Clean Images with TENT###\n",
      "Test loss: 0.0227 | Test acc.: 0.9928\n",
      "\n"
     ]
    }
   ],
   "source": [
    "print(\"Model: \", model_name)\n",
    "print(\"###Test Set Accuracy on Clean Images with TENT###\")\n",
    "if model_name == \"vgg16\":\n",
    "    model = VGG16(1, num_classes)\n",
    "else:\n",
    "    model = ResNet(18, 1, num_classes, pretrained = False)\n",
    "    \n",
    "device = torch.device(\"cuda:0\" if torch.cuda.is_available() else \"cpu\")\n",
    "model.load_state_dict(torch.load(model_name+\"_baseline.pt\"))\n",
    "\n",
    "net = configure_model(model)\n",
    "params, param_names = collect_params(net)\n",
    "optimizer = torch.optim.Adam(params, lr=1e-3)\n",
    "tented_model = Tent(net, optimizer)\n",
    "\n",
    "tented_model = tented_model.to(device)\n",
    "tented_model.eval()\n",
    "test_loader = torch.utils.data.DataLoader(val_dataset, batch_size_test, shuffle=False)\n",
    "running_loss = 0.0\n",
    "running_acc = 0.0\n",
    "\n",
    "\n",
    "for i, batch in enumerate(test_loader):\n",
    "    inputs, labels = batch\n",
    "    inputs, labels = inputs.to(device), labels.to(device)\n",
    "\n",
    "    with torch.no_grad(): # Don't build computation graph for testing\n",
    "        outputs = tented_model(inputs)\n",
    "    loss = nn.CrossEntropyLoss(reduction='mean')(outputs, labels)\n",
    "\n",
    "    _, preds = torch.max(outputs, 1)\n",
    "    running_loss += loss.detach() * inputs.size(0)\n",
    "    running_acc += torch.sum(preds == labels.data)\n",
    "\n",
    "# Get loss and accuracy\n",
    "test_loss = (running_loss / len(val_dataset))\n",
    "test_accuracy = (running_acc.float() / len(val_dataset))\n",
    "\n",
    "# Display loss, accuracy values after each epoch\n",
    "print(\"Test loss: {:.4f} | Test acc.: {:.4f}\\n\"\n",
    "            .format(test_loss.item(),test_accuracy.item()))"
   ]
  },
  {
   "cell_type": "code",
   "execution_count": 29,
   "id": "82367761",
   "metadata": {
    "execution": {
     "iopub.execute_input": "2022-05-01T01:20:24.877291Z",
     "iopub.status.busy": "2022-05-01T01:20:24.876809Z",
     "iopub.status.idle": "2022-05-01T01:25:26.221335Z",
     "shell.execute_reply": "2022-05-01T01:25:26.220576Z"
    },
    "papermill": {
     "duration": 304.499746,
     "end_time": "2022-05-01T01:25:27.638272",
     "exception": false,
     "start_time": "2022-05-01T01:20:23.138526",
     "status": "completed"
    },
    "tags": []
   },
   "outputs": [
    {
     "name": "stdout",
     "output_type": "stream",
     "text": [
      "Model:  resnet18\n",
      "###Test Set Accuracy on Corrupted Images with TENT###\n",
      "glass_blur :  0.958899974822998  \n",
      "identity :  0.9927999973297119  \n",
      "spatter :  0.9830999970436096  \n",
      "dotted_line :  0.9763000011444092  \n",
      "translate :  0.7719999551773071  \n",
      "scale :  0.9733999967575073  \n",
      "motion_blur :  0.979699969291687  \n",
      "shear :  0.9836999773979187  \n",
      "shot_noise :  0.9856999516487122  \n",
      "impulse_noise :  0.9635999798774719  \n",
      "stripe :  0.9139999747276306  \n",
      "canny_edges :  0.9102999567985535  \n",
      "rotate :  0.9767999649047852  \n",
      "fog :  0.892799973487854  \n",
      "zigzag :  0.8937000036239624  \n",
      "brightness :  0.9891999959945679  \n",
      "Mean:  0.9466249793767929\n"
     ]
    }
   ],
   "source": [
    "chal_labels = val_dataset.targets\n",
    "testset_c_dir = 'mnist_c/'\n",
    "challenges = os.listdir(testset_c_dir)\n",
    "print(\"Model: \", model_name)\n",
    "print(\"###Test Set Accuracy on Corrupted Images with TENT###\")\n",
    "\n",
    "model.eval()\n",
    "avg_list = []\n",
    "for chal in challenges:\n",
    "    chal_avg = 0\n",
    "    for severity in range(1, 2):\n",
    "        if model_name == \"vgg16\":\n",
    "            model = VGG16(1, num_classes)\n",
    "        else:\n",
    "            model = ResNet(18, 1, num_classes, pretrained = False)\n",
    "\n",
    "        device = torch.device(\"cuda:0\" if torch.cuda.is_available() else \"cpu\")\n",
    "        model.load_state_dict(torch.load(model_name+\"_baseline.pt\"))\n",
    "        \n",
    "        net = configure_model(model)\n",
    "        params, param_names = collect_params(net)\n",
    "        optimizer = torch.optim.Adam(params, lr=1e-3)\n",
    "        tented_model = Tent(net, optimizer)\n",
    "\n",
    "        tented_model = tented_model.to(device)\n",
    "\n",
    "        chal_data = np.load(testset_c_dir + chal + '/test_images.npy')\n",
    "        chal_data = preprocess_test(chal_data, (0.1307,), (0.3081,), size)\n",
    "        chal_dataset = torch.utils.data.TensorDataset(chal_data, chal_labels)\n",
    "        test_loader = torch.utils.data.DataLoader(chal_dataset, batch_size=batch_size_test)\n",
    "\n",
    "        sev_acc = 0\n",
    "        with torch.no_grad():\n",
    "            for x, y in test_loader:\n",
    "                x = x.to(device)\n",
    "                y = y.to(device)\n",
    "\n",
    "                outputs = tented_model(x)\n",
    "                sev_acc += torch.sum(torch.argmax(outputs,1) == y)\n",
    "\n",
    "        chal_avg += (sev_acc/len(chal_dataset)).item()\n",
    "    \n",
    "    avg_list.append(chal_avg)\n",
    "    print(chal, \": \", (chal_avg),\" \")\n",
    "\n",
    "print(\"Mean: \", np.mean(avg_list))"
   ]
  },
  {
   "cell_type": "code",
   "execution_count": 30,
   "id": "8d41f59d",
   "metadata": {
    "execution": {
     "iopub.execute_input": "2022-05-01T01:25:30.600415Z",
     "iopub.status.busy": "2022-05-01T01:25:30.600149Z",
     "iopub.status.idle": "2022-05-01T01:25:30.609873Z",
     "shell.execute_reply": "2022-05-01T01:25:30.609215Z"
    },
    "papermill": {
     "duration": 1.511065,
     "end_time": "2022-05-01T01:25:30.611671",
     "exception": false,
     "start_time": "2022-05-01T01:25:29.100606",
     "status": "completed"
    },
    "tags": []
   },
   "outputs": [],
   "source": [
    "results[\"tent_score\"] = avg_list\n",
    "results.to_csv(model_name+'_results.csv')"
   ]
  },
  {
   "cell_type": "code",
   "execution_count": 31,
   "id": "f17314d7",
   "metadata": {
    "execution": {
     "iopub.execute_input": "2022-05-01T01:25:33.715407Z",
     "iopub.status.busy": "2022-05-01T01:25:33.714928Z",
     "iopub.status.idle": "2022-05-01T01:25:34.355925Z",
     "shell.execute_reply": "2022-05-01T01:25:34.355224Z"
    },
    "papermill": {
     "duration": 2.061921,
     "end_time": "2022-05-01T01:25:34.357777",
     "exception": false,
     "start_time": "2022-05-01T01:25:32.295856",
     "status": "completed"
    },
    "tags": []
   },
   "outputs": [
    {
     "data": {
      "image/png": "[encoded data removed]",
      "text/plain": [
       "<Figure size 864x432 with 1 Axes>"
      ]
     },
     "metadata": {
      "needs_background": "light"
     },
     "output_type": "display_data"
    }
   ],
   "source": [
    "types = results['DistortionType']\n",
    "plt.figure(figsize=(12,6))\n",
    "x_axis = np.arange(len(types))\n",
    "plt.bar(x_axis -0.1, results['baseline_score'], width=0.2, label = 'Base model')\n",
    "plt.bar(x_axis +0.1, results['tent_score'], width=0.2, label = 'Tented model')\n",
    "\n",
    "plt.xticks(x_axis, types)\n",
    "plt.title(\"Accuracy per distortion type\")\n",
    "plt.legend(loc = 'upper right', framealpha = 0.1)\n",
    "\n",
    "plt.xlabel(\"Distortion type\")\n",
    "plt.ylabel(\"Accuracy\")\n",
    "plt.savefig(\"mnistc_\" + model_name +\".pdf\",bbox_inches = \"tight\")"
   ]
  },
  {
   "cell_type": "code",
   "execution_count": null,
   "id": "6e2ac6ca",
   "metadata": {
    "papermill": {
     "duration": 1.422072,
     "end_time": "2022-05-01T01:25:37.225402",
     "exception": false,
     "start_time": "2022-05-01T01:25:35.803330",
     "status": "completed"
    },
    "tags": []
   },
   "outputs": [],
   "source": []
  }
 ],
 "metadata": {
  "kernelspec": {
   "display_name": "Python 3",
   "language": "python",
   "name": "python3"
  },
  "language_info": {
   "codemirror_mode": {
    "name": "ipython",
    "version": 3
   },
   "file_extension": ".py",
   "mimetype": "text/x-python",
   "name": "python",
   "nbconvert_exporter": "python",
   "pygments_lexer": "ipython3",
   "version": "3.7.12"
  },
  "papermill": {
   "default_parameters": {},
   "duration": 2008.772615,
   "end_time": "2022-05-01T01:25:39.794404",
   "environment_variables": {},
   "exception": null,
   "input_path": "__notebook__.ipynb",
   "output_path": "__notebook__.ipynb",
   "parameters": {},
   "start_time": "2022-05-01T00:52:11.021789",
   "version": "2.3.4"
  },
  "widgets": {
   "application/vnd.jupyter.widget-state+json": {
    "state": {
     "0ae0a4c25bb2410db4d44996298527cb": {
      "model_module": "@jupyter-widgets/controls",
      "model_module_version": "1.5.0",
      "model_name": "HTMLModel",
      "state": {
       "_dom_classes": [],
       "_model_module": "@jupyter-widgets/controls",
       "_model_module_version": "1.5.0",
       "_model_name": "HTMLModel",
       "_view_count": null,
       "_view_module": "@jupyter-widgets/controls",
       "_view_module_version": "1.5.0",
       "_view_name": "HTMLView",
       "description": "",
       "description_tooltip": null,
       "layout": "IPY_MODEL_16cceb59162840d0af4bcf17e1bb59cb",
       "placeholder": "​",
       "style": "IPY_MODEL_d8abe0025e874336b596ebc0bcce4391",
       "value": " 9913344/? [00:00&lt;00:00, 31528764.56it/s]"
      }
     },
     "110cea4163b44861bed72e9eed67a366": {
      "model_module": "@jupyter-widgets/controls",
      "model_module_version": "1.5.0",
      "model_name": "ProgressStyleModel",
      "state": {
       "_model_module": "@jupyter-widgets/controls",
       "_model_module_version": "1.5.0",
       "_model_name": "ProgressStyleModel",
       "_view_count": null,
       "_view_module": "@jupyter-widgets/base",
       "_view_module_version": "1.2.0",
       "_view_name": "StyleView",
       "bar_color": null,
       "description_width": ""
      }
     },
     "140dc2a5ef034120af4b12c8f99c27ac": {
      "model_module": "@jupyter-widgets/controls",
      "model_module_version": "1.5.0",
      "model_name": "FloatProgressModel",
      "state": {
       "_dom_classes": [],
       "_model_module": "@jupyter-widgets/controls",
       "_model_module_version": "1.5.0",
       "_model_name": "FloatProgressModel",
       "_view_count": null,
       "_view_module": "@jupyter-widgets/controls",
       "_view_module_version": "1.5.0",
       "_view_name": "ProgressView",
       "bar_style": "success",
       "description": "",
       "description_tooltip": null,
       "layout": "IPY_MODEL_fd0d74f818c44d6b8c2b249d5a95d667",
       "max": 4542,
       "min": 0,
       "orientation": "horizontal",
       "style": "IPY_MODEL_b58a853ba6a44b6a839976f0eec07240",
       "value": 4542
      }
     },
     "16cceb59162840d0af4bcf17e1bb59cb": {
      "model_module": "@jupyter-widgets/base",
      "model_module_version": "1.2.0",
      "model_name": "LayoutModel",
      "state": {
       "_model_module": "@jupyter-widgets/base",
       "_model_module_version": "1.2.0",
       "_model_name": "LayoutModel",
       "_view_count": null,
       "_view_module": "@jupyter-widgets/base",
       "_view_module_version": "1.2.0",
       "_view_name": "LayoutView",
       "align_content": null,
       "align_items": null,
       "align_self": null,
       "border": null,
       "bottom": null,
       "display": null,
       "flex": null,
       "flex_flow": null,
       "grid_area": null,
       "grid_auto_columns": null,
       "grid_auto_flow": null,
       "grid_auto_rows": null,
       "grid_column": null,
       "grid_gap": null,
       "grid_row": null,
       "grid_template_areas": null,
       "grid_template_columns": null,
       "grid_template_rows": null,
       "height": null,
       "justify_content": null,
       "justify_items": null,
       "left": null,
       "margin": null,
       "max_height": null,
       "max_width": null,
       "min_height": null,
       "min_width": null,
       "object_fit": null,
       "object_position": null,
       "order": null,
       "overflow": null,
       "overflow_x": null,
       "overflow_y": null,
       "padding": null,
       "right": null,
       "top": null,
       "visibility": null,
       "width": null
      }
     },
     "1cc8facad4d54179b1233afe762cb23b": {
      "model_module": "@jupyter-widgets/base",
      "model_module_version": "1.2.0",
      "model_name": "LayoutModel",
      "state": {
       "_model_module": "@jupyter-widgets/base",
       "_model_module_version": "1.2.0",
       "_model_name": "LayoutModel",
       "_view_count": null,
       "_view_module": "@jupyter-widgets/base",
       "_view_module_version": "1.2.0",
       "_view_name": "LayoutView",
       "align_content": null,
       "align_items": null,
       "align_self": null,
       "border": null,
       "bottom": null,
       "display": null,
       "flex": null,
       "flex_flow": null,
       "grid_area": null,
       "grid_auto_columns": null,
       "grid_auto_flow": null,
       "grid_auto_rows": null,
       "grid_column": null,
       "grid_gap": null,
       "grid_row": null,
       "grid_template_areas": null,
       "grid_template_columns": null,
       "grid_template_rows": null,
       "height": null,
       "justify_content": null,
       "justify_items": null,
       "left": null,
       "margin": null,
       "max_height": null,
       "max_width": null,
       "min_height": null,
       "min_width": null,
       "object_fit": null,
       "object_position": null,
       "order": null,
       "overflow": null,
       "overflow_x": null,
       "overflow_y": null,
       "padding": null,
       "right": null,
       "top": null,
       "visibility": null,
       "width": null
      }
     },
     "2037833ce7f04ed3b42e5bd1af6fa348": {
      "model_module": "@jupyter-widgets/controls",
      "model_module_version": "1.5.0",
      "model_name": "HBoxModel",
      "state": {
       "_dom_classes": [],
       "_model_module": "@jupyter-widgets/controls",
       "_model_module_version": "1.5.0",
       "_model_name": "HBoxModel",
       "_view_count": null,
       "_view_module": "@jupyter-widgets/controls",
       "_view_module_version": "1.5.0",
       "_view_name": "HBoxView",
       "box_style": "",
       "children": [
        "IPY_MODEL_76cdbfa192344eb3a333daa3afd5fc3e",
        "IPY_MODEL_7bb4fb9389524ad3928830d602f738bd",
        "IPY_MODEL_412e3d6acf0a4a2a9412724f127911e0"
       ],
       "layout": "IPY_MODEL_f8662930c6f246b58debaa3a302edcd4"
      }
     },
     "2293999c8bf5432d92fc7bdc012c3df9": {
      "model_module": "@jupyter-widgets/controls",
      "model_module_version": "1.5.0",
      "model_name": "FloatProgressModel",
      "state": {
       "_dom_classes": [],
       "_model_module": "@jupyter-widgets/controls",
       "_model_module_version": "1.5.0",
       "_model_name": "FloatProgressModel",
       "_view_count": null,
       "_view_module": "@jupyter-widgets/controls",
       "_view_module_version": "1.5.0",
       "_view_name": "ProgressView",
       "bar_style": "success",
       "description": "",
       "description_tooltip": null,
       "layout": "IPY_MODEL_f177af869a904a319acfc248938d0173",
       "max": 28881,
       "min": 0,
       "orientation": "horizontal",
       "style": "IPY_MODEL_110cea4163b44861bed72e9eed67a366",
       "value": 28881
      }
     },
     "2603a2e4d96c4b78997e612063a54a54": {
      "model_module": "@jupyter-widgets/controls",
      "model_module_version": "1.5.0",
      "model_name": "ProgressStyleModel",
      "state": {
       "_model_module": "@jupyter-widgets/controls",
       "_model_module_version": "1.5.0",
       "_model_name": "ProgressStyleModel",
       "_view_count": null,
       "_view_module": "@jupyter-widgets/base",
       "_view_module_version": "1.2.0",
       "_view_name": "StyleView",
       "bar_color": null,
       "description_width": ""
      }
     },
     "2641f70af75f4496995aaf9bf75650dd": {
      "model_module": "@jupyter-widgets/controls",
      "model_module_version": "1.5.0",
      "model_name": "HTMLModel",
      "state": {
       "_dom_classes": [],
       "_model_module": "@jupyter-widgets/controls",
       "_model_module_version": "1.5.0",
       "_model_name": "HTMLModel",
       "_view_count": null,
       "_view_module": "@jupyter-widgets/controls",
       "_view_module_version": "1.5.0",
       "_view_name": "HTMLView",
       "description": "",
       "description_tooltip": null,
       "layout": "IPY_MODEL_364439ba99e34252a495ba63536654c4",
       "placeholder": "​",
       "style": "IPY_MODEL_c79afe6c390248658bc3eb39088d7834",
       "value": ""
      }
     },
     "31680fc0383d4efb9206c254ffb6e59c": {
      "model_module": "@jupyter-widgets/controls",
      "model_module_version": "1.5.0",
      "model_name": "HTMLModel",
      "state": {
       "_dom_classes": [],
       "_model_module": "@jupyter-widgets/controls",
       "_model_module_version": "1.5.0",
       "_model_name": "HTMLModel",
       "_view_count": null,
       "_view_module": "@jupyter-widgets/controls",
       "_view_module_version": "1.5.0",
       "_view_name": "HTMLView",
       "description": "",
       "description_tooltip": null,
       "layout": "IPY_MODEL_8fffc64a0dd246349dd55726e69484e2",
       "placeholder": "​",
       "style": "IPY_MODEL_36ea8630507a47dfb6e29194984ca323",
       "value": ""
      }
     },
     "364439ba99e34252a495ba63536654c4": {
      "model_module": "@jupyter-widgets/base",
      "model_module_version": "1.2.0",
      "model_name": "LayoutModel",
      "state": {
       "_model_module": "@jupyter-widgets/base",
       "_model_module_version": "1.2.0",
       "_model_name": "LayoutModel",
       "_view_count": null,
       "_view_module": "@jupyter-widgets/base",
       "_view_module_version": "1.2.0",
       "_view_name": "LayoutView",
       "align_content": null,
       "align_items": null,
       "align_self": null,
       "border": null,
       "bottom": null,
       "display": null,
       "flex": null,
       "flex_flow": null,
       "grid_area": null,
       "grid_auto_columns": null,
       "grid_auto_flow": null,
       "grid_auto_rows": null,
       "grid_column": null,
       "grid_gap": null,
       "grid_row": null,
       "grid_template_areas": null,
       "grid_template_columns": null,
       "grid_template_rows": null,
       "height": null,
       "justify_content": null,
       "justify_items": null,
       "left": null,
       "margin": null,
       "max_height": null,
       "max_width": null,
       "min_height": null,
       "min_width": null,
       "object_fit": null,
       "object_position": null,
       "order": null,
       "overflow": null,
       "overflow_x": null,
       "overflow_y": null,
       "padding": null,
       "right": null,
       "top": null,
       "visibility": null,
       "width": null
      }
     },
     "36ea8630507a47dfb6e29194984ca323": {
      "model_module": "@jupyter-widgets/controls",
      "model_module_version": "1.5.0",
      "model_name": "DescriptionStyleModel",
      "state": {
       "_model_module": "@jupyter-widgets/controls",
       "_model_module_version": "1.5.0",
       "_model_name": "DescriptionStyleModel",
       "_view_count": null,
       "_view_module": "@jupyter-widgets/base",
       "_view_module_version": "1.2.0",
       "_view_name": "StyleView",
       "description_width": ""
      }
     },
     "3dcec371f9b945ccb48a79adadd59e74": {
      "model_module": "@jupyter-widgets/controls",
      "model_module_version": "1.5.0",
      "model_name": "HTMLModel",
      "state": {
       "_dom_classes": [],
       "_model_module": "@jupyter-widgets/controls",
       "_model_module_version": "1.5.0",
       "_model_name": "HTMLModel",
       "_view_count": null,
       "_view_module": "@jupyter-widgets/controls",
       "_view_module_version": "1.5.0",
       "_view_name": "HTMLView",
       "description": "",
       "description_tooltip": null,
       "layout": "IPY_MODEL_1cc8facad4d54179b1233afe762cb23b",
       "placeholder": "​",
       "style": "IPY_MODEL_dee9a91f082a4991972823fb3dae20a9",
       "value": " 29696/? [00:00&lt;00:00, 1253411.94it/s]"
      }
     },
     "412e3d6acf0a4a2a9412724f127911e0": {
      "model_module": "@jupyter-widgets/controls",
      "model_module_version": "1.5.0",
      "model_name": "HTMLModel",
      "state": {
       "_dom_classes": [],
       "_model_module": "@jupyter-widgets/controls",
       "_model_module_version": "1.5.0",
       "_model_name": "HTMLModel",
       "_view_count": null,
       "_view_module": "@jupyter-widgets/controls",
       "_view_module_version": "1.5.0",
       "_view_name": "HTMLView",
       "description": "",
       "description_tooltip": null,
       "layout": "IPY_MODEL_e09101fc1a034f299bdf3c96e9a29c9e",
       "placeholder": "​",
       "style": "IPY_MODEL_70f515ed26574c298cd5998c969e65f2",
       "value": " 1649664/? [00:00&lt;00:00, 18484599.66it/s]"
      }
     },
     "4ae4ddbca6764ab891c6e6c1f346993a": {
      "model_module": "@jupyter-widgets/controls",
      "model_module_version": "1.5.0",
      "model_name": "HBoxModel",
      "state": {
       "_dom_classes": [],
       "_model_module": "@jupyter-widgets/controls",
       "_model_module_version": "1.5.0",
       "_model_name": "HBoxModel",
       "_view_count": null,
       "_view_module": "@jupyter-widgets/controls",
       "_view_module_version": "1.5.0",
       "_view_name": "HBoxView",
       "box_style": "",
       "children": [
        "IPY_MODEL_c2db9314085e42438dcec9c89aaa9d17",
        "IPY_MODEL_cc74585eec4d4538a0adf0be3ddf1e04",
        "IPY_MODEL_0ae0a4c25bb2410db4d44996298527cb"
       ],
       "layout": "IPY_MODEL_efb38ba4383a40a494d42df63292247e"
      }
     },
     "56aa054158d447d3b9d93d28648b6063": {
      "model_module": "@jupyter-widgets/controls",
      "model_module_version": "1.5.0",
      "model_name": "ProgressStyleModel",
      "state": {
       "_model_module": "@jupyter-widgets/controls",
       "_model_module_version": "1.5.0",
       "_model_name": "ProgressStyleModel",
       "_view_count": null,
       "_view_module": "@jupyter-widgets/base",
       "_view_module_version": "1.2.0",
       "_view_name": "StyleView",
       "bar_color": null,
       "description_width": ""
      }
     },
     "6671a316843c48c8854630c60307cd47": {
      "model_module": "@jupyter-widgets/controls",
      "model_module_version": "1.5.0",
      "model_name": "HBoxModel",
      "state": {
       "_dom_classes": [],
       "_model_module": "@jupyter-widgets/controls",
       "_model_module_version": "1.5.0",
       "_model_name": "HBoxModel",
       "_view_count": null,
       "_view_module": "@jupyter-widgets/controls",
       "_view_module_version": "1.5.0",
       "_view_name": "HBoxView",
       "box_style": "",
       "children": [
        "IPY_MODEL_31680fc0383d4efb9206c254ffb6e59c",
        "IPY_MODEL_2293999c8bf5432d92fc7bdc012c3df9",
        "IPY_MODEL_3dcec371f9b945ccb48a79adadd59e74"
       ],
       "layout": "IPY_MODEL_cc3bd7c8dcf44679829688ffe76f4a35"
      }
     },
     "6b37158ed775439fafcd3efbe567d20f": {
      "model_module": "@jupyter-widgets/controls",
      "model_module_version": "1.5.0",
      "model_name": "DescriptionStyleModel",
      "state": {
       "_model_module": "@jupyter-widgets/controls",
       "_model_module_version": "1.5.0",
       "_model_name": "DescriptionStyleModel",
       "_view_count": null,
       "_view_module": "@jupyter-widgets/base",
       "_view_module_version": "1.2.0",
       "_view_name": "StyleView",
       "description_width": ""
      }
     },
     "70f515ed26574c298cd5998c969e65f2": {
      "model_module": "@jupyter-widgets/controls",
      "model_module_version": "1.5.0",
      "model_name": "DescriptionStyleModel",
      "state": {
       "_model_module": "@jupyter-widgets/controls",
       "_model_module_version": "1.5.0",
       "_model_name": "DescriptionStyleModel",
       "_view_count": null,
       "_view_module": "@jupyter-widgets/base",
       "_view_module_version": "1.2.0",
       "_view_name": "StyleView",
       "description_width": ""
      }
     },
     "75b08d39bebb444281ba067932fce2f7": {
      "model_module": "@jupyter-widgets/base",
      "model_module_version": "1.2.0",
      "model_name": "LayoutModel",
      "state": {
       "_model_module": "@jupyter-widgets/base",
       "_model_module_version": "1.2.0",
       "_model_name": "LayoutModel",
       "_view_count": null,
       "_view_module": "@jupyter-widgets/base",
       "_view_module_version": "1.2.0",
       "_view_name": "LayoutView",
       "align_content": null,
       "align_items": null,
       "align_self": null,
       "border": null,
       "bottom": null,
       "display": null,
       "flex": null,
       "flex_flow": null,
       "grid_area": null,
       "grid_auto_columns": null,
       "grid_auto_flow": null,
       "grid_auto_rows": null,
       "grid_column": null,
       "grid_gap": null,
       "grid_row": null,
       "grid_template_areas": null,
       "grid_template_columns": null,
       "grid_template_rows": null,
       "height": null,
       "justify_content": null,
       "justify_items": null,
       "left": null,
       "margin": null,
       "max_height": null,
       "max_width": null,
       "min_height": null,
       "min_width": null,
       "object_fit": null,
       "object_position": null,
       "order": null,
       "overflow": null,
       "overflow_x": null,
       "overflow_y": null,
       "padding": null,
       "right": null,
       "top": null,
       "visibility": null,
       "width": null
      }
     },
     "76cdbfa192344eb3a333daa3afd5fc3e": {
      "model_module": "@jupyter-widgets/controls",
      "model_module_version": "1.5.0",
      "model_name": "HTMLModel",
      "state": {
       "_dom_classes": [],
       "_model_module": "@jupyter-widgets/controls",
       "_model_module_version": "1.5.0",
       "_model_name": "HTMLModel",
       "_view_count": null,
       "_view_module": "@jupyter-widgets/controls",
       "_view_module_version": "1.5.0",
       "_view_name": "HTMLView",
       "description": "",
       "description_tooltip": null,
       "layout": "IPY_MODEL_e24d1737c20341199299323043d5b802",
       "placeholder": "​",
       "style": "IPY_MODEL_fd185209c2064fd598ca09d86fdb47e8",
       "value": ""
      }
     },
     "7bb4fb9389524ad3928830d602f738bd": {
      "model_module": "@jupyter-widgets/controls",
      "model_module_version": "1.5.0",
      "model_name": "FloatProgressModel",
      "state": {
       "_dom_classes": [],
       "_model_module": "@jupyter-widgets/controls",
       "_model_module_version": "1.5.0",
       "_model_name": "FloatProgressModel",
       "_view_count": null,
       "_view_module": "@jupyter-widgets/controls",
       "_view_module_version": "1.5.0",
       "_view_name": "ProgressView",
       "bar_style": "success",
       "description": "",
       "description_tooltip": null,
       "layout": "IPY_MODEL_75b08d39bebb444281ba067932fce2f7",
       "max": 1648877,
       "min": 0,
       "orientation": "horizontal",
       "style": "IPY_MODEL_56aa054158d447d3b9d93d28648b6063",
       "value": 1648877
      }
     },
     "7d17af758d214a69b52c1f8a5fd5b637": {
      "model_module": "@jupyter-widgets/controls",
      "model_module_version": "1.5.0",
      "model_name": "DescriptionStyleModel",
      "state": {
       "_model_module": "@jupyter-widgets/controls",
       "_model_module_version": "1.5.0",
       "_model_name": "DescriptionStyleModel",
       "_view_count": null,
       "_view_module": "@jupyter-widgets/base",
       "_view_module_version": "1.2.0",
       "_view_name": "StyleView",
       "description_width": ""
      }
     },
     "8c0f1b2c372a476e84e0e69e2bc8877a": {
      "model_module": "@jupyter-widgets/base",
      "model_module_version": "1.2.0",
      "model_name": "LayoutModel",
      "state": {
       "_model_module": "@jupyter-widgets/base",
       "_model_module_version": "1.2.0",
       "_model_name": "LayoutModel",
       "_view_count": null,
       "_view_module": "@jupyter-widgets/base",
       "_view_module_version": "1.2.0",
       "_view_name": "LayoutView",
       "align_content": null,
       "align_items": null,
       "align_self": null,
       "border": null,
       "bottom": null,
       "display": null,
       "flex": null,
       "flex_flow": null,
       "grid_area": null,
       "grid_auto_columns": null,
       "grid_auto_flow": null,
       "grid_auto_rows": null,
       "grid_column": null,
       "grid_gap": null,
       "grid_row": null,
       "grid_template_areas": null,
       "grid_template_columns": null,
       "grid_template_rows": null,
       "height": null,
       "justify_content": null,
       "justify_items": null,
       "left": null,
       "margin": null,
       "max_height": null,
       "max_width": null,
       "min_height": null,
       "min_width": null,
       "object_fit": null,
       "object_position": null,
       "order": null,
       "overflow": null,
       "overflow_x": null,
       "overflow_y": null,
       "padding": null,
       "right": null,
       "top": null,
       "visibility": null,
       "width": null
      }
     },
     "8edebf6f809449188a30ac2c1c830c43": {
      "model_module": "@jupyter-widgets/base",
      "model_module_version": "1.2.0",
      "model_name": "LayoutModel",
      "state": {
       "_model_module": "@jupyter-widgets/base",
       "_model_module_version": "1.2.0",
       "_model_name": "LayoutModel",
       "_view_count": null,
       "_view_module": "@jupyter-widgets/base",
       "_view_module_version": "1.2.0",
       "_view_name": "LayoutView",
       "align_content": null,
       "align_items": null,
       "align_self": null,
       "border": null,
       "bottom": null,
       "display": null,
       "flex": null,
       "flex_flow": null,
       "grid_area": null,
       "grid_auto_columns": null,
       "grid_auto_flow": null,
       "grid_auto_rows": null,
       "grid_column": null,
       "grid_gap": null,
       "grid_row": null,
       "grid_template_areas": null,
       "grid_template_columns": null,
       "grid_template_rows": null,
       "height": null,
       "justify_content": null,
       "justify_items": null,
       "left": null,
       "margin": null,
       "max_height": null,
       "max_width": null,
       "min_height": null,
       "min_width": null,
       "object_fit": null,
       "object_position": null,
       "order": null,
       "overflow": null,
       "overflow_x": null,
       "overflow_y": null,
       "padding": null,
       "right": null,
       "top": null,
       "visibility": null,
       "width": null
      }
     },
     "8fffc64a0dd246349dd55726e69484e2": {
      "model_module": "@jupyter-widgets/base",
      "model_module_version": "1.2.0",
      "model_name": "LayoutModel",
      "state": {
       "_model_module": "@jupyter-widgets/base",
       "_model_module_version": "1.2.0",
       "_model_name": "LayoutModel",
       "_view_count": null,
       "_view_module": "@jupyter-widgets/base",
       "_view_module_version": "1.2.0",
       "_view_name": "LayoutView",
       "align_content": null,
       "align_items": null,
       "align_self": null,
       "border": null,
       "bottom": null,
       "display": null,
       "flex": null,
       "flex_flow": null,
       "grid_area": null,
       "grid_auto_columns": null,
       "grid_auto_flow": null,
       "grid_auto_rows": null,
       "grid_column": null,
       "grid_gap": null,
       "grid_row": null,
       "grid_template_areas": null,
       "grid_template_columns": null,
       "grid_template_rows": null,
       "height": null,
       "justify_content": null,
       "justify_items": null,
       "left": null,
       "margin": null,
       "max_height": null,
       "max_width": null,
       "min_height": null,
       "min_width": null,
       "object_fit": null,
       "object_position": null,
       "order": null,
       "overflow": null,
       "overflow_x": null,
       "overflow_y": null,
       "padding": null,
       "right": null,
       "top": null,
       "visibility": null,
       "width": null
      }
     },
     "a16208ed6edf4f44bac4f5975dcff40a": {
      "model_module": "@jupyter-widgets/base",
      "model_module_version": "1.2.0",
      "model_name": "LayoutModel",
      "state": {
       "_model_module": "@jupyter-widgets/base",
       "_model_module_version": "1.2.0",
       "_model_name": "LayoutModel",
       "_view_count": null,
       "_view_module": "@jupyter-widgets/base",
       "_view_module_version": "1.2.0",
       "_view_name": "LayoutView",
       "align_content": null,
       "align_items": null,
       "align_self": null,
       "border": null,
       "bottom": null,
       "display": null,
       "flex": null,
       "flex_flow": null,
       "grid_area": null,
       "grid_auto_columns": null,
       "grid_auto_flow": null,
       "grid_auto_rows": null,
       "grid_column": null,
       "grid_gap": null,
       "grid_row": null,
       "grid_template_areas": null,
       "grid_template_columns": null,
       "grid_template_rows": null,
       "height": null,
       "justify_content": null,
       "justify_items": null,
       "left": null,
       "margin": null,
       "max_height": null,
       "max_width": null,
       "min_height": null,
       "min_width": null,
       "object_fit": null,
       "object_position": null,
       "order": null,
       "overflow": null,
       "overflow_x": null,
       "overflow_y": null,
       "padding": null,
       "right": null,
       "top": null,
       "visibility": null,
       "width": null
      }
     },
     "aca89cd54c8348bdb6be7fa13a6403cc": {
      "model_module": "@jupyter-widgets/controls",
      "model_module_version": "1.5.0",
      "model_name": "HTMLModel",
      "state": {
       "_dom_classes": [],
       "_model_module": "@jupyter-widgets/controls",
       "_model_module_version": "1.5.0",
       "_model_name": "HTMLModel",
       "_view_count": null,
       "_view_module": "@jupyter-widgets/controls",
       "_view_module_version": "1.5.0",
       "_view_name": "HTMLView",
       "description": "",
       "description_tooltip": null,
       "layout": "IPY_MODEL_c5dfa748b18c484d87f60c91c2a8f2c1",
       "placeholder": "​",
       "style": "IPY_MODEL_6b37158ed775439fafcd3efbe567d20f",
       "value": " 5120/? [00:00&lt;00:00, 84743.78it/s]"
      }
     },
     "b58a853ba6a44b6a839976f0eec07240": {
      "model_module": "@jupyter-widgets/controls",
      "model_module_version": "1.5.0",
      "model_name": "ProgressStyleModel",
      "state": {
       "_model_module": "@jupyter-widgets/controls",
       "_model_module_version": "1.5.0",
       "_model_name": "ProgressStyleModel",
       "_view_count": null,
       "_view_module": "@jupyter-widgets/base",
       "_view_module_version": "1.2.0",
       "_view_name": "StyleView",
       "bar_color": null,
       "description_width": ""
      }
     },
     "c2db9314085e42438dcec9c89aaa9d17": {
      "model_module": "@jupyter-widgets/controls",
      "model_module_version": "1.5.0",
      "model_name": "HTMLModel",
      "state": {
       "_dom_classes": [],
       "_model_module": "@jupyter-widgets/controls",
       "_model_module_version": "1.5.0",
       "_model_name": "HTMLModel",
       "_view_count": null,
       "_view_module": "@jupyter-widgets/controls",
       "_view_module_version": "1.5.0",
       "_view_name": "HTMLView",
       "description": "",
       "description_tooltip": null,
       "layout": "IPY_MODEL_8edebf6f809449188a30ac2c1c830c43",
       "placeholder": "​",
       "style": "IPY_MODEL_7d17af758d214a69b52c1f8a5fd5b637",
       "value": ""
      }
     },
     "c5dfa748b18c484d87f60c91c2a8f2c1": {
      "model_module": "@jupyter-widgets/base",
      "model_module_version": "1.2.0",
      "model_name": "LayoutModel",
      "state": {
       "_model_module": "@jupyter-widgets/base",
       "_model_module_version": "1.2.0",
       "_model_name": "LayoutModel",
       "_view_count": null,
       "_view_module": "@jupyter-widgets/base",
       "_view_module_version": "1.2.0",
       "_view_name": "LayoutView",
       "align_content": null,
       "align_items": null,
       "align_self": null,
       "border": null,
       "bottom": null,
       "display": null,
       "flex": null,
       "flex_flow": null,
       "grid_area": null,
       "grid_auto_columns": null,
       "grid_auto_flow": null,
       "grid_auto_rows": null,
       "grid_column": null,
       "grid_gap": null,
       "grid_row": null,
       "grid_template_areas": null,
       "grid_template_columns": null,
       "grid_template_rows": null,
       "height": null,
       "justify_content": null,
       "justify_items": null,
       "left": null,
       "margin": null,
       "max_height": null,
       "max_width": null,
       "min_height": null,
       "min_width": null,
       "object_fit": null,
       "object_position": null,
       "order": null,
       "overflow": null,
       "overflow_x": null,
       "overflow_y": null,
       "padding": null,
       "right": null,
       "top": null,
       "visibility": null,
       "width": null
      }
     },
     "c79afe6c390248658bc3eb39088d7834": {
      "model_module": "@jupyter-widgets/controls",
      "model_module_version": "1.5.0",
      "model_name": "DescriptionStyleModel",
      "state": {
       "_model_module": "@jupyter-widgets/controls",
       "_model_module_version": "1.5.0",
       "_model_name": "DescriptionStyleModel",
       "_view_count": null,
       "_view_module": "@jupyter-widgets/base",
       "_view_module_version": "1.2.0",
       "_view_name": "StyleView",
       "description_width": ""
      }
     },
     "cc3bd7c8dcf44679829688ffe76f4a35": {
      "model_module": "@jupyter-widgets/base",
      "model_module_version": "1.2.0",
      "model_name": "LayoutModel",
      "state": {
       "_model_module": "@jupyter-widgets/base",
       "_model_module_version": "1.2.0",
       "_model_name": "LayoutModel",
       "_view_count": null,
       "_view_module": "@jupyter-widgets/base",
       "_view_module_version": "1.2.0",
       "_view_name": "LayoutView",
       "align_content": null,
       "align_items": null,
       "align_self": null,
       "border": null,
       "bottom": null,
       "display": null,
       "flex": null,
       "flex_flow": null,
       "grid_area": null,
       "grid_auto_columns": null,
       "grid_auto_flow": null,
       "grid_auto_rows": null,
       "grid_column": null,
       "grid_gap": null,
       "grid_row": null,
       "grid_template_areas": null,
       "grid_template_columns": null,
       "grid_template_rows": null,
       "height": null,
       "justify_content": null,
       "justify_items": null,
       "left": null,
       "margin": null,
       "max_height": null,
       "max_width": null,
       "min_height": null,
       "min_width": null,
       "object_fit": null,
       "object_position": null,
       "order": null,
       "overflow": null,
       "overflow_x": null,
       "overflow_y": null,
       "padding": null,
       "right": null,
       "top": null,
       "visibility": null,
       "width": null
      }
     },
     "cc74585eec4d4538a0adf0be3ddf1e04": {
      "model_module": "@jupyter-widgets/controls",
      "model_module_version": "1.5.0",
      "model_name": "FloatProgressModel",
      "state": {
       "_dom_classes": [],
       "_model_module": "@jupyter-widgets/controls",
       "_model_module_version": "1.5.0",
       "_model_name": "FloatProgressModel",
       "_view_count": null,
       "_view_module": "@jupyter-widgets/controls",
       "_view_module_version": "1.5.0",
       "_view_name": "ProgressView",
       "bar_style": "success",
       "description": "",
       "description_tooltip": null,
       "layout": "IPY_MODEL_8c0f1b2c372a476e84e0e69e2bc8877a",
       "max": 9912422,
       "min": 0,
       "orientation": "horizontal",
       "style": "IPY_MODEL_2603a2e4d96c4b78997e612063a54a54",
       "value": 9912422
      }
     },
     "d21165e94c264adbb3106ecbe32e5209": {
      "model_module": "@jupyter-widgets/controls",
      "model_module_version": "1.5.0",
      "model_name": "HBoxModel",
      "state": {
       "_dom_classes": [],
       "_model_module": "@jupyter-widgets/controls",
       "_model_module_version": "1.5.0",
       "_model_name": "HBoxModel",
       "_view_count": null,
       "_view_module": "@jupyter-widgets/controls",
       "_view_module_version": "1.5.0",
       "_view_name": "HBoxView",
       "box_style": "",
       "children": [
        "IPY_MODEL_2641f70af75f4496995aaf9bf75650dd",
        "IPY_MODEL_140dc2a5ef034120af4b12c8f99c27ac",
        "IPY_MODEL_aca89cd54c8348bdb6be7fa13a6403cc"
       ],
       "layout": "IPY_MODEL_a16208ed6edf4f44bac4f5975dcff40a"
      }
     },
     "d8abe0025e874336b596ebc0bcce4391": {
      "model_module": "@jupyter-widgets/controls",
      "model_module_version": "1.5.0",
      "model_name": "DescriptionStyleModel",
      "state": {
       "_model_module": "@jupyter-widgets/controls",
       "_model_module_version": "1.5.0",
       "_model_name": "DescriptionStyleModel",
       "_view_count": null,
       "_view_module": "@jupyter-widgets/base",
       "_view_module_version": "1.2.0",
       "_view_name": "StyleView",
       "description_width": ""
      }
     },
     "dee9a91f082a4991972823fb3dae20a9": {
      "model_module": "@jupyter-widgets/controls",
      "model_module_version": "1.5.0",
      "model_name": "DescriptionStyleModel",
      "state": {
       "_model_module": "@jupyter-widgets/controls",
       "_model_module_version": "1.5.0",
       "_model_name": "DescriptionStyleModel",
       "_view_count": null,
       "_view_module": "@jupyter-widgets/base",
       "_view_module_version": "1.2.0",
       "_view_name": "StyleView",
       "description_width": ""
      }
     },
     "e09101fc1a034f299bdf3c96e9a29c9e": {
      "model_module": "@jupyter-widgets/base",
      "model_module_version": "1.2.0",
      "model_name": "LayoutModel",
      "state": {
       "_model_module": "@jupyter-widgets/base",
       "_model_module_version": "1.2.0",
       "_model_name": "LayoutModel",
       "_view_count": null,
       "_view_module": "@jupyter-widgets/base",
       "_view_module_version": "1.2.0",
       "_view_name": "LayoutView",
       "align_content": null,
       "align_items": null,
       "align_self": null,
       "border": null,
       "bottom": null,
       "display": null,
       "flex": null,
       "flex_flow": null,
       "grid_area": null,
       "grid_auto_columns": null,
       "grid_auto_flow": null,
       "grid_auto_rows": null,
       "grid_column": null,
       "grid_gap": null,
       "grid_row": null,
       "grid_template_areas": null,
       "grid_template_columns": null,
       "grid_template_rows": null,
       "height": null,
       "justify_content": null,
       "justify_items": null,
       "left": null,
       "margin": null,
       "max_height": null,
       "max_width": null,
       "min_height": null,
       "min_width": null,
       "object_fit": null,
       "object_position": null,
       "order": null,
       "overflow": null,
       "overflow_x": null,
       "overflow_y": null,
       "padding": null,
       "right": null,
       "top": null,
       "visibility": null,
       "width": null
      }
     },
     "e24d1737c20341199299323043d5b802": {
      "model_module": "@jupyter-widgets/base",
      "model_module_version": "1.2.0",
      "model_name": "LayoutModel",
      "state": {
       "_model_module": "@jupyter-widgets/base",
       "_model_module_version": "1.2.0",
       "_model_name": "LayoutModel",
       "_view_count": null,
       "_view_module": "@jupyter-widgets/base",
       "_view_module_version": "1.2.0",
       "_view_name": "LayoutView",
       "align_content": null,
       "align_items": null,
       "align_self": null,
       "border": null,
       "bottom": null,
       "display": null,
       "flex": null,
       "flex_flow": null,
       "grid_area": null,
       "grid_auto_columns": null,
       "grid_auto_flow": null,
       "grid_auto_rows": null,
       "grid_column": null,
       "grid_gap": null,
       "grid_row": null,
       "grid_template_areas": null,
       "grid_template_columns": null,
       "grid_template_rows": null,
       "height": null,
       "justify_content": null,
       "justify_items": null,
       "left": null,
       "margin": null,
       "max_height": null,
       "max_width": null,
       "min_height": null,
       "min_width": null,
       "object_fit": null,
       "object_position": null,
       "order": null,
       "overflow": null,
       "overflow_x": null,
       "overflow_y": null,
       "padding": null,
       "right": null,
       "top": null,
       "visibility": null,
       "width": null
      }
     },
     "efb38ba4383a40a494d42df63292247e": {
      "model_module": "@jupyter-widgets/base",
      "model_module_version": "1.2.0",
      "model_name": "LayoutModel",
      "state": {
       "_model_module": "@jupyter-widgets/base",
       "_model_module_version": "1.2.0",
       "_model_name": "LayoutModel",
       "_view_count": null,
       "_view_module": "@jupyter-widgets/base",
       "_view_module_version": "1.2.0",
       "_view_name": "LayoutView",
       "align_content": null,
       "align_items": null,
       "align_self": null,
       "border": null,
       "bottom": null,
       "display": null,
       "flex": null,
       "flex_flow": null,
       "grid_area": null,
       "grid_auto_columns": null,
       "grid_auto_flow": null,
       "grid_auto_rows": null,
       "grid_column": null,
       "grid_gap": null,
       "grid_row": null,
       "grid_template_areas": null,
       "grid_template_columns": null,
       "grid_template_rows": null,
       "height": null,
       "justify_content": null,
       "justify_items": null,
       "left": null,
       "margin": null,
       "max_height": null,
       "max_width": null,
       "min_height": null,
       "min_width": null,
       "object_fit": null,
       "object_position": null,
       "order": null,
       "overflow": null,
       "overflow_x": null,
       "overflow_y": null,
       "padding": null,
       "right": null,
       "top": null,
       "visibility": null,
       "width": null
      }
     },
     "f177af869a904a319acfc248938d0173": {
      "model_module": "@jupyter-widgets/base",
      "model_module_version": "1.2.0",
      "model_name": "LayoutModel",
      "state": {
       "_model_module": "@jupyter-widgets/base",
       "_model_module_version": "1.2.0",
       "_model_name": "LayoutModel",
       "_view_count": null,
       "_view_module": "@jupyter-widgets/base",
       "_view_module_version": "1.2.0",
       "_view_name": "LayoutView",
       "align_content": null,
       "align_items": null,
       "align_self": null,
       "border": null,
       "bottom": null,
       "display": null,
       "flex": null,
       "flex_flow": null,
       "grid_area": null,
       "grid_auto_columns": null,
       "grid_auto_flow": null,
       "grid_auto_rows": null,
       "grid_column": null,
       "grid_gap": null,
       "grid_row": null,
       "grid_template_areas": null,
       "grid_template_columns": null,
       "grid_template_rows": null,
       "height": null,
       "justify_content": null,
       "justify_items": null,
       "left": null,
       "margin": null,
       "max_height": null,
       "max_width": null,
       "min_height": null,
       "min_width": null,
       "object_fit": null,
       "object_position": null,
       "order": null,
       "overflow": null,
       "overflow_x": null,
       "overflow_y": null,
       "padding": null,
       "right": null,
       "top": null,
       "visibility": null,
       "width": null
      }
     },
     "f8662930c6f246b58debaa3a302edcd4": {
      "model_module": "@jupyter-widgets/base",
      "model_module_version": "1.2.0",
      "model_name": "LayoutModel",
      "state": {
       "_model_module": "@jupyter-widgets/base",
       "_model_module_version": "1.2.0",
       "_model_name": "LayoutModel",
       "_view_count": null,
       "_view_module": "@jupyter-widgets/base",
       "_view_module_version": "1.2.0",
       "_view_name": "LayoutView",
       "align_content": null,
       "align_items": null,
       "align_self": null,
       "border": null,
       "bottom": null,
       "display": null,
       "flex": null,
       "flex_flow": null,
       "grid_area": null,
       "grid_auto_columns": null,
       "grid_auto_flow": null,
       "grid_auto_rows": null,
       "grid_column": null,
       "grid_gap": null,
       "grid_row": null,
       "grid_template_areas": null,
       "grid_template_columns": null,
       "grid_template_rows": null,
       "height": null,
       "justify_content": null,
       "justify_items": null,
       "left": null,
       "margin": null,
       "max_height": null,
       "max_width": null,
       "min_height": null,
       "min_width": null,
       "object_fit": null,
       "object_position": null,
       "order": null,
       "overflow": null,
       "overflow_x": null,
       "overflow_y": null,
       "padding": null,
       "right": null,
       "top": null,
       "visibility": null,
       "width": null
      }
     },
     "fd0d74f818c44d6b8c2b249d5a95d667": {
      "model_module": "@jupyter-widgets/base",
      "model_module_version": "1.2.0",
      "model_name": "LayoutModel",
      "state": {
       "_model_module": "@jupyter-widgets/base",
       "_model_module_version": "1.2.0",
       "_model_name": "LayoutModel",
       "_view_count": null,
       "_view_module": "@jupyter-widgets/base",
       "_view_module_version": "1.2.0",
       "_view_name": "LayoutView",
       "align_content": null,
       "align_items": null,
       "align_self": null,
       "border": null,
       "bottom": null,
       "display": null,
       "flex": null,
       "flex_flow": null,
       "grid_area": null,
       "grid_auto_columns": null,
       "grid_auto_flow": null,
       "grid_auto_rows": null,
       "grid_column": null,
       "grid_gap": null,
       "grid_row": null,
       "grid_template_areas": null,
       "grid_template_columns": null,
       "grid_template_rows": null,
       "height": null,
       "justify_content": null,
       "justify_items": null,
       "left": null,
       "margin": null,
       "max_height": null,
       "max_width": null,
       "min_height": null,
       "min_width": null,
       "object_fit": null,
       "object_position": null,
       "order": null,
       "overflow": null,
       "overflow_x": null,
       "overflow_y": null,
       "padding": null,
       "right": null,
       "top": null,
       "visibility": null,
       "width": null
      }
     },
     "fd185209c2064fd598ca09d86fdb47e8": {
      "model_module": "@jupyter-widgets/controls",
      "model_module_version": "1.5.0",
      "model_name": "DescriptionStyleModel",
      "state": {
       "_model_module": "@jupyter-widgets/controls",
       "_model_module_version": "1.5.0",
       "_model_name": "DescriptionStyleModel",
       "_view_count": null,
       "_view_module": "@jupyter-widgets/base",
       "_view_module_version": "1.2.0",
       "_view_name": "StyleView",
       "description_width": ""
      }
     }
    },
    "version_major": 2,
    "version_minor": 0
   }
  }
 },
 "nbformat": 4,
 "nbformat_minor": 5
}
