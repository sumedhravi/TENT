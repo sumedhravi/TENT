{
 "cells": [
  {
   "cell_type": "code",
   "execution_count": 1,
   "id": "3170d677",
   "metadata": {
    "_cell_guid": "b1076dfc-b9ad-4769-8c92-a6c4dae69d19",
    "_uuid": "8f2839f25d086af736a60e9eeb907d3b93b6e0e5",
    "execution": {
     "iopub.execute_input": "2022-05-01T01:48:17.681934Z",
     "iopub.status.busy": "2022-05-01T01:48:17.681575Z",
     "iopub.status.idle": "2022-05-01T01:48:19.498349Z",
     "shell.execute_reply": "2022-05-01T01:48:19.497489Z"
    },
    "papermill": {
     "duration": 1.895911,
     "end_time": "2022-05-01T01:48:19.502075",
     "exception": false,
     "start_time": "2022-05-01T01:48:17.606164",
     "status": "completed"
    },
    "tags": []
   },
   "outputs": [],
   "source": [
    "import numpy as np\n",
    "import pandas as pd\n",
    "import torch, torchvision\n",
    "import torch.nn as nn\n",
    "import torch.optim as optim\n",
    "from torch.optim import lr_scheduler\n",
    "import torchvision.datasets as datasets\n",
    "import torch.utils.data as data\n",
    "import torchvision.transforms as transforms\n",
    "from torch.autograd import Variable\n",
    "from PIL import Image\n",
    "import torchvision.models as models\n",
    "import matplotlib.pyplot as plt\n",
    "import time, os, copy\n",
    "import sys\n",
    "%matplotlib inline"
   ]
  },
  {
   "cell_type": "code",
   "execution_count": 2,
   "id": "f3073dbf",
   "metadata": {
    "execution": {
     "iopub.execute_input": "2022-05-01T01:48:19.625256Z",
     "iopub.status.busy": "2022-05-01T01:48:19.625012Z",
     "iopub.status.idle": "2022-05-01T01:48:39.336805Z",
     "shell.execute_reply": "2022-05-01T01:48:39.335836Z"
    },
    "papermill": {
     "duration": 19.774856,
     "end_time": "2022-05-01T01:48:39.338945",
     "exception": false,
     "start_time": "2022-05-01T01:48:19.564089",
     "status": "completed"
    },
    "tags": []
   },
   "outputs": [
    {
     "name": "stdout",
     "output_type": "stream",
     "text": [
      "--2022-05-01 01:48:20--  https://zenodo.org/record/3239543/files/mnist_c.zip\r\n",
      "Resolving zenodo.org (zenodo.org)... 137.138.76.77\r\n",
      "Connecting to zenodo.org (zenodo.org)|137.138.76.77|:443... connected.\r\n",
      "HTTP request sent, awaiting response... 200 OK\r\n",
      "Length: 246661575 (235M) [application/octet-stream]\r\n",
      "Saving to: ‘mnist_c.zip’\r\n",
      "\r\n",
      "mnist_c.zip         100%[===================>] 235.23M  26.8MB/s    in 9.4s    \r\n",
      "\r\n",
      "2022-05-01 01:48:31 (25.1 MB/s) - ‘mnist_c.zip’ saved [246661575/246661575]\r\n",
      "\r\n"
     ]
    }
   ],
   "source": [
    "!wget https://zenodo.org/record/3239543/files/mnist_c.zip\n",
    "!unzip -qq mnist_c.zip\n",
    "!rm mnist_c.zip"
   ]
  },
  {
   "cell_type": "code",
   "execution_count": 3,
   "id": "8dad1f2b",
   "metadata": {
    "execution": {
     "iopub.execute_input": "2022-05-01T01:48:39.429572Z",
     "iopub.status.busy": "2022-05-01T01:48:39.429023Z",
     "iopub.status.idle": "2022-05-01T01:48:39.441155Z",
     "shell.execute_reply": "2022-05-01T01:48:39.440507Z"
    },
    "papermill": {
     "duration": 0.059052,
     "end_time": "2022-05-01T01:48:39.443006",
     "exception": false,
     "start_time": "2022-05-01T01:48:39.383954",
     "status": "completed"
    },
    "tags": []
   },
   "outputs": [
    {
     "data": {
      "text/plain": [
       "<torch._C.Generator at 0x7f214b716a30>"
      ]
     },
     "execution_count": 3,
     "metadata": {},
     "output_type": "execute_result"
    }
   ],
   "source": [
    "n_epochs = 8\n",
    "num_classes = 10\n",
    "batch_size_train = 128\n",
    "batch_size_test = 128\n",
    "lr = 1e-3\n",
    "momentum = 0.9\n",
    "wd = 1e-6\n",
    "model_name = \"vgg16\"\n",
    "size=48 if model_name == \"vgg16\" else None\n",
    "\n",
    "random_seed = 1\n",
    "torch.backends.cudnn.enabled = False\n",
    "torch.manual_seed(random_seed)"
   ]
  },
  {
   "cell_type": "code",
   "execution_count": 4,
   "id": "540f4e15",
   "metadata": {
    "execution": {
     "iopub.execute_input": "2022-05-01T01:48:39.535701Z",
     "iopub.status.busy": "2022-05-01T01:48:39.535092Z",
     "iopub.status.idle": "2022-05-01T01:48:39.542172Z",
     "shell.execute_reply": "2022-05-01T01:48:39.541458Z"
    },
    "papermill": {
     "duration": 0.054227,
     "end_time": "2022-05-01T01:48:39.543891",
     "exception": false,
     "start_time": "2022-05-01T01:48:39.489664",
     "status": "completed"
    },
    "tags": []
   },
   "outputs": [],
   "source": [
    "def get_train_transforms(pixel_mean, pixel_std, size=None):\n",
    "    if size == None:\n",
    "        return transforms.Compose([\n",
    "            transforms.RandomRotation(15),\n",
    "            transforms.ToTensor(),\n",
    "            transforms.Normalize(pixel_mean, pixel_std)\n",
    "            ])\n",
    "    else:\n",
    "        return transforms.Compose([\n",
    "            transforms.Resize(size),\n",
    "            transforms.RandomRotation(15),\n",
    "            transforms.ToTensor(),\n",
    "            transforms.Normalize(pixel_mean, pixel_std)\n",
    "            ])\n",
    "\n",
    "def get_val_transforms(pixel_mean, pixel_std,size=None):\n",
    "    if size == None:\n",
    "        return transforms.Compose([\n",
    "            transforms.ToTensor(),\n",
    "            transforms.Normalize(pixel_mean, pixel_std)\n",
    "            ])\n",
    "    else:\n",
    "        return transforms.Compose([\n",
    "            transforms.Resize(size),\n",
    "            transforms.ToTensor(),\n",
    "            transforms.Normalize(pixel_mean, pixel_std)\n",
    "            ])"
   ]
  },
  {
   "cell_type": "code",
   "execution_count": 5,
   "id": "7b100a9f",
   "metadata": {
    "execution": {
     "iopub.execute_input": "2022-05-01T01:48:39.633583Z",
     "iopub.status.busy": "2022-05-01T01:48:39.633353Z",
     "iopub.status.idle": "2022-05-01T01:48:40.794189Z",
     "shell.execute_reply": "2022-05-01T01:48:40.793495Z"
    },
    "papermill": {
     "duration": 1.208481,
     "end_time": "2022-05-01T01:48:40.796523",
     "exception": false,
     "start_time": "2022-05-01T01:48:39.588042",
     "status": "completed"
    },
    "tags": []
   },
   "outputs": [
    {
     "name": "stdout",
     "output_type": "stream",
     "text": [
      "Downloading http://yann.lecun.com/exdb/mnist/train-images-idx3-ubyte.gz\n",
      "Downloading http://yann.lecun.com/exdb/mnist/train-images-idx3-ubyte.gz to MNIST/raw/train-images-idx3-ubyte.gz\n"
     ]
    },
    {
     "data": {
      "application/vnd.jupyter.widget-view+json": {
       "model_id": "86dc14bef6594d3e95d65158ab60110a",
       "version_major": 2,
       "version_minor": 0
      },
      "text/plain": [
       "  0%|          | 0/9912422 [00:00<?, ?it/s]"
      ]
     },
     "metadata": {},
     "output_type": "display_data"
    },
    {
     "name": "stdout",
     "output_type": "stream",
     "text": [
      "Extracting MNIST/raw/train-images-idx3-ubyte.gz to MNIST/raw\n",
      "\n",
      "Downloading http://yann.lecun.com/exdb/mnist/train-labels-idx1-ubyte.gz\n",
      "Downloading http://yann.lecun.com/exdb/mnist/train-labels-idx1-ubyte.gz to MNIST/raw/train-labels-idx1-ubyte.gz\n"
     ]
    },
    {
     "data": {
      "application/vnd.jupyter.widget-view+json": {
       "model_id": "94661208cbe146938e75d61f5dcf757e",
       "version_major": 2,
       "version_minor": 0
      },
      "text/plain": [
       "  0%|          | 0/28881 [00:00<?, ?it/s]"
      ]
     },
     "metadata": {},
     "output_type": "display_data"
    },
    {
     "name": "stdout",
     "output_type": "stream",
     "text": [
      "Extracting MNIST/raw/train-labels-idx1-ubyte.gz to MNIST/raw\n",
      "\n",
      "Downloading http://yann.lecun.com/exdb/mnist/t10k-images-idx3-ubyte.gz\n",
      "Downloading http://yann.lecun.com/exdb/mnist/t10k-images-idx3-ubyte.gz to MNIST/raw/t10k-images-idx3-ubyte.gz\n"
     ]
    },
    {
     "data": {
      "application/vnd.jupyter.widget-view+json": {
       "model_id": "581f05e0d4904a5d92863b13df125001",
       "version_major": 2,
       "version_minor": 0
      },
      "text/plain": [
       "  0%|          | 0/1648877 [00:00<?, ?it/s]"
      ]
     },
     "metadata": {},
     "output_type": "display_data"
    },
    {
     "name": "stdout",
     "output_type": "stream",
     "text": [
      "Extracting MNIST/raw/t10k-images-idx3-ubyte.gz to MNIST/raw\n",
      "\n",
      "Downloading http://yann.lecun.com/exdb/mnist/t10k-labels-idx1-ubyte.gz\n",
      "Downloading http://yann.lecun.com/exdb/mnist/t10k-labels-idx1-ubyte.gz to MNIST/raw/t10k-labels-idx1-ubyte.gz\n"
     ]
    },
    {
     "data": {
      "application/vnd.jupyter.widget-view+json": {
       "model_id": "e0bb5e5d808b45e188de4fa140a39d82",
       "version_major": 2,
       "version_minor": 0
      },
      "text/plain": [
       "  0%|          | 0/4542 [00:00<?, ?it/s]"
      ]
     },
     "metadata": {},
     "output_type": "display_data"
    },
    {
     "name": "stdout",
     "output_type": "stream",
     "text": [
      "Extracting MNIST/raw/t10k-labels-idx1-ubyte.gz to MNIST/raw\n",
      "\n"
     ]
    },
    {
     "name": "stderr",
     "output_type": "stream",
     "text": [
      "/opt/conda/lib/python3.7/site-packages/torchvision/datasets/mnist.py:498: UserWarning: The given NumPy array is not writeable, and PyTorch does not support non-writeable tensors. This means you can write to the underlying (supposedly non-writeable) NumPy array using the tensor. You may want to copy the array to protect its data or make it writeable before converting it to a tensor. This type of warning will be suppressed for the rest of this program. (Triggered internally at  /usr/local/src/pytorch/torch/csrc/utils/tensor_numpy.cpp:174.)\n",
      "  return torch.from_numpy(parsed.astype(m[2], copy=False)).view(*s)\n"
     ]
    }
   ],
   "source": [
    "train_dataset = datasets.MNIST('', train=True, download=True, transform= get_train_transforms((0.1307,), (0.3081,), size))"
   ]
  },
  {
   "cell_type": "code",
   "execution_count": 6,
   "id": "fcc3d15e",
   "metadata": {
    "execution": {
     "iopub.execute_input": "2022-05-01T01:48:40.897213Z",
     "iopub.status.busy": "2022-05-01T01:48:40.896977Z",
     "iopub.status.idle": "2022-05-01T01:48:40.904136Z",
     "shell.execute_reply": "2022-05-01T01:48:40.903461Z"
    },
    "papermill": {
     "duration": 0.059368,
     "end_time": "2022-05-01T01:48:40.905956",
     "exception": false,
     "start_time": "2022-05-01T01:48:40.846588",
     "status": "completed"
    },
    "tags": []
   },
   "outputs": [],
   "source": [
    "val_dataset = datasets.MNIST(root='', train=False, download=True, transform=get_val_transforms((0.1307,), (0.3081,), size))"
   ]
  },
  {
   "cell_type": "code",
   "execution_count": 7,
   "id": "72ff9a1d",
   "metadata": {
    "execution": {
     "iopub.execute_input": "2022-05-01T01:48:41.005270Z",
     "iopub.status.busy": "2022-05-01T01:48:41.005051Z",
     "iopub.status.idle": "2022-05-01T01:48:41.009011Z",
     "shell.execute_reply": "2022-05-01T01:48:41.008296Z"
    },
    "papermill": {
     "duration": 0.055651,
     "end_time": "2022-05-01T01:48:41.010800",
     "exception": false,
     "start_time": "2022-05-01T01:48:40.955149",
     "status": "completed"
    },
    "tags": []
   },
   "outputs": [],
   "source": [
    "train_loader = torch.utils.data.DataLoader(train_dataset,batch_size=batch_size_train, shuffle=True)"
   ]
  },
  {
   "cell_type": "code",
   "execution_count": 8,
   "id": "e1db4602",
   "metadata": {
    "execution": {
     "iopub.execute_input": "2022-05-01T01:48:41.110324Z",
     "iopub.status.busy": "2022-05-01T01:48:41.110091Z",
     "iopub.status.idle": "2022-05-01T01:48:41.210172Z",
     "shell.execute_reply": "2022-05-01T01:48:41.209377Z"
    },
    "papermill": {
     "duration": 0.155753,
     "end_time": "2022-05-01T01:48:41.215849",
     "exception": false,
     "start_time": "2022-05-01T01:48:41.060096",
     "status": "completed"
    },
    "tags": []
   },
   "outputs": [
    {
     "name": "stdout",
     "output_type": "stream",
     "text": [
      "469\n"
     ]
    }
   ],
   "source": [
    "print(len(train_loader))\n",
    "examples = enumerate(train_loader)\n",
    "batch_idx, (example_data, example_targets) = next(examples)"
   ]
  },
  {
   "cell_type": "code",
   "execution_count": 9,
   "id": "747c96f5",
   "metadata": {
    "execution": {
     "iopub.execute_input": "2022-05-01T01:48:41.399510Z",
     "iopub.status.busy": "2022-05-01T01:48:41.399080Z",
     "iopub.status.idle": "2022-05-01T01:48:41.981956Z",
     "shell.execute_reply": "2022-05-01T01:48:41.981199Z"
    },
    "papermill": {
     "duration": 0.669568,
     "end_time": "2022-05-01T01:48:41.983896",
     "exception": false,
     "start_time": "2022-05-01T01:48:41.314328",
     "status": "completed"
    },
    "tags": []
   },
   "outputs": [
    {
     "data": {
      "image/png": "[encoded data removed]",
      "text/plain": [
       "<Figure size 432x288 with 6 Axes>"
      ]
     },
     "metadata": {},
     "output_type": "display_data"
    }
   ],
   "source": [
    "fig = plt.figure()\n",
    "for i in range(6):\n",
    "  plt.subplot(2,3,i+1)\n",
    "  plt.tight_layout()\n",
    "  plt.imshow(example_data[i][0], cmap='gray', interpolation='none')\n",
    "  plt.title(\"Ground Truth: {}\".format(example_targets[i]))\n",
    "  plt.xticks([])\n",
    "  plt.yticks([])"
   ]
  },
  {
   "cell_type": "code",
   "execution_count": 10,
   "id": "5826a928",
   "metadata": {
    "execution": {
     "iopub.execute_input": "2022-05-01T01:48:42.619971Z",
     "iopub.status.busy": "2022-05-01T01:48:42.619257Z",
     "iopub.status.idle": "2022-05-01T01:48:42.626524Z",
     "shell.execute_reply": "2022-05-01T01:48:42.625805Z"
    },
    "papermill": {
     "duration": 0.592795,
     "end_time": "2022-05-01T01:48:42.628258",
     "exception": false,
     "start_time": "2022-05-01T01:48:42.035463",
     "status": "completed"
    },
    "tags": []
   },
   "outputs": [],
   "source": [
    "def preprocess_test(data, mean, std, size=None):\n",
    "    N, H, W, C = data.shape\n",
    "    if size==None:\n",
    "        Y = torch.zeros(N, C, H, W)\n",
    "        transform_test = get_val_transforms((0.1307,), (0.3081,), size)\n",
    "    else:  \n",
    "        Y = torch.zeros(N, C, size, size)\n",
    "        transform_test = transforms.Compose([\n",
    "            transforms.ToPILImage(),\n",
    "            transforms.Resize(size),\n",
    "            transforms.ToTensor(),\n",
    "            transforms.Normalize(mean, std)\n",
    "        ])\n",
    "\n",
    "    for n in range(len(data)):\n",
    "        Y[n] =  transform_test(data[n])\n",
    "        \n",
    "    return Y"
   ]
  },
  {
   "cell_type": "code",
   "execution_count": 11,
   "id": "18ecb06b",
   "metadata": {
    "execution": {
     "iopub.execute_input": "2022-05-01T01:48:42.729674Z",
     "iopub.status.busy": "2022-05-01T01:48:42.729457Z",
     "iopub.status.idle": "2022-05-01T01:48:44.787467Z",
     "shell.execute_reply": "2022-05-01T01:48:44.786766Z"
    },
    "papermill": {
     "duration": 2.111062,
     "end_time": "2022-05-01T01:48:44.789785",
     "exception": false,
     "start_time": "2022-05-01T01:48:42.678723",
     "status": "completed"
    },
    "tags": []
   },
   "outputs": [],
   "source": [
    "chal_data = np.load('mnist_c/' + 'translate/' + 'test_images.npy')\n",
    "chal_data = preprocess_test(chal_data, (0.1307,), (0.3081,), size)\n",
    "chal_labels = val_dataset.targets\n",
    "chal_dataset = torch.utils.data.TensorDataset(chal_data, chal_labels)\n",
    "chal_loader = torch.utils.data.DataLoader(chal_dataset, batch_size=batch_size_test)"
   ]
  },
  {
   "cell_type": "code",
   "execution_count": 12,
   "id": "27c66291",
   "metadata": {
    "execution": {
     "iopub.execute_input": "2022-05-01T01:48:44.892811Z",
     "iopub.status.busy": "2022-05-01T01:48:44.892532Z",
     "iopub.status.idle": "2022-05-01T01:48:44.900408Z",
     "shell.execute_reply": "2022-05-01T01:48:44.899207Z"
    },
    "papermill": {
     "duration": 0.060997,
     "end_time": "2022-05-01T01:48:44.902850",
     "exception": false,
     "start_time": "2022-05-01T01:48:44.841853",
     "status": "completed"
    },
    "tags": []
   },
   "outputs": [
    {
     "name": "stdout",
     "output_type": "stream",
     "text": [
      "79\n"
     ]
    }
   ],
   "source": [
    "print(len(chal_loader))\n",
    "examples = enumerate(chal_loader)\n",
    "batch_idx, (example_data, example_targets) = next(examples)"
   ]
  },
  {
   "cell_type": "code",
   "execution_count": 13,
   "id": "9d60f0da",
   "metadata": {
    "execution": {
     "iopub.execute_input": "2022-05-01T01:48:45.005196Z",
     "iopub.status.busy": "2022-05-01T01:48:45.004592Z",
     "iopub.status.idle": "2022-05-01T01:48:45.425161Z",
     "shell.execute_reply": "2022-05-01T01:48:45.424492Z"
    },
    "papermill": {
     "duration": 0.473481,
     "end_time": "2022-05-01T01:48:45.427054",
     "exception": false,
     "start_time": "2022-05-01T01:48:44.953573",
     "status": "completed"
    },
    "tags": []
   },
   "outputs": [
    {
     "data": {
      "image/png": "[encoded data removed]",
      "text/plain": [
       "<Figure size 432x288 with 6 Axes>"
      ]
     },
     "metadata": {},
     "output_type": "display_data"
    }
   ],
   "source": [
    "fig = plt.figure()\n",
    "for i in range(6):\n",
    "  plt.subplot(2,3,i+1)\n",
    "  plt.tight_layout()\n",
    "  plt.imshow(example_data[i][0], cmap='gray', interpolation='none')\n",
    "  plt.title(\"Ground Truth: {}\".format(example_targets[i]))\n",
    "  plt.xticks([])\n",
    "  plt.yticks([])"
   ]
  },
  {
   "cell_type": "code",
   "execution_count": 14,
   "id": "05726564",
   "metadata": {
    "execution": {
     "iopub.execute_input": "2022-05-01T01:48:45.531212Z",
     "iopub.status.busy": "2022-05-01T01:48:45.530584Z",
     "iopub.status.idle": "2022-05-01T01:48:45.662935Z",
     "shell.execute_reply": "2022-05-01T01:48:45.662002Z"
    },
    "papermill": {
     "duration": 0.186678,
     "end_time": "2022-05-01T01:48:45.664688",
     "exception": false,
     "start_time": "2022-05-01T01:48:45.478010",
     "status": "completed"
    },
    "tags": []
   },
   "outputs": [],
   "source": [
    "class ResNet(nn.Module):\n",
    "    def __init__(self, num_layers, in_channels, output_dim, pretrained = True,freeze_pretrained=False):\n",
    "        super().__init__()\n",
    "\n",
    "        self.conv_layers = None\n",
    "        self.fc_layers = None\n",
    "        self.loss_criterion = None\n",
    "\n",
    "        if num_layers == 18:\n",
    "            resnet_model = models.resnet18(pretrained=pretrained)\n",
    "        elif num_layers == 34:\n",
    "            resnet_model = models.resnet34(pretrained=pretrained)\n",
    "        if in_channels == 1:\n",
    "            conv1 = nn.Conv2d(1, 64, kernel_size=(7, 7), stride=(2, 2), padding=(3, 3), bias=False)\n",
    "            if pretrained:\n",
    "                conv1.weight = nn.Parameter(torch.mean(resnet_model.conv1.weight, dim=1, keepdim=True))\n",
    "            resnet_model.conv1 = conv1\n",
    "        self.conv_layers = nn.Sequential(*(list(resnet_model.children())[:-1]))\n",
    "        self.fc_layers = nn.Sequential(torch.nn.Linear(list(resnet_model.children())[-1].in_features, output_dim))\n",
    "        if freeze_pretrained:\n",
    "            for param in self.conv_layers.parameters():\n",
    "                param.requires_grad = False\n",
    "\n",
    "    def forward(self, x: torch.Tensor) -> torch.Tensor:\n",
    "        model_output = self.conv_layers(x)\n",
    "        model_output = model_output.view(model_output.shape[0], -1)\n",
    "        model_output = self.fc_layers(model_output)\n",
    "\n",
    "        return model_output"
   ]
  },
  {
   "cell_type": "code",
   "execution_count": 15,
   "id": "fd197029",
   "metadata": {
    "execution": {
     "iopub.execute_input": "2022-05-01T01:48:45.768009Z",
     "iopub.status.busy": "2022-05-01T01:48:45.767806Z",
     "iopub.status.idle": "2022-05-01T01:48:45.774850Z",
     "shell.execute_reply": "2022-05-01T01:48:45.774136Z"
    },
    "papermill": {
     "duration": 0.060846,
     "end_time": "2022-05-01T01:48:45.776560",
     "exception": false,
     "start_time": "2022-05-01T01:48:45.715714",
     "status": "completed"
    },
    "tags": []
   },
   "outputs": [],
   "source": [
    "class VGG16(nn.Module):\n",
    "    def __init__(self, in_channels, output_dim):\n",
    "        super().__init__()\n",
    "        model = models.vgg16_bn()\n",
    "        model.classifier = nn.Sequential(\n",
    "            nn.Linear(in_features=model.classifier[0].in_features, out_features=100, bias=True),\n",
    "            nn.ReLU(inplace=True),\n",
    "            nn.Dropout(p=0.5, inplace=False),\n",
    "            nn.Linear(in_features=100, out_features=output_dim, bias=True)\n",
    "        )\n",
    "        model.features[0] = nn.Conv2d(1, 64, kernel_size=(3, 3), stride=(1, 1), padding=(1, 1))\n",
    "        self.model = model\n",
    "    \n",
    "    def forward(self, x: torch.Tensor) -> torch.Tensor:\n",
    "        model_output = self.model(x)\n",
    "\n",
    "        return model_output"
   ]
  },
  {
   "cell_type": "code",
   "execution_count": 16,
   "id": "a3d46b3e",
   "metadata": {
    "execution": {
     "iopub.execute_input": "2022-05-01T01:48:45.880137Z",
     "iopub.status.busy": "2022-05-01T01:48:45.879940Z",
     "iopub.status.idle": "2022-05-01T01:48:45.887628Z",
     "shell.execute_reply": "2022-05-01T01:48:45.886996Z"
    },
    "papermill": {
     "duration": 0.061369,
     "end_time": "2022-05-01T01:48:45.889229",
     "exception": false,
     "start_time": "2022-05-01T01:48:45.827860",
     "status": "completed"
    },
    "tags": []
   },
   "outputs": [],
   "source": [
    "class SimpleCNN(nn.Module):\n",
    "    def __init__(self, in_channels, output_dim):\n",
    "        super(SimpleCNN, self).__init__()\n",
    "        \n",
    "        self.layer = nn.Sequential(\n",
    "            nn.Conv2d(in_channels,16,5), # 16*24*24\n",
    "            nn.ReLU(),\n",
    "            nn.BatchNorm2d(16),\n",
    "            nn.Conv2d(16,32,5), # 32*20*20\n",
    "            nn.ReLU(),\n",
    "            nn.BatchNorm2d(32),\n",
    "            nn.MaxPool2d(2,2), # 32*10*10\n",
    "            nn.Conv2d(32,64,5), # 64*6*6\n",
    "            nn.ReLU(),\n",
    "            nn.BatchNorm2d(64),\n",
    "            nn.MaxPool2d(2,2) #64*3*3\n",
    "        )\n",
    "        \n",
    "        self.fc_layer = nn.Sequential(\n",
    "            nn.Linear(576,100),\n",
    "            nn.ReLU(),\n",
    "            nn.Linear(100,output_dim)\n",
    "        )       \n",
    "        \n",
    "    def forward(self,x):\n",
    "        out = self.layer(x)\n",
    "        out = out.view(out.size(0),-1)\n",
    "        out = self.fc_layer(out)\n",
    "\n",
    "        return out"
   ]
  },
  {
   "cell_type": "code",
   "execution_count": 17,
   "id": "c2c417c3",
   "metadata": {
    "execution": {
     "iopub.execute_input": "2022-05-01T01:48:45.993153Z",
     "iopub.status.busy": "2022-05-01T01:48:45.992963Z",
     "iopub.status.idle": "2022-05-01T01:48:46.000311Z",
     "shell.execute_reply": "2022-05-01T01:48:45.999641Z"
    },
    "papermill": {
     "duration": 0.060925,
     "end_time": "2022-05-01T01:48:46.002027",
     "exception": false,
     "start_time": "2022-05-01T01:48:45.941102",
     "status": "completed"
    },
    "tags": []
   },
   "outputs": [],
   "source": [
    "def plot_loss_history(train_loss_history, validation_loss_history):\n",
    "        \"\"\"Plots the loss history\"\"\"\n",
    "        plt.figure()\n",
    "        epoch_idxs = range(len(train_loss_history))\n",
    "\n",
    "        plt.plot(epoch_idxs, train_loss_history, \"-b\", label=\"training\")\n",
    "        plt.plot(epoch_idxs, validation_loss_history, \"-r\", label=\"validation\")\n",
    "        plt.title(\"Loss history\")\n",
    "        plt.legend()\n",
    "        plt.ylabel(\"Loss\")\n",
    "        plt.xlabel(\"Epochs\")\n",
    "        plt.show()\n",
    "\n",
    "def plot_accuracy(train_accuracy_history, validation_accuracy_history):\n",
    "    \"\"\"Plots the accuracy history\"\"\"\n",
    "    plt.figure()\n",
    "    epoch_idxs = range(len(train_accuracy_history))\n",
    "    plt.plot(epoch_idxs, train_accuracy_history, \"-b\", label=\"training\")\n",
    "    plt.plot(epoch_idxs, validation_accuracy_history, \"-r\", label=\"validation\")\n",
    "    plt.title(\"Accuracy history\")\n",
    "    plt.legend()\n",
    "    plt.ylabel(\"Accuracy\")\n",
    "    plt.xlabel(\"Epochs\")\n",
    "    plt.show()"
   ]
  },
  {
   "cell_type": "code",
   "execution_count": 18,
   "id": "8b15ecf6",
   "metadata": {
    "execution": {
     "iopub.execute_input": "2022-05-01T01:48:46.106082Z",
     "iopub.status.busy": "2022-05-01T01:48:46.105852Z",
     "iopub.status.idle": "2022-05-01T01:48:46.121611Z",
     "shell.execute_reply": "2022-05-01T01:48:46.120919Z"
    },
    "papermill": {
     "duration": 0.070562,
     "end_time": "2022-05-01T01:48:46.123610",
     "exception": false,
     "start_time": "2022-05-01T01:48:46.053048",
     "status": "completed"
    },
    "tags": []
   },
   "outputs": [],
   "source": [
    "def train_model(model, dataloaders, dataset_sizes, criterion, optimizer, scheduler, num_epochs=25):\n",
    "    device = torch.device(\"cuda:0\" if torch.cuda.is_available() else \"cpu\")\n",
    "    since = time.time()\n",
    "    loss_history= []\n",
    "    acc_history = []\n",
    "    best_model_wts = copy.deepcopy(model.state_dict())\n",
    "    best_acc = 0.0\n",
    "    num_train_batches = len(dataloaders['train'])\n",
    "    num_val_batches = len(dataloaders['val'])\n",
    "\n",
    "    for epoch in range(num_epochs):\n",
    "        print('Epoch {}/{}'.format(epoch+1, num_epochs))\n",
    "        print('-' * 10)\n",
    "\n",
    "        # Each epoch has a training and validation phase\n",
    "        for phase in ['train', 'val']:\n",
    "            if phase == 'train':\n",
    "#                 scheduler.step()\n",
    "                model.train()  # Set model to training mode\n",
    "            else:\n",
    "                model.eval()   # Set model to evaluate mode\n",
    "\n",
    "            running_loss = 0.0\n",
    "            running_corrects = 0\n",
    "\n",
    "            for i,(inputs, labels) in enumerate(dataloaders[phase]):\n",
    "                inputs = inputs.to(device)\n",
    "                labels = labels.to(device)\n",
    "\n",
    "                optimizer.zero_grad()\n",
    "\n",
    "                with torch.set_grad_enabled(phase == 'train'):\n",
    "                    outputs = model(inputs)\n",
    "                    _, preds = torch.max(outputs, 1)\n",
    "                    loss = criterion(outputs, labels)\n",
    "\n",
    "                    if phase == 'train':\n",
    "                        loss.backward()\n",
    "                        optimizer.step()\n",
    "\n",
    "                # statistics\n",
    "                running_loss += loss.item()\n",
    "                running_corrects += torch.sum(preds == labels.data)\n",
    "                print(\"\\rIteration: {}/{}, Loss: {}.\".format(i+1, len(dataloaders[phase]), loss.item()), end=\"\")\n",
    "\n",
    "                sys.stdout.flush()\n",
    "                \n",
    "            if phase == 'train':\n",
    "                if scheduler != None:\n",
    "                    scheduler.step()\n",
    "            epoch_loss = running_loss\n",
    "            epoch_acc = running_corrects.double() / dataset_sizes[phase]\n",
    "            if phase == 'train':\n",
    "                avg_loss = epoch_loss\n",
    "                t_acc = epoch_acc\n",
    "            else:\n",
    "                val_loss = epoch_loss\n",
    "                val_acc = epoch_acc\n",
    "\n",
    "            if phase == 'val' and epoch_acc > best_acc:\n",
    "                best_acc = epoch_acc\n",
    "                best_model_wts = copy.deepcopy(model.state_dict())\n",
    "        avg_loss = avg_loss / num_train_batches\n",
    "        val_loss = val_loss/num_val_batches\n",
    "        loss_history.append([avg_loss, val_loss])\n",
    "        acc_history.append([t_acc, val_acc])\n",
    "        print('Train Loss: {:.4f} Acc: {:.4f}'.format(avg_loss, t_acc))\n",
    "        print(  'Val Loss: {:.4f} Acc: {:.4f}'.format(val_loss, val_acc))\n",
    "        print('Best Val Accuracy: {}'.format(best_acc))\n",
    "        print()\n",
    "    \n",
    "    time_elapsed = time.time() - since\n",
    "    print('Training complete in {:.0f}m {:.0f}s'.format(\n",
    "        time_elapsed // 60, time_elapsed % 60))\n",
    "    print('Best val Acc: {:4f}'.format(best_acc))\n",
    "\n",
    "    # load best model weights\n",
    "    model.load_state_dict(best_model_wts)\n",
    "    return model, loss_history, acc_history"
   ]
  },
  {
   "cell_type": "code",
   "execution_count": 19,
   "id": "4305fa27",
   "metadata": {
    "execution": {
     "iopub.execute_input": "2022-05-01T01:48:46.227677Z",
     "iopub.status.busy": "2022-05-01T01:48:46.227434Z",
     "iopub.status.idle": "2022-05-01T01:48:46.232880Z",
     "shell.execute_reply": "2022-05-01T01:48:46.232118Z"
    },
    "papermill": {
     "duration": 0.059169,
     "end_time": "2022-05-01T01:48:46.234566",
     "exception": false,
     "start_time": "2022-05-01T01:48:46.175397",
     "status": "completed"
    },
    "tags": []
   },
   "outputs": [],
   "source": [
    "train_loader = torch.utils.data.DataLoader(train_dataset,batch_size=batch_size_train, shuffle=True)\n",
    "val_loader = torch.utils.data.DataLoader(val_dataset,batch_size=batch_size_test, shuffle=True)\n",
    "dataset_sizes = {}\n",
    "dataset_sizes['train'] = len(train_dataset)\n",
    "dataset_sizes['val'] = len(val_dataset)\n",
    "dataloaders={}\n",
    "dataloaders['train'] = train_loader\n",
    "dataloaders['val'] = val_loader"
   ]
  },
  {
   "cell_type": "code",
   "execution_count": 20,
   "id": "7a5008a8",
   "metadata": {
    "execution": {
     "iopub.execute_input": "2022-05-01T01:48:46.337967Z",
     "iopub.status.busy": "2022-05-01T01:48:46.337293Z",
     "iopub.status.idle": "2022-05-01T01:48:52.021717Z",
     "shell.execute_reply": "2022-05-01T01:48:52.020825Z"
    },
    "papermill": {
     "duration": 5.738577,
     "end_time": "2022-05-01T01:48:52.024081",
     "exception": false,
     "start_time": "2022-05-01T01:48:46.285504",
     "status": "completed"
    },
    "tags": []
   },
   "outputs": [],
   "source": [
    "if model_name == \"vgg16\":\n",
    "    model = VGG16(1, num_classes)\n",
    "elif model_name == \"resnet18\":\n",
    "    model = ResNet(18, 1, num_classes, pretrained = False)\n",
    "elif model_name == 'simpleCNN':\n",
    "    model = SimpleCNN(1, num_classes)\n",
    "\n",
    "device = torch.device(\"cuda:0\" if torch.cuda.is_available() else \"cpu\")\n",
    "model = model.to(device)\n",
    "\n",
    "#Loss Function\n",
    "criterion = nn.CrossEntropyLoss()\n",
    "optimizer = optim.Adam(model.parameters(), lr = lr, weight_decay = wd)\n",
    "\n",
    "# exp_lr_scheduler = lr_scheduler.StepLR(optimizer, step_size=7, gamma=0.1)"
   ]
  },
  {
   "cell_type": "code",
   "execution_count": 21,
   "id": "9f755fe2",
   "metadata": {
    "execution": {
     "iopub.execute_input": "2022-05-01T01:48:52.140583Z",
     "iopub.status.busy": "2022-05-01T01:48:52.140180Z",
     "iopub.status.idle": "2022-05-01T02:21:13.758700Z",
     "shell.execute_reply": "2022-05-01T02:21:13.757585Z"
    },
    "papermill": {
     "duration": 1941.678118,
     "end_time": "2022-05-01T02:21:13.760484",
     "exception": false,
     "start_time": "2022-05-01T01:48:52.082366",
     "status": "completed"
    },
    "tags": []
   },
   "outputs": [
    {
     "name": "stdout",
     "output_type": "stream",
     "text": [
      "Epoch 1/8\n",
      "----------\n",
      "Iteration: 79/79, Loss: 0.1774013340473175.Train Loss: 1.2707 Acc: 0.5097\n",
      "Val Loss: 0.4637 Acc: 0.7827\n",
      "Best Val Accuracy: 0.7827000000000001\n",
      "\n",
      "Epoch 2/8\n",
      "----------\n",
      "Iteration: 79/79, Loss: 0.004717093426734209.Train Loss: 0.7010 Acc: 0.7208\n",
      "Val Loss: 0.1259 Acc: 0.9798\n",
      "Best Val Accuracy: 0.9798\n",
      "\n",
      "Epoch 3/8\n",
      "----------\n",
      "Iteration: 79/79, Loss: 0.0066390736028552055.Train Loss: 0.4126 Acc: 0.8569\n",
      "Val Loss: 0.1304 Acc: 0.9671\n",
      "Best Val Accuracy: 0.9798\n",
      "\n",
      "Epoch 4/8\n",
      "----------\n",
      "Iteration: 79/79, Loss: 1.5376692317659035e-05.Train Loss: 0.3381 Acc: 0.8787\n",
      "Val Loss: 0.0505 Acc: 0.9901\n",
      "Best Val Accuracy: 0.9901000000000001\n",
      "\n",
      "Epoch 5/8\n",
      "----------\n",
      "Iteration: 79/79, Loss: 0.03083053044974804.Train Loss: 0.2346 Acc: 0.9181\n",
      "Val Loss: 0.0654 Acc: 0.9852\n",
      "Best Val Accuracy: 0.9901000000000001\n",
      "\n",
      "Epoch 6/8\n",
      "----------\n",
      "Iteration: 79/79, Loss: 1.2732664799841587e-05.Train Loss: 0.1818 Acc: 0.9342\n",
      "Val Loss: 0.0594 Acc: 0.9879\n",
      "Best Val Accuracy: 0.9901000000000001\n",
      "\n",
      "Epoch 7/8\n",
      "----------\n",
      "Iteration: 79/79, Loss: 1.1101324162154924e-06.Train Loss: 0.1488 Acc: 0.9454\n",
      "Val Loss: 0.0385 Acc: 0.9922\n",
      "Best Val Accuracy: 0.9922000000000001\n",
      "\n",
      "Epoch 8/8\n",
      "----------\n",
      "Iteration: 79/79, Loss: 8.229180093621835e-05.Train Loss: 0.1357 Acc: 0.9579\n",
      "Val Loss: 0.0366 Acc: 0.9931\n",
      "Best Val Accuracy: 0.9931000000000001\n",
      "\n",
      "Training complete in 32m 22s\n",
      "Best val Acc: 0.993100\n"
     ]
    }
   ],
   "source": [
    "model, loss_history, acc_history = train_model(model, dataloaders, dataset_sizes, criterion, optimizer, None,num_epochs=n_epochs)"
   ]
  },
  {
   "cell_type": "code",
   "execution_count": 22,
   "id": "21988c23",
   "metadata": {
    "execution": {
     "iopub.execute_input": "2022-05-01T02:21:16.600279Z",
     "iopub.status.busy": "2022-05-01T02:21:16.600013Z",
     "iopub.status.idle": "2022-05-01T02:21:16.710631Z",
     "shell.execute_reply": "2022-05-01T02:21:16.709901Z"
    },
    "papermill": {
     "duration": 1.537077,
     "end_time": "2022-05-01T02:21:16.712745",
     "exception": false,
     "start_time": "2022-05-01T02:21:15.175668",
     "status": "completed"
    },
    "tags": []
   },
   "outputs": [],
   "source": [
    "torch.save(model.state_dict(), model_name + \"_baseline.pt\") "
   ]
  },
  {
   "cell_type": "code",
   "execution_count": 23,
   "id": "0e5c46cd",
   "metadata": {
    "execution": {
     "iopub.execute_input": "2022-05-01T02:21:19.828548Z",
     "iopub.status.busy": "2022-05-01T02:21:19.828267Z",
     "iopub.status.idle": "2022-05-01T02:21:20.221953Z",
     "shell.execute_reply": "2022-05-01T02:21:20.221271Z"
    },
    "papermill": {
     "duration": 2.075278,
     "end_time": "2022-05-01T02:21:20.223870",
     "exception": false,
     "start_time": "2022-05-01T02:21:18.148592",
     "status": "completed"
    },
    "tags": []
   },
   "outputs": [
    {
     "data": {
      "image/png": "[encoded data removed]",
      "text/plain": [
       "<Figure size 432x288 with 1 Axes>"
      ]
     },
     "metadata": {
      "needs_background": "light"
     },
     "output_type": "display_data"
    },
    {
     "data": {
      "image/png": "[encoded data removed]",
      "text/plain": [
       "<Figure size 432x288 with 1 Axes>"
      ]
     },
     "metadata": {
      "needs_background": "light"
     },
     "output_type": "display_data"
    }
   ],
   "source": [
    "loss_history = pd.DataFrame(loss_history, columns=['train', 'val'])\n",
    "acc_history = pd.DataFrame(acc_history, columns=['train', 'val'])\n",
    "plot_loss_history(loss_history.loc[:, 'train'], loss_history.loc[:, 'val'])\n",
    "plot_accuracy(acc_history.loc[:, 'train'], acc_history.loc[:, 'val'])"
   ]
  },
  {
   "cell_type": "code",
   "execution_count": 24,
   "id": "53693a6c",
   "metadata": {
    "execution": {
     "iopub.execute_input": "2022-05-01T02:21:23.212517Z",
     "iopub.status.busy": "2022-05-01T02:21:23.212241Z",
     "iopub.status.idle": "2022-05-01T02:21:23.255504Z",
     "shell.execute_reply": "2022-05-01T02:21:23.254755Z"
    },
    "papermill": {
     "duration": 1.53312,
     "end_time": "2022-05-01T02:21:23.257197",
     "exception": false,
     "start_time": "2022-05-01T02:21:21.724077",
     "status": "completed"
    },
    "tags": []
   },
   "outputs": [],
   "source": [
    "from copy import deepcopy\n",
    "\n",
    "import torch\n",
    "import torch.nn as nn\n",
    "import torch.jit\n",
    "\n",
    "\n",
    "class Tent(nn.Module):\n",
    "    \"\"\"Tent adapts a model by entropy minimization during testing.\n",
    "    Once tented, a model adapts itself by updating on every forward.\n",
    "    \"\"\"\n",
    "    def __init__(self, model, optimizer, steps=1, episodic=False):\n",
    "        super().__init__()\n",
    "        self.model = model\n",
    "        self.optimizer = optimizer\n",
    "        self.steps = steps\n",
    "        assert steps > 0, \"tent requires >= 1 step(s) to forward and update\"\n",
    "        self.episodic = episodic\n",
    "\n",
    "        # note: if the model is never reset, like for continual adaptation,\n",
    "        # then skipping the state copy would save memory\n",
    "        self.model_state, self.optimizer_state = \\\n",
    "            copy_model_and_optimizer(self.model, self.optimizer)\n",
    "\n",
    "    def forward(self, x):\n",
    "        if self.episodic:\n",
    "            self.reset()\n",
    "\n",
    "        for _ in range(self.steps):\n",
    "            outputs = forward_and_adapt(x, self.model, self.optimizer)\n",
    "\n",
    "        return outputs\n",
    "\n",
    "    def reset(self):\n",
    "        if self.model_state is None or self.optimizer_state is None:\n",
    "            raise Exception(\"cannot reset without saved model/optimizer state\")\n",
    "        load_model_and_optimizer(self.model, self.optimizer,\n",
    "                                 self.model_state, self.optimizer_state)\n",
    "\n",
    "\n",
    "@torch.jit.script\n",
    "def softmax_entropy(x: torch.Tensor) -> torch.Tensor:\n",
    "    \"\"\"Entropy of softmax distribution from logits.\"\"\"\n",
    "    return -(x.softmax(1) * x.log_softmax(1)).sum(1)\n",
    "\n",
    "\n",
    "@torch.enable_grad()  # ensure grads in possible no grad context for testing\n",
    "def forward_and_adapt(x, model, optimizer):\n",
    "    \"\"\"Forward and adapt model on batch of data.\n",
    "    Measure entropy of the model prediction, take gradients, and update params.\n",
    "    \"\"\"\n",
    "    # forward\n",
    "    outputs = model(x)\n",
    "    # adapt\n",
    "    loss = softmax_entropy(outputs).mean(0)\n",
    "    loss.backward()\n",
    "    optimizer.step()\n",
    "    optimizer.zero_grad()\n",
    "    return outputs\n",
    "\n",
    "\n",
    "def collect_params(model):\n",
    "    \"\"\"Collect the affine scale + shift parameters from batch norms.\n",
    "    Walk the model's modules and collect all batch normalization parameters.\n",
    "    Return the parameters and their names.\n",
    "    Note: other choices of parameterization are possible!\n",
    "    \"\"\"\n",
    "    params = []\n",
    "    names = []\n",
    "    for nm, m in model.named_modules():\n",
    "        if isinstance(m, nn.BatchNorm2d):\n",
    "            for np, p in m.named_parameters():\n",
    "                if np in ['weight', 'bias']:  # weight is scale, bias is shift\n",
    "                    params.append(p)\n",
    "                    names.append(f\"{nm}.{np}\")\n",
    "    return params, names\n",
    "\n",
    "\n",
    "def copy_model_and_optimizer(model, optimizer):\n",
    "    \"\"\"Copy the model and optimizer states for resetting after adaptation.\"\"\"\n",
    "    model_state = deepcopy(model.state_dict())\n",
    "    optimizer_state = deepcopy(optimizer.state_dict())\n",
    "    return model_state, optimizer_state\n",
    "\n",
    "\n",
    "def load_model_and_optimizer(model, optimizer, model_state, optimizer_state):\n",
    "    \"\"\"Restore the model and optimizer states from copies.\"\"\"\n",
    "    model.load_state_dict(model_state, strict=True)\n",
    "    optimizer.load_state_dict(optimizer_state)\n",
    "\n",
    "\n",
    "def configure_model(model):\n",
    "    \"\"\"Configure model for use with tent.\"\"\"\n",
    "    # train mode, because tent optimizes the model to minimize entropy\n",
    "    model.train()\n",
    "    # disable grad, to (re-)enable only what tent updates\n",
    "    model.requires_grad_(False)\n",
    "    # configure norm for tent updates: enable grad + force batch statisics\n",
    "    for m in model.modules():\n",
    "        if isinstance(m, nn.BatchNorm2d):\n",
    "            m.requires_grad_(True)\n",
    "            # force use of batch stats in train and eval modes\n",
    "            m.track_running_stats = False\n",
    "            m.running_mean = None\n",
    "            m.running_var = None\n",
    "    return model\n",
    "\n",
    "\n",
    "def check_model(model):\n",
    "    \"\"\"Check model for compatability with tent.\"\"\"\n",
    "    is_training = model.training\n",
    "    assert is_training, \"tent needs train mode: call model.train()\"\n",
    "    param_grads = [p.requires_grad for p in model.parameters()]\n",
    "    has_any_params = any(param_grads)\n",
    "    has_all_params = all(param_grads)\n",
    "    assert has_any_params, \"tent needs params to update: \" \\\n",
    "                           \"check which require grad\"\n",
    "    assert not has_all_params, \"tent should not update all params: \" \\\n",
    "                               \"check which require grad\"\n",
    "    has_bn = any([isinstance(m, nn.BatchNorm2d) for m in model.modules()])\n",
    "    assert has_bn, \"tent needs normalization for its optimization\""
   ]
  },
  {
   "cell_type": "code",
   "execution_count": 25,
   "id": "17879c64",
   "metadata": {
    "execution": {
     "iopub.execute_input": "2022-05-01T02:21:26.105260Z",
     "iopub.status.busy": "2022-05-01T02:21:26.104981Z",
     "iopub.status.idle": "2022-05-01T02:21:28.398995Z",
     "shell.execute_reply": "2022-05-01T02:21:28.398287Z"
    },
    "papermill": {
     "duration": 3.725238,
     "end_time": "2022-05-01T02:21:28.401155",
     "exception": false,
     "start_time": "2022-05-01T02:21:24.675917",
     "status": "completed"
    },
    "tags": []
   },
   "outputs": [],
   "source": [
    "if model_name == \"vgg16\":\n",
    "    model = VGG16(1, num_classes)\n",
    "elif model_name == \"resnet18\":\n",
    "    model = ResNet(18, 1, num_classes, pretrained = False)\n",
    "elif model_name == 'simpleCNN':\n",
    "    model = SimpleCNN(1, num_classes)\n",
    "\n",
    "device = torch.device(\"cuda:0\" if torch.cuda.is_available() else \"cpu\")\n",
    "model.load_state_dict(torch.load(model_name+\"_baseline.pt\"))\n",
    "model = model.to(device)"
   ]
  },
  {
   "cell_type": "code",
   "execution_count": 26,
   "id": "90a8ad97",
   "metadata": {
    "execution": {
     "iopub.execute_input": "2022-05-01T02:21:31.764857Z",
     "iopub.status.busy": "2022-05-01T02:21:31.764453Z",
     "iopub.status.idle": "2022-05-01T02:21:45.255877Z",
     "shell.execute_reply": "2022-05-01T02:21:45.255114Z"
    },
    "papermill": {
     "duration": 15.409939,
     "end_time": "2022-05-01T02:21:45.257919",
     "exception": false,
     "start_time": "2022-05-01T02:21:29.847980",
     "status": "completed"
    },
    "tags": []
   },
   "outputs": [
    {
     "name": "stdout",
     "output_type": "stream",
     "text": [
      "Model:  vgg16\n",
      "###Test Set Accuracy on Clean Images with no TENT###\n",
      "Test loss: 0.0370 | Test acc.: 0.9931\n",
      "\n"
     ]
    }
   ],
   "source": [
    "print(\"Model: \", model_name)\n",
    "print(\"###Test Set Accuracy on Clean Images with no TENT###\")\n",
    "model.eval()\n",
    "test_loader = torch.utils.data.DataLoader(val_dataset, batch_size_test, shuffle=False)\n",
    "running_loss = 0.0\n",
    "running_acc = 0.0\n",
    "\n",
    "\n",
    "for i, batch in enumerate(test_loader):\n",
    "    inputs, labels = batch\n",
    "    inputs, labels = inputs.to(device), labels.to(device)\n",
    "\n",
    "    with torch.no_grad():\n",
    "        outputs = model(inputs)\n",
    "\n",
    "    loss = nn.CrossEntropyLoss(reduction='mean')(outputs, labels)\n",
    "\n",
    "    _, preds = torch.max(outputs, 1)\n",
    "    # y.append(labels.tolist())\n",
    "    # yhat.append(preds.tolist())\n",
    "    running_loss += loss.detach() * inputs.size(0)\n",
    "    running_acc += torch.sum(preds == labels.data)\n",
    "\n",
    "# Get loss and accuracy\n",
    "test_loss = (running_loss / len(val_dataset))\n",
    "test_accuracy = (running_acc.float() / len(val_dataset))\n",
    "\n",
    "# Display loss, accuracy values after each epoch\n",
    "print(\"Test loss: {:.4f} | Test acc.: {:.4f}\\n\"\n",
    "            .format(test_loss.item(),test_accuracy.item()))"
   ]
  },
  {
   "cell_type": "code",
   "execution_count": 27,
   "id": "088d0307",
   "metadata": {
    "execution": {
     "iopub.execute_input": "2022-05-01T02:21:48.155013Z",
     "iopub.status.busy": "2022-05-01T02:21:48.154768Z",
     "iopub.status.idle": "2022-05-01T02:25:55.957618Z",
     "shell.execute_reply": "2022-05-01T02:25:55.956871Z"
    },
    "papermill": {
     "duration": 249.239582,
     "end_time": "2022-05-01T02:25:55.959642",
     "exception": false,
     "start_time": "2022-05-01T02:21:46.720060",
     "status": "completed"
    },
    "tags": []
   },
   "outputs": [
    {
     "name": "stdout",
     "output_type": "stream",
     "text": [
      "Model:  vgg16\n",
      "###Test Set Accuracy on Corrupted Images with no TENT###\n",
      "canny_edges :  0.757099986076355  \n",
      "brightness :  0.7687999606132507  \n",
      "dotted_line :  0.9472999572753906  \n",
      "fog :  0.5769999623298645  \n",
      "identity :  0.9930999875068665  \n",
      "spatter :  0.9563999772071838  \n",
      "zigzag :  0.7866999506950378  \n",
      "scale :  0.9672999978065491  \n",
      "glass_blur :  0.9055999517440796  \n",
      "impulse_noise :  0.8965999484062195  \n",
      "stripe :  0.3511999845504761  \n",
      "shot_noise :  0.9746999740600586  \n",
      "rotate :  0.9664999842643738  \n",
      "motion_blur :  0.9228000044822693  \n",
      "shear :  0.9853000044822693  \n",
      "translate :  0.9056999683380127  \n",
      "Mean:  0.853881224989891\n"
     ]
    }
   ],
   "source": [
    "chal_labels = val_dataset.targets\n",
    "testset_c_dir = 'mnist_c/'\n",
    "challenges = os.listdir(testset_c_dir)\n",
    "# print(challenges)\n",
    "print(\"Model: \", model_name)\n",
    "print(\"###Test Set Accuracy on Corrupted Images with no TENT###\")\n",
    "\n",
    "model.eval()\n",
    "avg_list = []\n",
    "for chal in challenges:\n",
    "    chal_avg = 0\n",
    "    for severity in range(1, 2):\n",
    "        chal_data = np.load(testset_c_dir + chal + '/test_images.npy')\n",
    "        chal_data = preprocess_test(chal_data, (0.1307,), (0.3081,),size)\n",
    "        chal_dataset = torch.utils.data.TensorDataset(chal_data, chal_labels)\n",
    "        test_loader = torch.utils.data.DataLoader(chal_dataset, batch_size=batch_size_test)\n",
    "\n",
    "        sev_acc = 0\n",
    "        with torch.no_grad():\n",
    "            for x, y in test_loader:\n",
    "                x = x.to(device)\n",
    "                y = y.to(device)\n",
    "\n",
    "                outputs = model(x)\n",
    "                sev_acc += torch.sum(torch.argmax(outputs,1) == y)\n",
    "\n",
    "        chal_avg += (sev_acc/len(chal_dataset)).item()\n",
    "    \n",
    "    avg_list.append(chal_avg)\n",
    "    print(chal, \": \", (chal_avg),\" \")\n",
    "\n",
    "print(\"Mean: \", np.mean(avg_list))"
   ]
  },
  {
   "cell_type": "code",
   "execution_count": 28,
   "id": "748d25ef",
   "metadata": {
    "execution": {
     "iopub.execute_input": "2022-05-01T02:25:58.838698Z",
     "iopub.status.busy": "2022-05-01T02:25:58.838420Z",
     "iopub.status.idle": "2022-05-01T02:25:58.843677Z",
     "shell.execute_reply": "2022-05-01T02:25:58.842861Z"
    },
    "papermill": {
     "duration": 1.441616,
     "end_time": "2022-05-01T02:25:58.845766",
     "exception": false,
     "start_time": "2022-05-01T02:25:57.404150",
     "status": "completed"
    },
    "tags": []
   },
   "outputs": [],
   "source": [
    "baseresults= list(zip(challenges, avg_list))\n",
    "results = pd.DataFrame(baseresults, columns=['DistortionType', 'baseline_score'])\n",
    "# model_base.to_csv(model_name+\"_baseline.csv\")"
   ]
  },
  {
   "cell_type": "code",
   "execution_count": 29,
   "id": "8fd85db0",
   "metadata": {
    "execution": {
     "iopub.execute_input": "2022-05-01T02:26:01.702314Z",
     "iopub.status.busy": "2022-05-01T02:26:01.702072Z",
     "iopub.status.idle": "2022-05-01T02:26:27.942960Z",
     "shell.execute_reply": "2022-05-01T02:26:27.942249Z"
    },
    "papermill": {
     "duration": 27.668193,
     "end_time": "2022-05-01T02:26:27.944893",
     "exception": false,
     "start_time": "2022-05-01T02:26:00.276700",
     "status": "completed"
    },
    "tags": []
   },
   "outputs": [
    {
     "name": "stdout",
     "output_type": "stream",
     "text": [
      "Model:  vgg16\n",
      "###Test Set Accuracy on Clean Images with TENT###\n",
      "Test loss: 0.0371 | Test acc.: 0.9924\n",
      "\n"
     ]
    }
   ],
   "source": [
    "print(\"Model: \", model_name)\n",
    "print(\"###Test Set Accuracy on Clean Images with TENT###\")\n",
    "if model_name == \"vgg16\":\n",
    "    model = VGG16(1, num_classes)\n",
    "elif model_name == \"resnet18\":\n",
    "    model = ResNet(18, 1, num_classes, pretrained = False)\n",
    "elif model_name == 'simpleCNN':\n",
    "    model = SimpleCNN(1, num_classes)\n",
    "    \n",
    "device = torch.device(\"cuda:0\" if torch.cuda.is_available() else \"cpu\")\n",
    "model.load_state_dict(torch.load(model_name+\"_baseline.pt\"))\n",
    "\n",
    "net = configure_model(model)\n",
    "params, param_names = collect_params(net)\n",
    "optimizer = torch.optim.Adam(params, lr=1e-3)\n",
    "tented_model = Tent(net, optimizer)\n",
    "\n",
    "tented_model = tented_model.to(device)\n",
    "tented_model.eval()\n",
    "test_loader = torch.utils.data.DataLoader(val_dataset, batch_size_test, shuffle=False)\n",
    "running_loss = 0.0\n",
    "running_acc = 0.0\n",
    "\n",
    "\n",
    "for i, batch in enumerate(test_loader):\n",
    "    inputs, labels = batch\n",
    "    inputs, labels = inputs.to(device), labels.to(device)\n",
    "\n",
    "    with torch.no_grad(): \n",
    "        outputs = tented_model(inputs)\n",
    "    loss = nn.CrossEntropyLoss(reduction='mean')(outputs, labels)\n",
    "\n",
    "    _, preds = torch.max(outputs, 1)\n",
    "    running_loss += loss.detach() * inputs.size(0)\n",
    "    running_acc += torch.sum(preds == labels.data)\n",
    "\n",
    "# Get loss and accuracy\n",
    "test_loss = (running_loss / len(val_dataset))\n",
    "test_accuracy = (running_acc.float() / len(val_dataset))\n",
    "\n",
    "# Display loss, accuracy values after each epoch\n",
    "print(\"Test loss: {:.4f} | Test acc.: {:.4f}\\n\"\n",
    "            .format(test_loss.item(),test_accuracy.item()))"
   ]
  },
  {
   "cell_type": "code",
   "execution_count": 30,
   "id": "8e33cffa",
   "metadata": {
    "execution": {
     "iopub.execute_input": "2022-05-01T02:26:30.813399Z",
     "iopub.status.busy": "2022-05-01T02:26:30.813057Z",
     "iopub.status.idle": "2022-05-01T02:34:09.166586Z",
     "shell.execute_reply": "2022-05-01T02:34:09.165758Z"
    },
    "papermill": {
     "duration": 461.473132,
     "end_time": "2022-05-01T02:34:10.852264",
     "exception": false,
     "start_time": "2022-05-01T02:26:29.379132",
     "status": "completed"
    },
    "tags": []
   },
   "outputs": [
    {
     "name": "stdout",
     "output_type": "stream",
     "text": [
      "Model:  vgg16\n",
      "###Test Set Accuracy on Corrupted Images with TENT###\n",
      "canny_edges :  0.8748999834060669  \n",
      "brightness :  0.9651999473571777  \n",
      "dotted_line :  0.9472999572753906  \n",
      "fog :  0.8779999613761902  \n",
      "identity :  0.9656999707221985  \n",
      "spatter :  0.9449999928474426  \n",
      "zigzag :  0.8273999691009521  \n",
      "scale :  0.943399965763092  \n",
      "glass_blur :  0.9211999773979187  \n",
      "impulse_noise :  0.9398999810218811  \n",
      "stripe :  0.8453999757766724  \n",
      "shot_noise :  0.9591999650001526  \n",
      "rotate :  0.9472999572753906  \n",
      "motion_blur :  0.9449999928474426  \n",
      "shear :  0.9611999988555908  \n",
      "translate :  0.8804999589920044  \n",
      "Mean:  0.9216624721884727\n"
     ]
    }
   ],
   "source": [
    "chal_labels = val_dataset.targets\n",
    "testset_c_dir = 'mnist_c/'\n",
    "challenges = os.listdir(testset_c_dir)\n",
    "print(\"Model: \", model_name)\n",
    "print(\"###Test Set Accuracy on Corrupted Images with TENT###\")\n",
    "\n",
    "model.eval()\n",
    "avg_list = []\n",
    "for chal in challenges:\n",
    "    chal_avg = 0\n",
    "    for severity in range(1, 2):\n",
    "        if model_name == \"vgg16\":\n",
    "            model = VGG16(1, num_classes)\n",
    "        elif model_name == \"resnet18\":\n",
    "            model = ResNet(18, 1, num_classes, pretrained = False)\n",
    "        elif model_name == 'simpleCNN':\n",
    "            model = SimpleCNN(1, num_classes)\n",
    "\n",
    "        device = torch.device(\"cuda:0\" if torch.cuda.is_available() else \"cpu\")\n",
    "        model.load_state_dict(torch.load(model_name+\"_baseline.pt\"))\n",
    "        \n",
    "        net = configure_model(model)\n",
    "        params, param_names = collect_params(net)\n",
    "        optimizer = torch.optim.Adam(params, lr=1e-3)\n",
    "        tented_model = Tent(net, optimizer)\n",
    "\n",
    "        tented_model = tented_model.to(device)\n",
    "\n",
    "        chal_data = np.load(testset_c_dir + chal + '/test_images.npy')\n",
    "        chal_data = preprocess_test(chal_data, (0.1307,), (0.3081,), size)\n",
    "        chal_dataset = torch.utils.data.TensorDataset(chal_data, chal_labels)\n",
    "        test_loader = torch.utils.data.DataLoader(chal_dataset, batch_size=batch_size_test)\n",
    "\n",
    "        sev_acc = 0\n",
    "        with torch.no_grad():\n",
    "            for x, y in test_loader:\n",
    "                x = x.to(device)\n",
    "                y = y.to(device)\n",
    "\n",
    "                outputs = tented_model(x)\n",
    "                sev_acc += torch.sum(torch.argmax(outputs,1) == y)\n",
    "\n",
    "        chal_avg += (sev_acc/len(chal_dataset)).item()\n",
    "    \n",
    "    avg_list.append(chal_avg)\n",
    "    print(chal, \": \", (chal_avg),\" \")\n",
    "\n",
    "print(\"Mean: \", np.mean(avg_list))"
   ]
  },
  {
   "cell_type": "code",
   "execution_count": 31,
   "id": "43acaea9",
   "metadata": {
    "execution": {
     "iopub.execute_input": "2022-05-01T02:34:13.717094Z",
     "iopub.status.busy": "2022-05-01T02:34:13.716845Z",
     "iopub.status.idle": "2022-05-01T02:34:13.729535Z",
     "shell.execute_reply": "2022-05-01T02:34:13.728727Z"
    },
    "papermill": {
     "duration": 1.442126,
     "end_time": "2022-05-01T02:34:13.731512",
     "exception": false,
     "start_time": "2022-05-01T02:34:12.289386",
     "status": "completed"
    },
    "tags": []
   },
   "outputs": [],
   "source": [
    "results[\"tent_score\"] = avg_list\n",
    "results.to_csv(model_name+'_results.csv')\n",
    "results = results.set_index('DistortionType')"
   ]
  },
  {
   "cell_type": "code",
   "execution_count": 32,
   "id": "6cd5c90e",
   "metadata": {
    "execution": {
     "iopub.execute_input": "2022-05-01T02:34:16.657054Z",
     "iopub.status.busy": "2022-05-01T02:34:16.656512Z",
     "iopub.status.idle": "2022-05-01T02:34:17.378042Z",
     "shell.execute_reply": "2022-05-01T02:34:17.377377Z"
    },
    "papermill": {
     "duration": 2.162275,
     "end_time": "2022-05-01T02:34:17.380057",
     "exception": false,
     "start_time": "2022-05-01T02:34:15.217782",
     "status": "completed"
    },
    "tags": []
   },
   "outputs": [
    {
     "data": {
      "image/png": "[encoded data removed]",
      "text/plain": [
       "<Figure size 1152x576 with 1 Axes>"
      ]
     },
     "metadata": {
      "needs_background": "light"
     },
     "output_type": "display_data"
    }
   ],
   "source": [
    "ax = results.plot.barh(figsize=(16,8))\n",
    "ax.set_xlabel(\"Accuracy\")\n",
    "plt.savefig(\"mnistc_\" + model_name +\".pdf\",bbox_inches = \"tight\")"
   ]
  }
 ],
 "metadata": {
  "kernelspec": {
   "display_name": "Python 3",
   "language": "python",
   "name": "python3"
  },
  "language_info": {
   "codemirror_mode": {
    "name": "ipython",
    "version": 3
   },
   "file_extension": ".py",
   "mimetype": "text/x-python",
   "name": "python",
   "nbconvert_exporter": "python",
   "pygments_lexer": "ipython3",
   "version": "3.7.12"
  },
  "papermill": {
   "default_parameters": {},
   "duration": 2772.671724,
   "end_time": "2022-05-01T02:34:22.249183",
   "environment_variables": {},
   "exception": null,
   "input_path": "__notebook__.ipynb",
   "output_path": "__notebook__.ipynb",
   "parameters": {},
   "start_time": "2022-05-01T01:48:09.577459",
   "version": "2.3.4"
  },
  "widgets": {
   "application/vnd.jupyter.widget-state+json": {
    "state": {
     "0754c8e827a94d6d96a14b451e7b9a9a": {
      "model_module": "@jupyter-widgets/controls",
      "model_module_version": "1.5.0",
      "model_name": "HTMLModel",
      "state": {
       "_dom_classes": [],
       "_model_module": "@jupyter-widgets/controls",
       "_model_module_version": "1.5.0",
       "_model_name": "HTMLModel",
       "_view_count": null,
       "_view_module": "@jupyter-widgets/controls",
       "_view_module_version": "1.5.0",
       "_view_name": "HTMLView",
       "description": "",
       "description_tooltip": null,
       "layout": "IPY_MODEL_6069747dde014878ba045be2d8abfec0",
       "placeholder": "​",
       "style": "IPY_MODEL_bec5c599bce84254af2bc5d5518542ba",
       "value": " 29696/? [00:00&lt;00:00, 1226976.36it/s]"
      }
     },
     "1387d95b23764d76984d1b96134bd8c2": {
      "model_module": "@jupyter-widgets/controls",
      "model_module_version": "1.5.0",
      "model_name": "HTMLModel",
      "state": {
       "_dom_classes": [],
       "_model_module": "@jupyter-widgets/controls",
       "_model_module_version": "1.5.0",
       "_model_name": "HTMLModel",
       "_view_count": null,
       "_view_module": "@jupyter-widgets/controls",
       "_view_module_version": "1.5.0",
       "_view_name": "HTMLView",
       "description": "",
       "description_tooltip": null,
       "layout": "IPY_MODEL_e824d113954246679756618341473c91",
       "placeholder": "​",
       "style": "IPY_MODEL_35f980cb8e53454fb0c2fd99fbaa2415",
       "value": " 1649664/? [00:00&lt;00:00, 18930292.59it/s]"
      }
     },
     "1419a0666a634d60af7f92ea5d31a45d": {
      "model_module": "@jupyter-widgets/controls",
      "model_module_version": "1.5.0",
      "model_name": "DescriptionStyleModel",
      "state": {
       "_model_module": "@jupyter-widgets/controls",
       "_model_module_version": "1.5.0",
       "_model_name": "DescriptionStyleModel",
       "_view_count": null,
       "_view_module": "@jupyter-widgets/base",
       "_view_module_version": "1.2.0",
       "_view_name": "StyleView",
       "description_width": ""
      }
     },
     "1cda05d8953444f8b77b5e252b08a950": {
      "model_module": "@jupyter-widgets/controls",
      "model_module_version": "1.5.0",
      "model_name": "DescriptionStyleModel",
      "state": {
       "_model_module": "@jupyter-widgets/controls",
       "_model_module_version": "1.5.0",
       "_model_name": "DescriptionStyleModel",
       "_view_count": null,
       "_view_module": "@jupyter-widgets/base",
       "_view_module_version": "1.2.0",
       "_view_name": "StyleView",
       "description_width": ""
      }
     },
     "2a8885dff4094429aa13a48780576885": {
      "model_module": "@jupyter-widgets/controls",
      "model_module_version": "1.5.0",
      "model_name": "FloatProgressModel",
      "state": {
       "_dom_classes": [],
       "_model_module": "@jupyter-widgets/controls",
       "_model_module_version": "1.5.0",
       "_model_name": "FloatProgressModel",
       "_view_count": null,
       "_view_module": "@jupyter-widgets/controls",
       "_view_module_version": "1.5.0",
       "_view_name": "ProgressView",
       "bar_style": "success",
       "description": "",
       "description_tooltip": null,
       "layout": "IPY_MODEL_d4818b61d874449fa82565c849231fa8",
       "max": 4542,
       "min": 0,
       "orientation": "horizontal",
       "style": "IPY_MODEL_85867082b9ae499fbc39027195f6f2c6",
       "value": 4542
      }
     },
     "31c41db23ffc4cf4b28cd5425d8f88d6": {
      "model_module": "@jupyter-widgets/controls",
      "model_module_version": "1.5.0",
      "model_name": "HTMLModel",
      "state": {
       "_dom_classes": [],
       "_model_module": "@jupyter-widgets/controls",
       "_model_module_version": "1.5.0",
       "_model_name": "HTMLModel",
       "_view_count": null,
       "_view_module": "@jupyter-widgets/controls",
       "_view_module_version": "1.5.0",
       "_view_name": "HTMLView",
       "description": "",
       "description_tooltip": null,
       "layout": "IPY_MODEL_83efaced6dce4c05aef9f75fc0b2b6ab",
       "placeholder": "​",
       "style": "IPY_MODEL_3ed401e2dbc34726a0830c2c0427d42b",
       "value": " 9913344/? [00:00&lt;00:00, 29806962.86it/s]"
      }
     },
     "35f980cb8e53454fb0c2fd99fbaa2415": {
      "model_module": "@jupyter-widgets/controls",
      "model_module_version": "1.5.0",
      "model_name": "DescriptionStyleModel",
      "state": {
       "_model_module": "@jupyter-widgets/controls",
       "_model_module_version": "1.5.0",
       "_model_name": "DescriptionStyleModel",
       "_view_count": null,
       "_view_module": "@jupyter-widgets/base",
       "_view_module_version": "1.2.0",
       "_view_name": "StyleView",
       "description_width": ""
      }
     },
     "3db1248a24b54656b291ccabea16cc5c": {
      "model_module": "@jupyter-widgets/base",
      "model_module_version": "1.2.0",
      "model_name": "LayoutModel",
      "state": {
       "_model_module": "@jupyter-widgets/base",
       "_model_module_version": "1.2.0",
       "_model_name": "LayoutModel",
       "_view_count": null,
       "_view_module": "@jupyter-widgets/base",
       "_view_module_version": "1.2.0",
       "_view_name": "LayoutView",
       "align_content": null,
       "align_items": null,
       "align_self": null,
       "border": null,
       "bottom": null,
       "display": null,
       "flex": null,
       "flex_flow": null,
       "grid_area": null,
       "grid_auto_columns": null,
       "grid_auto_flow": null,
       "grid_auto_rows": null,
       "grid_column": null,
       "grid_gap": null,
       "grid_row": null,
       "grid_template_areas": null,
       "grid_template_columns": null,
       "grid_template_rows": null,
       "height": null,
       "justify_content": null,
       "justify_items": null,
       "left": null,
       "margin": null,
       "max_height": null,
       "max_width": null,
       "min_height": null,
       "min_width": null,
       "object_fit": null,
       "object_position": null,
       "order": null,
       "overflow": null,
       "overflow_x": null,
       "overflow_y": null,
       "padding": null,
       "right": null,
       "top": null,
       "visibility": null,
       "width": null
      }
     },
     "3ed401e2dbc34726a0830c2c0427d42b": {
      "model_module": "@jupyter-widgets/controls",
      "model_module_version": "1.5.0",
      "model_name": "DescriptionStyleModel",
      "state": {
       "_model_module": "@jupyter-widgets/controls",
       "_model_module_version": "1.5.0",
       "_model_name": "DescriptionStyleModel",
       "_view_count": null,
       "_view_module": "@jupyter-widgets/base",
       "_view_module_version": "1.2.0",
       "_view_name": "StyleView",
       "description_width": ""
      }
     },
     "41756bfae3284795aa571fd8c5143c16": {
      "model_module": "@jupyter-widgets/controls",
      "model_module_version": "1.5.0",
      "model_name": "HTMLModel",
      "state": {
       "_dom_classes": [],
       "_model_module": "@jupyter-widgets/controls",
       "_model_module_version": "1.5.0",
       "_model_name": "HTMLModel",
       "_view_count": null,
       "_view_module": "@jupyter-widgets/controls",
       "_view_module_version": "1.5.0",
       "_view_name": "HTMLView",
       "description": "",
       "description_tooltip": null,
       "layout": "IPY_MODEL_d9d37e2cc8ad4ed1877790896cc65c7a",
       "placeholder": "​",
       "style": "IPY_MODEL_85200e5a7c91412f86ea044650665850",
       "value": " 5120/? [00:00&lt;00:00, 220634.90it/s]"
      }
     },
     "4299db5738884ca2bb65b3c95b1e59a9": {
      "model_module": "@jupyter-widgets/controls",
      "model_module_version": "1.5.0",
      "model_name": "FloatProgressModel",
      "state": {
       "_dom_classes": [],
       "_model_module": "@jupyter-widgets/controls",
       "_model_module_version": "1.5.0",
       "_model_name": "FloatProgressModel",
       "_view_count": null,
       "_view_module": "@jupyter-widgets/controls",
       "_view_module_version": "1.5.0",
       "_view_name": "ProgressView",
       "bar_style": "success",
       "description": "",
       "description_tooltip": null,
       "layout": "IPY_MODEL_6233c852ba61428187269e59dabd972c",
       "max": 1648877,
       "min": 0,
       "orientation": "horizontal",
       "style": "IPY_MODEL_e3920254ca34440699f89e58356e4105",
       "value": 1648877
      }
     },
     "47c06cd7e09d4d41b9db81123f5b8c52": {
      "model_module": "@jupyter-widgets/base",
      "model_module_version": "1.2.0",
      "model_name": "LayoutModel",
      "state": {
       "_model_module": "@jupyter-widgets/base",
       "_model_module_version": "1.2.0",
       "_model_name": "LayoutModel",
       "_view_count": null,
       "_view_module": "@jupyter-widgets/base",
       "_view_module_version": "1.2.0",
       "_view_name": "LayoutView",
       "align_content": null,
       "align_items": null,
       "align_self": null,
       "border": null,
       "bottom": null,
       "display": null,
       "flex": null,
       "flex_flow": null,
       "grid_area": null,
       "grid_auto_columns": null,
       "grid_auto_flow": null,
       "grid_auto_rows": null,
       "grid_column": null,
       "grid_gap": null,
       "grid_row": null,
       "grid_template_areas": null,
       "grid_template_columns": null,
       "grid_template_rows": null,
       "height": null,
       "justify_content": null,
       "justify_items": null,
       "left": null,
       "margin": null,
       "max_height": null,
       "max_width": null,
       "min_height": null,
       "min_width": null,
       "object_fit": null,
       "object_position": null,
       "order": null,
       "overflow": null,
       "overflow_x": null,
       "overflow_y": null,
       "padding": null,
       "right": null,
       "top": null,
       "visibility": null,
       "width": null
      }
     },
     "4cfe5ea3f91944cd975f79b727a95b17": {
      "model_module": "@jupyter-widgets/controls",
      "model_module_version": "1.5.0",
      "model_name": "DescriptionStyleModel",
      "state": {
       "_model_module": "@jupyter-widgets/controls",
       "_model_module_version": "1.5.0",
       "_model_name": "DescriptionStyleModel",
       "_view_count": null,
       "_view_module": "@jupyter-widgets/base",
       "_view_module_version": "1.2.0",
       "_view_name": "StyleView",
       "description_width": ""
      }
     },
     "51da4c90d1d1463294724f3cdfc1c5c2": {
      "model_module": "@jupyter-widgets/base",
      "model_module_version": "1.2.0",
      "model_name": "LayoutModel",
      "state": {
       "_model_module": "@jupyter-widgets/base",
       "_model_module_version": "1.2.0",
       "_model_name": "LayoutModel",
       "_view_count": null,
       "_view_module": "@jupyter-widgets/base",
       "_view_module_version": "1.2.0",
       "_view_name": "LayoutView",
       "align_content": null,
       "align_items": null,
       "align_self": null,
       "border": null,
       "bottom": null,
       "display": null,
       "flex": null,
       "flex_flow": null,
       "grid_area": null,
       "grid_auto_columns": null,
       "grid_auto_flow": null,
       "grid_auto_rows": null,
       "grid_column": null,
       "grid_gap": null,
       "grid_row": null,
       "grid_template_areas": null,
       "grid_template_columns": null,
       "grid_template_rows": null,
       "height": null,
       "justify_content": null,
       "justify_items": null,
       "left": null,
       "margin": null,
       "max_height": null,
       "max_width": null,
       "min_height": null,
       "min_width": null,
       "object_fit": null,
       "object_position": null,
       "order": null,
       "overflow": null,
       "overflow_x": null,
       "overflow_y": null,
       "padding": null,
       "right": null,
       "top": null,
       "visibility": null,
       "width": null
      }
     },
     "51e8d9440a1e470eb775e887f1acc3c0": {
      "model_module": "@jupyter-widgets/controls",
      "model_module_version": "1.5.0",
      "model_name": "ProgressStyleModel",
      "state": {
       "_model_module": "@jupyter-widgets/controls",
       "_model_module_version": "1.5.0",
       "_model_name": "ProgressStyleModel",
       "_view_count": null,
       "_view_module": "@jupyter-widgets/base",
       "_view_module_version": "1.2.0",
       "_view_name": "StyleView",
       "bar_color": null,
       "description_width": ""
      }
     },
     "565e365e425944f0aa8b22c54f9371f5": {
      "model_module": "@jupyter-widgets/base",
      "model_module_version": "1.2.0",
      "model_name": "LayoutModel",
      "state": {
       "_model_module": "@jupyter-widgets/base",
       "_model_module_version": "1.2.0",
       "_model_name": "LayoutModel",
       "_view_count": null,
       "_view_module": "@jupyter-widgets/base",
       "_view_module_version": "1.2.0",
       "_view_name": "LayoutView",
       "align_content": null,
       "align_items": null,
       "align_self": null,
       "border": null,
       "bottom": null,
       "display": null,
       "flex": null,
       "flex_flow": null,
       "grid_area": null,
       "grid_auto_columns": null,
       "grid_auto_flow": null,
       "grid_auto_rows": null,
       "grid_column": null,
       "grid_gap": null,
       "grid_row": null,
       "grid_template_areas": null,
       "grid_template_columns": null,
       "grid_template_rows": null,
       "height": null,
       "justify_content": null,
       "justify_items": null,
       "left": null,
       "margin": null,
       "max_height": null,
       "max_width": null,
       "min_height": null,
       "min_width": null,
       "object_fit": null,
       "object_position": null,
       "order": null,
       "overflow": null,
       "overflow_x": null,
       "overflow_y": null,
       "padding": null,
       "right": null,
       "top": null,
       "visibility": null,
       "width": null
      }
     },
     "581f05e0d4904a5d92863b13df125001": {
      "model_module": "@jupyter-widgets/controls",
      "model_module_version": "1.5.0",
      "model_name": "HBoxModel",
      "state": {
       "_dom_classes": [],
       "_model_module": "@jupyter-widgets/controls",
       "_model_module_version": "1.5.0",
       "_model_name": "HBoxModel",
       "_view_count": null,
       "_view_module": "@jupyter-widgets/controls",
       "_view_module_version": "1.5.0",
       "_view_name": "HBoxView",
       "box_style": "",
       "children": [
        "IPY_MODEL_dfaca447a16c4173a3610e99d0ac4399",
        "IPY_MODEL_4299db5738884ca2bb65b3c95b1e59a9",
        "IPY_MODEL_1387d95b23764d76984d1b96134bd8c2"
       ],
       "layout": "IPY_MODEL_47c06cd7e09d4d41b9db81123f5b8c52"
      }
     },
     "6069747dde014878ba045be2d8abfec0": {
      "model_module": "@jupyter-widgets/base",
      "model_module_version": "1.2.0",
      "model_name": "LayoutModel",
      "state": {
       "_model_module": "@jupyter-widgets/base",
       "_model_module_version": "1.2.0",
       "_model_name": "LayoutModel",
       "_view_count": null,
       "_view_module": "@jupyter-widgets/base",
       "_view_module_version": "1.2.0",
       "_view_name": "LayoutView",
       "align_content": null,
       "align_items": null,
       "align_self": null,
       "border": null,
       "bottom": null,
       "display": null,
       "flex": null,
       "flex_flow": null,
       "grid_area": null,
       "grid_auto_columns": null,
       "grid_auto_flow": null,
       "grid_auto_rows": null,
       "grid_column": null,
       "grid_gap": null,
       "grid_row": null,
       "grid_template_areas": null,
       "grid_template_columns": null,
       "grid_template_rows": null,
       "height": null,
       "justify_content": null,
       "justify_items": null,
       "left": null,
       "margin": null,
       "max_height": null,
       "max_width": null,
       "min_height": null,
       "min_width": null,
       "object_fit": null,
       "object_position": null,
       "order": null,
       "overflow": null,
       "overflow_x": null,
       "overflow_y": null,
       "padding": null,
       "right": null,
       "top": null,
       "visibility": null,
       "width": null
      }
     },
     "6233c852ba61428187269e59dabd972c": {
      "model_module": "@jupyter-widgets/base",
      "model_module_version": "1.2.0",
      "model_name": "LayoutModel",
      "state": {
       "_model_module": "@jupyter-widgets/base",
       "_model_module_version": "1.2.0",
       "_model_name": "LayoutModel",
       "_view_count": null,
       "_view_module": "@jupyter-widgets/base",
       "_view_module_version": "1.2.0",
       "_view_name": "LayoutView",
       "align_content": null,
       "align_items": null,
       "align_self": null,
       "border": null,
       "bottom": null,
       "display": null,
       "flex": null,
       "flex_flow": null,
       "grid_area": null,
       "grid_auto_columns": null,
       "grid_auto_flow": null,
       "grid_auto_rows": null,
       "grid_column": null,
       "grid_gap": null,
       "grid_row": null,
       "grid_template_areas": null,
       "grid_template_columns": null,
       "grid_template_rows": null,
       "height": null,
       "justify_content": null,
       "justify_items": null,
       "left": null,
       "margin": null,
       "max_height": null,
       "max_width": null,
       "min_height": null,
       "min_width": null,
       "object_fit": null,
       "object_position": null,
       "order": null,
       "overflow": null,
       "overflow_x": null,
       "overflow_y": null,
       "padding": null,
       "right": null,
       "top": null,
       "visibility": null,
       "width": null
      }
     },
     "63eb522bf33c4da8b87f57630a43e1cf": {
      "model_module": "@jupyter-widgets/base",
      "model_module_version": "1.2.0",
      "model_name": "LayoutModel",
      "state": {
       "_model_module": "@jupyter-widgets/base",
       "_model_module_version": "1.2.0",
       "_model_name": "LayoutModel",
       "_view_count": null,
       "_view_module": "@jupyter-widgets/base",
       "_view_module_version": "1.2.0",
       "_view_name": "LayoutView",
       "align_content": null,
       "align_items": null,
       "align_self": null,
       "border": null,
       "bottom": null,
       "display": null,
       "flex": null,
       "flex_flow": null,
       "grid_area": null,
       "grid_auto_columns": null,
       "grid_auto_flow": null,
       "grid_auto_rows": null,
       "grid_column": null,
       "grid_gap": null,
       "grid_row": null,
       "grid_template_areas": null,
       "grid_template_columns": null,
       "grid_template_rows": null,
       "height": null,
       "justify_content": null,
       "justify_items": null,
       "left": null,
       "margin": null,
       "max_height": null,
       "max_width": null,
       "min_height": null,
       "min_width": null,
       "object_fit": null,
       "object_position": null,
       "order": null,
       "overflow": null,
       "overflow_x": null,
       "overflow_y": null,
       "padding": null,
       "right": null,
       "top": null,
       "visibility": null,
       "width": null
      }
     },
     "69641af9afe04d1ca1e412990ebff9ea": {
      "model_module": "@jupyter-widgets/controls",
      "model_module_version": "1.5.0",
      "model_name": "HTMLModel",
      "state": {
       "_dom_classes": [],
       "_model_module": "@jupyter-widgets/controls",
       "_model_module_version": "1.5.0",
       "_model_name": "HTMLModel",
       "_view_count": null,
       "_view_module": "@jupyter-widgets/controls",
       "_view_module_version": "1.5.0",
       "_view_name": "HTMLView",
       "description": "",
       "description_tooltip": null,
       "layout": "IPY_MODEL_51da4c90d1d1463294724f3cdfc1c5c2",
       "placeholder": "​",
       "style": "IPY_MODEL_1419a0666a634d60af7f92ea5d31a45d",
       "value": ""
      }
     },
     "83efaced6dce4c05aef9f75fc0b2b6ab": {
      "model_module": "@jupyter-widgets/base",
      "model_module_version": "1.2.0",
      "model_name": "LayoutModel",
      "state": {
       "_model_module": "@jupyter-widgets/base",
       "_model_module_version": "1.2.0",
       "_model_name": "LayoutModel",
       "_view_count": null,
       "_view_module": "@jupyter-widgets/base",
       "_view_module_version": "1.2.0",
       "_view_name": "LayoutView",
       "align_content": null,
       "align_items": null,
       "align_self": null,
       "border": null,
       "bottom": null,
       "display": null,
       "flex": null,
       "flex_flow": null,
       "grid_area": null,
       "grid_auto_columns": null,
       "grid_auto_flow": null,
       "grid_auto_rows": null,
       "grid_column": null,
       "grid_gap": null,
       "grid_row": null,
       "grid_template_areas": null,
       "grid_template_columns": null,
       "grid_template_rows": null,
       "height": null,
       "justify_content": null,
       "justify_items": null,
       "left": null,
       "margin": null,
       "max_height": null,
       "max_width": null,
       "min_height": null,
       "min_width": null,
       "object_fit": null,
       "object_position": null,
       "order": null,
       "overflow": null,
       "overflow_x": null,
       "overflow_y": null,
       "padding": null,
       "right": null,
       "top": null,
       "visibility": null,
       "width": null
      }
     },
     "85200e5a7c91412f86ea044650665850": {
      "model_module": "@jupyter-widgets/controls",
      "model_module_version": "1.5.0",
      "model_name": "DescriptionStyleModel",
      "state": {
       "_model_module": "@jupyter-widgets/controls",
       "_model_module_version": "1.5.0",
       "_model_name": "DescriptionStyleModel",
       "_view_count": null,
       "_view_module": "@jupyter-widgets/base",
       "_view_module_version": "1.2.0",
       "_view_name": "StyleView",
       "description_width": ""
      }
     },
     "85867082b9ae499fbc39027195f6f2c6": {
      "model_module": "@jupyter-widgets/controls",
      "model_module_version": "1.5.0",
      "model_name": "ProgressStyleModel",
      "state": {
       "_model_module": "@jupyter-widgets/controls",
       "_model_module_version": "1.5.0",
       "_model_name": "ProgressStyleModel",
       "_view_count": null,
       "_view_module": "@jupyter-widgets/base",
       "_view_module_version": "1.2.0",
       "_view_name": "StyleView",
       "bar_color": null,
       "description_width": ""
      }
     },
     "858e18904ace42b1a514ae9110d50a75": {
      "model_module": "@jupyter-widgets/base",
      "model_module_version": "1.2.0",
      "model_name": "LayoutModel",
      "state": {
       "_model_module": "@jupyter-widgets/base",
       "_model_module_version": "1.2.0",
       "_model_name": "LayoutModel",
       "_view_count": null,
       "_view_module": "@jupyter-widgets/base",
       "_view_module_version": "1.2.0",
       "_view_name": "LayoutView",
       "align_content": null,
       "align_items": null,
       "align_self": null,
       "border": null,
       "bottom": null,
       "display": null,
       "flex": null,
       "flex_flow": null,
       "grid_area": null,
       "grid_auto_columns": null,
       "grid_auto_flow": null,
       "grid_auto_rows": null,
       "grid_column": null,
       "grid_gap": null,
       "grid_row": null,
       "grid_template_areas": null,
       "grid_template_columns": null,
       "grid_template_rows": null,
       "height": null,
       "justify_content": null,
       "justify_items": null,
       "left": null,
       "margin": null,
       "max_height": null,
       "max_width": null,
       "min_height": null,
       "min_width": null,
       "object_fit": null,
       "object_position": null,
       "order": null,
       "overflow": null,
       "overflow_x": null,
       "overflow_y": null,
       "padding": null,
       "right": null,
       "top": null,
       "visibility": null,
       "width": null
      }
     },
     "86dc14bef6594d3e95d65158ab60110a": {
      "model_module": "@jupyter-widgets/controls",
      "model_module_version": "1.5.0",
      "model_name": "HBoxModel",
      "state": {
       "_dom_classes": [],
       "_model_module": "@jupyter-widgets/controls",
       "_model_module_version": "1.5.0",
       "_model_name": "HBoxModel",
       "_view_count": null,
       "_view_module": "@jupyter-widgets/controls",
       "_view_module_version": "1.5.0",
       "_view_name": "HBoxView",
       "box_style": "",
       "children": [
        "IPY_MODEL_e2d0fdc49e4046678d32366b3ca78440",
        "IPY_MODEL_9738e14efba146ec9f3e772ec03d63a9",
        "IPY_MODEL_31c41db23ffc4cf4b28cd5425d8f88d6"
       ],
       "layout": "IPY_MODEL_858e18904ace42b1a514ae9110d50a75"
      }
     },
     "94661208cbe146938e75d61f5dcf757e": {
      "model_module": "@jupyter-widgets/controls",
      "model_module_version": "1.5.0",
      "model_name": "HBoxModel",
      "state": {
       "_dom_classes": [],
       "_model_module": "@jupyter-widgets/controls",
       "_model_module_version": "1.5.0",
       "_model_name": "HBoxModel",
       "_view_count": null,
       "_view_module": "@jupyter-widgets/controls",
       "_view_module_version": "1.5.0",
       "_view_name": "HBoxView",
       "box_style": "",
       "children": [
        "IPY_MODEL_69641af9afe04d1ca1e412990ebff9ea",
        "IPY_MODEL_c498c7c70b404e43885f6a58f106f018",
        "IPY_MODEL_0754c8e827a94d6d96a14b451e7b9a9a"
       ],
       "layout": "IPY_MODEL_565e365e425944f0aa8b22c54f9371f5"
      }
     },
     "972d995a2c45401f8cf6436715902db3": {
      "model_module": "@jupyter-widgets/controls",
      "model_module_version": "1.5.0",
      "model_name": "DescriptionStyleModel",
      "state": {
       "_model_module": "@jupyter-widgets/controls",
       "_model_module_version": "1.5.0",
       "_model_name": "DescriptionStyleModel",
       "_view_count": null,
       "_view_module": "@jupyter-widgets/base",
       "_view_module_version": "1.2.0",
       "_view_name": "StyleView",
       "description_width": ""
      }
     },
     "9738e14efba146ec9f3e772ec03d63a9": {
      "model_module": "@jupyter-widgets/controls",
      "model_module_version": "1.5.0",
      "model_name": "FloatProgressModel",
      "state": {
       "_dom_classes": [],
       "_model_module": "@jupyter-widgets/controls",
       "_model_module_version": "1.5.0",
       "_model_name": "FloatProgressModel",
       "_view_count": null,
       "_view_module": "@jupyter-widgets/controls",
       "_view_module_version": "1.5.0",
       "_view_name": "ProgressView",
       "bar_style": "success",
       "description": "",
       "description_tooltip": null,
       "layout": "IPY_MODEL_fbc5328b01f6427e89c3ccb9ada4f201",
       "max": 9912422,
       "min": 0,
       "orientation": "horizontal",
       "style": "IPY_MODEL_dddf496bf8284e21932a6891600ac78c",
       "value": 9912422
      }
     },
     "974e804dad264ca9a5772f60c96d534b": {
      "model_module": "@jupyter-widgets/base",
      "model_module_version": "1.2.0",
      "model_name": "LayoutModel",
      "state": {
       "_model_module": "@jupyter-widgets/base",
       "_model_module_version": "1.2.0",
       "_model_name": "LayoutModel",
       "_view_count": null,
       "_view_module": "@jupyter-widgets/base",
       "_view_module_version": "1.2.0",
       "_view_name": "LayoutView",
       "align_content": null,
       "align_items": null,
       "align_self": null,
       "border": null,
       "bottom": null,
       "display": null,
       "flex": null,
       "flex_flow": null,
       "grid_area": null,
       "grid_auto_columns": null,
       "grid_auto_flow": null,
       "grid_auto_rows": null,
       "grid_column": null,
       "grid_gap": null,
       "grid_row": null,
       "grid_template_areas": null,
       "grid_template_columns": null,
       "grid_template_rows": null,
       "height": null,
       "justify_content": null,
       "justify_items": null,
       "left": null,
       "margin": null,
       "max_height": null,
       "max_width": null,
       "min_height": null,
       "min_width": null,
       "object_fit": null,
       "object_position": null,
       "order": null,
       "overflow": null,
       "overflow_x": null,
       "overflow_y": null,
       "padding": null,
       "right": null,
       "top": null,
       "visibility": null,
       "width": null
      }
     },
     "b9ca1d2ad43f4b128e57888a11562c8d": {
      "model_module": "@jupyter-widgets/base",
      "model_module_version": "1.2.0",
      "model_name": "LayoutModel",
      "state": {
       "_model_module": "@jupyter-widgets/base",
       "_model_module_version": "1.2.0",
       "_model_name": "LayoutModel",
       "_view_count": null,
       "_view_module": "@jupyter-widgets/base",
       "_view_module_version": "1.2.0",
       "_view_name": "LayoutView",
       "align_content": null,
       "align_items": null,
       "align_self": null,
       "border": null,
       "bottom": null,
       "display": null,
       "flex": null,
       "flex_flow": null,
       "grid_area": null,
       "grid_auto_columns": null,
       "grid_auto_flow": null,
       "grid_auto_rows": null,
       "grid_column": null,
       "grid_gap": null,
       "grid_row": null,
       "grid_template_areas": null,
       "grid_template_columns": null,
       "grid_template_rows": null,
       "height": null,
       "justify_content": null,
       "justify_items": null,
       "left": null,
       "margin": null,
       "max_height": null,
       "max_width": null,
       "min_height": null,
       "min_width": null,
       "object_fit": null,
       "object_position": null,
       "order": null,
       "overflow": null,
       "overflow_x": null,
       "overflow_y": null,
       "padding": null,
       "right": null,
       "top": null,
       "visibility": null,
       "width": null
      }
     },
     "bec5c599bce84254af2bc5d5518542ba": {
      "model_module": "@jupyter-widgets/controls",
      "model_module_version": "1.5.0",
      "model_name": "DescriptionStyleModel",
      "state": {
       "_model_module": "@jupyter-widgets/controls",
       "_model_module_version": "1.5.0",
       "_model_name": "DescriptionStyleModel",
       "_view_count": null,
       "_view_module": "@jupyter-widgets/base",
       "_view_module_version": "1.2.0",
       "_view_name": "StyleView",
       "description_width": ""
      }
     },
     "c498c7c70b404e43885f6a58f106f018": {
      "model_module": "@jupyter-widgets/controls",
      "model_module_version": "1.5.0",
      "model_name": "FloatProgressModel",
      "state": {
       "_dom_classes": [],
       "_model_module": "@jupyter-widgets/controls",
       "_model_module_version": "1.5.0",
       "_model_name": "FloatProgressModel",
       "_view_count": null,
       "_view_module": "@jupyter-widgets/controls",
       "_view_module_version": "1.5.0",
       "_view_name": "ProgressView",
       "bar_style": "success",
       "description": "",
       "description_tooltip": null,
       "layout": "IPY_MODEL_b9ca1d2ad43f4b128e57888a11562c8d",
       "max": 28881,
       "min": 0,
       "orientation": "horizontal",
       "style": "IPY_MODEL_51e8d9440a1e470eb775e887f1acc3c0",
       "value": 28881
      }
     },
     "d4818b61d874449fa82565c849231fa8": {
      "model_module": "@jupyter-widgets/base",
      "model_module_version": "1.2.0",
      "model_name": "LayoutModel",
      "state": {
       "_model_module": "@jupyter-widgets/base",
       "_model_module_version": "1.2.0",
       "_model_name": "LayoutModel",
       "_view_count": null,
       "_view_module": "@jupyter-widgets/base",
       "_view_module_version": "1.2.0",
       "_view_name": "LayoutView",
       "align_content": null,
       "align_items": null,
       "align_self": null,
       "border": null,
       "bottom": null,
       "display": null,
       "flex": null,
       "flex_flow": null,
       "grid_area": null,
       "grid_auto_columns": null,
       "grid_auto_flow": null,
       "grid_auto_rows": null,
       "grid_column": null,
       "grid_gap": null,
       "grid_row": null,
       "grid_template_areas": null,
       "grid_template_columns": null,
       "grid_template_rows": null,
       "height": null,
       "justify_content": null,
       "justify_items": null,
       "left": null,
       "margin": null,
       "max_height": null,
       "max_width": null,
       "min_height": null,
       "min_width": null,
       "object_fit": null,
       "object_position": null,
       "order": null,
       "overflow": null,
       "overflow_x": null,
       "overflow_y": null,
       "padding": null,
       "right": null,
       "top": null,
       "visibility": null,
       "width": null
      }
     },
     "d9d37e2cc8ad4ed1877790896cc65c7a": {
      "model_module": "@jupyter-widgets/base",
      "model_module_version": "1.2.0",
      "model_name": "LayoutModel",
      "state": {
       "_model_module": "@jupyter-widgets/base",
       "_model_module_version": "1.2.0",
       "_model_name": "LayoutModel",
       "_view_count": null,
       "_view_module": "@jupyter-widgets/base",
       "_view_module_version": "1.2.0",
       "_view_name": "LayoutView",
       "align_content": null,
       "align_items": null,
       "align_self": null,
       "border": null,
       "bottom": null,
       "display": null,
       "flex": null,
       "flex_flow": null,
       "grid_area": null,
       "grid_auto_columns": null,
       "grid_auto_flow": null,
       "grid_auto_rows": null,
       "grid_column": null,
       "grid_gap": null,
       "grid_row": null,
       "grid_template_areas": null,
       "grid_template_columns": null,
       "grid_template_rows": null,
       "height": null,
       "justify_content": null,
       "justify_items": null,
       "left": null,
       "margin": null,
       "max_height": null,
       "max_width": null,
       "min_height": null,
       "min_width": null,
       "object_fit": null,
       "object_position": null,
       "order": null,
       "overflow": null,
       "overflow_x": null,
       "overflow_y": null,
       "padding": null,
       "right": null,
       "top": null,
       "visibility": null,
       "width": null
      }
     },
     "dddf496bf8284e21932a6891600ac78c": {
      "model_module": "@jupyter-widgets/controls",
      "model_module_version": "1.5.0",
      "model_name": "ProgressStyleModel",
      "state": {
       "_model_module": "@jupyter-widgets/controls",
       "_model_module_version": "1.5.0",
       "_model_name": "ProgressStyleModel",
       "_view_count": null,
       "_view_module": "@jupyter-widgets/base",
       "_view_module_version": "1.2.0",
       "_view_name": "StyleView",
       "bar_color": null,
       "description_width": ""
      }
     },
     "dfaca447a16c4173a3610e99d0ac4399": {
      "model_module": "@jupyter-widgets/controls",
      "model_module_version": "1.5.0",
      "model_name": "HTMLModel",
      "state": {
       "_dom_classes": [],
       "_model_module": "@jupyter-widgets/controls",
       "_model_module_version": "1.5.0",
       "_model_name": "HTMLModel",
       "_view_count": null,
       "_view_module": "@jupyter-widgets/controls",
       "_view_module_version": "1.5.0",
       "_view_name": "HTMLView",
       "description": "",
       "description_tooltip": null,
       "layout": "IPY_MODEL_63eb522bf33c4da8b87f57630a43e1cf",
       "placeholder": "​",
       "style": "IPY_MODEL_4cfe5ea3f91944cd975f79b727a95b17",
       "value": ""
      }
     },
     "e0bb5e5d808b45e188de4fa140a39d82": {
      "model_module": "@jupyter-widgets/controls",
      "model_module_version": "1.5.0",
      "model_name": "HBoxModel",
      "state": {
       "_dom_classes": [],
       "_model_module": "@jupyter-widgets/controls",
       "_model_module_version": "1.5.0",
       "_model_name": "HBoxModel",
       "_view_count": null,
       "_view_module": "@jupyter-widgets/controls",
       "_view_module_version": "1.5.0",
       "_view_name": "HBoxView",
       "box_style": "",
       "children": [
        "IPY_MODEL_e5840d23d5f44c1dbfec31db0a599bc8",
        "IPY_MODEL_2a8885dff4094429aa13a48780576885",
        "IPY_MODEL_41756bfae3284795aa571fd8c5143c16"
       ],
       "layout": "IPY_MODEL_f4df43e0a3cf4af6aa19d5deee5481fc"
      }
     },
     "e2d0fdc49e4046678d32366b3ca78440": {
      "model_module": "@jupyter-widgets/controls",
      "model_module_version": "1.5.0",
      "model_name": "HTMLModel",
      "state": {
       "_dom_classes": [],
       "_model_module": "@jupyter-widgets/controls",
       "_model_module_version": "1.5.0",
       "_model_name": "HTMLModel",
       "_view_count": null,
       "_view_module": "@jupyter-widgets/controls",
       "_view_module_version": "1.5.0",
       "_view_name": "HTMLView",
       "description": "",
       "description_tooltip": null,
       "layout": "IPY_MODEL_974e804dad264ca9a5772f60c96d534b",
       "placeholder": "​",
       "style": "IPY_MODEL_1cda05d8953444f8b77b5e252b08a950",
       "value": ""
      }
     },
     "e3920254ca34440699f89e58356e4105": {
      "model_module": "@jupyter-widgets/controls",
      "model_module_version": "1.5.0",
      "model_name": "ProgressStyleModel",
      "state": {
       "_model_module": "@jupyter-widgets/controls",
       "_model_module_version": "1.5.0",
       "_model_name": "ProgressStyleModel",
       "_view_count": null,
       "_view_module": "@jupyter-widgets/base",
       "_view_module_version": "1.2.0",
       "_view_name": "StyleView",
       "bar_color": null,
       "description_width": ""
      }
     },
     "e5840d23d5f44c1dbfec31db0a599bc8": {
      "model_module": "@jupyter-widgets/controls",
      "model_module_version": "1.5.0",
      "model_name": "HTMLModel",
      "state": {
       "_dom_classes": [],
       "_model_module": "@jupyter-widgets/controls",
       "_model_module_version": "1.5.0",
       "_model_name": "HTMLModel",
       "_view_count": null,
       "_view_module": "@jupyter-widgets/controls",
       "_view_module_version": "1.5.0",
       "_view_name": "HTMLView",
       "description": "",
       "description_tooltip": null,
       "layout": "IPY_MODEL_3db1248a24b54656b291ccabea16cc5c",
       "placeholder": "​",
       "style": "IPY_MODEL_972d995a2c45401f8cf6436715902db3",
       "value": ""
      }
     },
     "e824d113954246679756618341473c91": {
      "model_module": "@jupyter-widgets/base",
      "model_module_version": "1.2.0",
      "model_name": "LayoutModel",
      "state": {
       "_model_module": "@jupyter-widgets/base",
       "_model_module_version": "1.2.0",
       "_model_name": "LayoutModel",
       "_view_count": null,
       "_view_module": "@jupyter-widgets/base",
       "_view_module_version": "1.2.0",
       "_view_name": "LayoutView",
       "align_content": null,
       "align_items": null,
       "align_self": null,
       "border": null,
       "bottom": null,
       "display": null,
       "flex": null,
       "flex_flow": null,
       "grid_area": null,
       "grid_auto_columns": null,
       "grid_auto_flow": null,
       "grid_auto_rows": null,
       "grid_column": null,
       "grid_gap": null,
       "grid_row": null,
       "grid_template_areas": null,
       "grid_template_columns": null,
       "grid_template_rows": null,
       "height": null,
       "justify_content": null,
       "justify_items": null,
       "left": null,
       "margin": null,
       "max_height": null,
       "max_width": null,
       "min_height": null,
       "min_width": null,
       "object_fit": null,
       "object_position": null,
       "order": null,
       "overflow": null,
       "overflow_x": null,
       "overflow_y": null,
       "padding": null,
       "right": null,
       "top": null,
       "visibility": null,
       "width": null
      }
     },
     "f4df43e0a3cf4af6aa19d5deee5481fc": {
      "model_module": "@jupyter-widgets/base",
      "model_module_version": "1.2.0",
      "model_name": "LayoutModel",
      "state": {
       "_model_module": "@jupyter-widgets/base",
       "_model_module_version": "1.2.0",
       "_model_name": "LayoutModel",
       "_view_count": null,
       "_view_module": "@jupyter-widgets/base",
       "_view_module_version": "1.2.0",
       "_view_name": "LayoutView",
       "align_content": null,
       "align_items": null,
       "align_self": null,
       "border": null,
       "bottom": null,
       "display": null,
       "flex": null,
       "flex_flow": null,
       "grid_area": null,
       "grid_auto_columns": null,
       "grid_auto_flow": null,
       "grid_auto_rows": null,
       "grid_column": null,
       "grid_gap": null,
       "grid_row": null,
       "grid_template_areas": null,
       "grid_template_columns": null,
       "grid_template_rows": null,
       "height": null,
       "justify_content": null,
       "justify_items": null,
       "left": null,
       "margin": null,
       "max_height": null,
       "max_width": null,
       "min_height": null,
       "min_width": null,
       "object_fit": null,
       "object_position": null,
       "order": null,
       "overflow": null,
       "overflow_x": null,
       "overflow_y": null,
       "padding": null,
       "right": null,
       "top": null,
       "visibility": null,
       "width": null
      }
     },
     "fbc5328b01f6427e89c3ccb9ada4f201": {
      "model_module": "@jupyter-widgets/base",
      "model_module_version": "1.2.0",
      "model_name": "LayoutModel",
      "state": {
       "_model_module": "@jupyter-widgets/base",
       "_model_module_version": "1.2.0",
       "_model_name": "LayoutModel",
       "_view_count": null,
       "_view_module": "@jupyter-widgets/base",
       "_view_module_version": "1.2.0",
       "_view_name": "LayoutView",
       "align_content": null,
       "align_items": null,
       "align_self": null,
       "border": null,
       "bottom": null,
       "display": null,
       "flex": null,
       "flex_flow": null,
       "grid_area": null,
       "grid_auto_columns": null,
       "grid_auto_flow": null,
       "grid_auto_rows": null,
       "grid_column": null,
       "grid_gap": null,
       "grid_row": null,
       "grid_template_areas": null,
       "grid_template_columns": null,
       "grid_template_rows": null,
       "height": null,
       "justify_content": null,
       "justify_items": null,
       "left": null,
       "margin": null,
       "max_height": null,
       "max_width": null,
       "min_height": null,
       "min_width": null,
       "object_fit": null,
       "object_position": null,
       "order": null,
       "overflow": null,
       "overflow_x": null,
       "overflow_y": null,
       "padding": null,
       "right": null,
       "top": null,
       "visibility": null,
       "width": null
      }
     }
    },
    "version_major": 2,
    "version_minor": 0
   }
  }
 },
 "nbformat": 4,
 "nbformat_minor": 5
}
