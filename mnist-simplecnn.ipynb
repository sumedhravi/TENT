{
 "cells": [
  {
   "cell_type": "code",
   "execution_count": 1,
   "id": "e94f060a",
   "metadata": {
    "_cell_guid": "b1076dfc-b9ad-4769-8c92-a6c4dae69d19",
    "_uuid": "8f2839f25d086af736a60e9eeb907d3b93b6e0e5",
    "execution": {
     "iopub.execute_input": "2022-05-01T01:43:57.234471Z",
     "iopub.status.busy": "2022-05-01T01:43:57.233959Z",
     "iopub.status.idle": "2022-05-01T01:43:59.215894Z",
     "shell.execute_reply": "2022-05-01T01:43:59.214723Z"
    },
    "papermill": {
     "duration": 2.026946,
     "end_time": "2022-05-01T01:43:59.218908",
     "exception": false,
     "start_time": "2022-05-01T01:43:57.191962",
     "status": "completed"
    },
    "tags": []
   },
   "outputs": [],
   "source": [
    "import numpy as np\n",
    "import pandas as pd\n",
    "import torch, torchvision\n",
    "import torch.nn as nn\n",
    "import torch.optim as optim\n",
    "from torch.optim import lr_scheduler\n",
    "import torchvision.datasets as datasets\n",
    "import torch.utils.data as data\n",
    "import torchvision.transforms as transforms\n",
    "from torch.autograd import Variable\n",
    "from PIL import Image\n",
    "import torchvision.models as models\n",
    "import matplotlib.pyplot as plt\n",
    "import time, os, copy\n",
    "import sys\n",
    "%matplotlib inline"
   ]
  },
  {
   "cell_type": "code",
   "execution_count": 2,
   "id": "7408b542",
   "metadata": {
    "execution": {
     "iopub.execute_input": "2022-05-01T01:43:59.297585Z",
     "iopub.status.busy": "2022-05-01T01:43:59.297328Z",
     "iopub.status.idle": "2022-05-01T01:44:12.721541Z",
     "shell.execute_reply": "2022-05-01T01:44:12.720353Z"
    },
    "papermill": {
     "duration": 13.465084,
     "end_time": "2022-05-01T01:44:12.724550",
     "exception": false,
     "start_time": "2022-05-01T01:43:59.259466",
     "status": "completed"
    },
    "tags": []
   },
   "outputs": [
    {
     "name": "stdout",
     "output_type": "stream",
     "text": [
      "--2022-05-01 01:43:59--  https://zenodo.org/record/3239543/files/mnist_c.zip\r\n",
      "Resolving zenodo.org (zenodo.org)... 137.138.76.77\r\n",
      "Connecting to zenodo.org (zenodo.org)|137.138.76.77|:443... connected.\r\n",
      "HTTP request sent, awaiting response... 200 OK\r\n",
      "Length: 246661575 (235M) [application/octet-stream]\r\n",
      "Saving to: ‘mnist_c.zip’\r\n",
      "\r\n",
      "mnist_c.zip         100%[===================>] 235.23M   124MB/s    in 1.9s    \r\n",
      "\r\n",
      "2022-05-01 01:44:03 (124 MB/s) - ‘mnist_c.zip’ saved [246661575/246661575]\r\n",
      "\r\n"
     ]
    }
   ],
   "source": [
    "!wget https://zenodo.org/record/3239543/files/mnist_c.zip\n",
    "!unzip -qq mnist_c.zip\n",
    "!rm mnist_c.zip"
   ]
  },
  {
   "cell_type": "code",
   "execution_count": 3,
   "id": "e8087480",
   "metadata": {
    "execution": {
     "iopub.execute_input": "2022-05-01T01:44:13.276636Z",
     "iopub.status.busy": "2022-05-01T01:44:13.276276Z",
     "iopub.status.idle": "2022-05-01T01:44:13.295727Z",
     "shell.execute_reply": "2022-05-01T01:44:13.294571Z"
    },
    "papermill": {
     "duration": 0.529527,
     "end_time": "2022-05-01T01:44:13.298214",
     "exception": false,
     "start_time": "2022-05-01T01:44:12.768687",
     "status": "completed"
    },
    "tags": []
   },
   "outputs": [
    {
     "data": {
      "text/plain": [
       "<torch._C.Generator at 0x7fca0b039a30>"
      ]
     },
     "execution_count": 3,
     "metadata": {},
     "output_type": "execute_result"
    }
   ],
   "source": [
    "n_epochs = 8\n",
    "num_classes = 10\n",
    "batch_size_train = 128\n",
    "batch_size_test = 128\n",
    "lr = 1e-3\n",
    "momentum = 0.9\n",
    "wd = 1e-6\n",
    "model_name = \"simpleCNN\"\n",
    "size=48 if model_name == \"vgg16\" else None\n",
    "\n",
    "random_seed = 1\n",
    "torch.backends.cudnn.enabled = False\n",
    "torch.manual_seed(random_seed)"
   ]
  },
  {
   "cell_type": "code",
   "execution_count": 4,
   "id": "430c0483",
   "metadata": {
    "execution": {
     "iopub.execute_input": "2022-05-01T01:44:13.387582Z",
     "iopub.status.busy": "2022-05-01T01:44:13.386722Z",
     "iopub.status.idle": "2022-05-01T01:44:13.396535Z",
     "shell.execute_reply": "2022-05-01T01:44:13.395606Z"
    },
    "papermill": {
     "duration": 0.058337,
     "end_time": "2022-05-01T01:44:13.399077",
     "exception": false,
     "start_time": "2022-05-01T01:44:13.340740",
     "status": "completed"
    },
    "tags": []
   },
   "outputs": [],
   "source": [
    "def get_train_transforms(pixel_mean, pixel_std, size=None):\n",
    "    if size == None:\n",
    "        return transforms.Compose([\n",
    "            transforms.RandomRotation(15),\n",
    "            transforms.ToTensor(),\n",
    "            transforms.Normalize(pixel_mean, pixel_std)\n",
    "            ])\n",
    "    else:\n",
    "        return transforms.Compose([\n",
    "            transforms.Resize(size),\n",
    "            transforms.RandomRotation(15),\n",
    "            transforms.ToTensor(),\n",
    "            transforms.Normalize(pixel_mean, pixel_std)\n",
    "            ])\n",
    "\n",
    "def get_val_transforms(pixel_mean, pixel_std,size=None):\n",
    "    if size == None:\n",
    "        return transforms.Compose([\n",
    "            transforms.ToTensor(),\n",
    "            transforms.Normalize(pixel_mean, pixel_std)\n",
    "            ])\n",
    "    else:\n",
    "        return transforms.Compose([\n",
    "            transforms.Resize(size),\n",
    "            transforms.ToTensor(),\n",
    "            transforms.Normalize(pixel_mean, pixel_std)\n",
    "            ])"
   ]
  },
  {
   "cell_type": "code",
   "execution_count": 5,
   "id": "c9157847",
   "metadata": {
    "execution": {
     "iopub.execute_input": "2022-05-01T01:44:13.488028Z",
     "iopub.status.busy": "2022-05-01T01:44:13.487354Z",
     "iopub.status.idle": "2022-05-01T01:44:15.293843Z",
     "shell.execute_reply": "2022-05-01T01:44:15.291240Z"
    },
    "papermill": {
     "duration": 1.854328,
     "end_time": "2022-05-01T01:44:15.297567",
     "exception": false,
     "start_time": "2022-05-01T01:44:13.443239",
     "status": "completed"
    },
    "tags": []
   },
   "outputs": [
    {
     "name": "stdout",
     "output_type": "stream",
     "text": [
      "Downloading http://yann.lecun.com/exdb/mnist/train-images-idx3-ubyte.gz\n",
      "Downloading http://yann.lecun.com/exdb/mnist/train-images-idx3-ubyte.gz to MNIST/raw/train-images-idx3-ubyte.gz\n"
     ]
    },
    {
     "data": {
      "application/vnd.jupyter.widget-view+json": {
       "model_id": "1dfa80e806ec48f59b8ca3543dc30a15",
       "version_major": 2,
       "version_minor": 0
      },
      "text/plain": [
       "  0%|          | 0/9912422 [00:00<?, ?it/s]"
      ]
     },
     "metadata": {},
     "output_type": "display_data"
    },
    {
     "name": "stdout",
     "output_type": "stream",
     "text": [
      "Extracting MNIST/raw/train-images-idx3-ubyte.gz to MNIST/raw\n",
      "\n",
      "Downloading http://yann.lecun.com/exdb/mnist/train-labels-idx1-ubyte.gz\n",
      "Downloading http://yann.lecun.com/exdb/mnist/train-labels-idx1-ubyte.gz to MNIST/raw/train-labels-idx1-ubyte.gz\n"
     ]
    },
    {
     "data": {
      "application/vnd.jupyter.widget-view+json": {
       "model_id": "86b43426f3aa41eeb1539015e95f57a8",
       "version_major": 2,
       "version_minor": 0
      },
      "text/plain": [
       "  0%|          | 0/28881 [00:00<?, ?it/s]"
      ]
     },
     "metadata": {},
     "output_type": "display_data"
    },
    {
     "name": "stdout",
     "output_type": "stream",
     "text": [
      "Extracting MNIST/raw/train-labels-idx1-ubyte.gz to MNIST/raw\n",
      "\n",
      "Downloading http://yann.lecun.com/exdb/mnist/t10k-images-idx3-ubyte.gz\n",
      "Downloading http://yann.lecun.com/exdb/mnist/t10k-images-idx3-ubyte.gz to MNIST/raw/t10k-images-idx3-ubyte.gz\n"
     ]
    },
    {
     "data": {
      "application/vnd.jupyter.widget-view+json": {
       "model_id": "b36a5f9e21474ec8a31544dd7afeb4c2",
       "version_major": 2,
       "version_minor": 0
      },
      "text/plain": [
       "  0%|          | 0/1648877 [00:00<?, ?it/s]"
      ]
     },
     "metadata": {},
     "output_type": "display_data"
    },
    {
     "name": "stdout",
     "output_type": "stream",
     "text": [
      "Extracting MNIST/raw/t10k-images-idx3-ubyte.gz to MNIST/raw\n",
      "\n",
      "Downloading http://yann.lecun.com/exdb/mnist/t10k-labels-idx1-ubyte.gz\n",
      "Downloading http://yann.lecun.com/exdb/mnist/t10k-labels-idx1-ubyte.gz to MNIST/raw/t10k-labels-idx1-ubyte.gz\n"
     ]
    },
    {
     "data": {
      "application/vnd.jupyter.widget-view+json": {
       "model_id": "cf1bfaa65e26451aa700d48c7fa8a41b",
       "version_major": 2,
       "version_minor": 0
      },
      "text/plain": [
       "  0%|          | 0/4542 [00:00<?, ?it/s]"
      ]
     },
     "metadata": {},
     "output_type": "display_data"
    },
    {
     "name": "stdout",
     "output_type": "stream",
     "text": [
      "Extracting MNIST/raw/t10k-labels-idx1-ubyte.gz to MNIST/raw\n",
      "\n"
     ]
    },
    {
     "name": "stderr",
     "output_type": "stream",
     "text": [
      "/opt/conda/lib/python3.7/site-packages/torchvision/datasets/mnist.py:498: UserWarning: The given NumPy array is not writeable, and PyTorch does not support non-writeable tensors. This means you can write to the underlying (supposedly non-writeable) NumPy array using the tensor. You may want to copy the array to protect its data or make it writeable before converting it to a tensor. This type of warning will be suppressed for the rest of this program. (Triggered internally at  /usr/local/src/pytorch/torch/csrc/utils/tensor_numpy.cpp:174.)\n",
      "  return torch.from_numpy(parsed.astype(m[2], copy=False)).view(*s)\n"
     ]
    }
   ],
   "source": [
    "train_dataset = datasets.MNIST('', train=True, download=True, transform= get_train_transforms((0.1307,), (0.3081,), size))"
   ]
  },
  {
   "cell_type": "code",
   "execution_count": 6,
   "id": "c81d7eb9",
   "metadata": {
    "execution": {
     "iopub.execute_input": "2022-05-01T01:44:15.404911Z",
     "iopub.status.busy": "2022-05-01T01:44:15.404238Z",
     "iopub.status.idle": "2022-05-01T01:44:15.415771Z",
     "shell.execute_reply": "2022-05-01T01:44:15.414840Z"
    },
    "papermill": {
     "duration": 0.066583,
     "end_time": "2022-05-01T01:44:15.418076",
     "exception": false,
     "start_time": "2022-05-01T01:44:15.351493",
     "status": "completed"
    },
    "tags": []
   },
   "outputs": [],
   "source": [
    "val_dataset = datasets.MNIST(root='', train=False, download=True, transform=get_val_transforms((0.1307,), (0.3081,), size))"
   ]
  },
  {
   "cell_type": "code",
   "execution_count": 7,
   "id": "15aa6110",
   "metadata": {
    "execution": {
     "iopub.execute_input": "2022-05-01T01:44:15.521146Z",
     "iopub.status.busy": "2022-05-01T01:44:15.520286Z",
     "iopub.status.idle": "2022-05-01T01:44:15.525469Z",
     "shell.execute_reply": "2022-05-01T01:44:15.524460Z"
    },
    "papermill": {
     "duration": 0.059001,
     "end_time": "2022-05-01T01:44:15.527759",
     "exception": false,
     "start_time": "2022-05-01T01:44:15.468758",
     "status": "completed"
    },
    "tags": []
   },
   "outputs": [],
   "source": [
    "train_loader = torch.utils.data.DataLoader(train_dataset,batch_size=batch_size_train, shuffle=True)"
   ]
  },
  {
   "cell_type": "code",
   "execution_count": 8,
   "id": "1231a2fc",
   "metadata": {
    "execution": {
     "iopub.execute_input": "2022-05-01T01:44:15.629724Z",
     "iopub.status.busy": "2022-05-01T01:44:15.628870Z",
     "iopub.status.idle": "2022-05-01T01:44:15.730195Z",
     "shell.execute_reply": "2022-05-01T01:44:15.728960Z"
    },
    "papermill": {
     "duration": 0.156113,
     "end_time": "2022-05-01T01:44:15.733921",
     "exception": false,
     "start_time": "2022-05-01T01:44:15.577808",
     "status": "completed"
    },
    "tags": []
   },
   "outputs": [
    {
     "name": "stdout",
     "output_type": "stream",
     "text": [
      "469\n"
     ]
    }
   ],
   "source": [
    "print(len(train_loader))\n",
    "examples = enumerate(train_loader)\n",
    "batch_idx, (example_data, example_targets) = next(examples)"
   ]
  },
  {
   "cell_type": "code",
   "execution_count": 9,
   "id": "a53773df",
   "metadata": {
    "execution": {
     "iopub.execute_input": "2022-05-01T01:44:15.958033Z",
     "iopub.status.busy": "2022-05-01T01:44:15.955584Z",
     "iopub.status.idle": "2022-05-01T01:44:16.580032Z",
     "shell.execute_reply": "2022-05-01T01:44:16.578982Z"
    },
    "papermill": {
     "duration": 0.797694,
     "end_time": "2022-05-01T01:44:16.582586",
     "exception": false,
     "start_time": "2022-05-01T01:44:15.784892",
     "status": "completed"
    },
    "tags": []
   },
   "outputs": [
    {
     "data": {
      "image/png": "[encoded data removed]",
      "text/plain": [
       "<Figure size 432x288 with 6 Axes>"
      ]
     },
     "metadata": {},
     "output_type": "display_data"
    }
   ],
   "source": [
    "fig = plt.figure()\n",
    "for i in range(6):\n",
    "  plt.subplot(2,3,i+1)\n",
    "  plt.tight_layout()\n",
    "  plt.imshow(example_data[i][0], cmap='gray', interpolation='none')\n",
    "  plt.title(\"Ground Truth: {}\".format(example_targets[i]))\n",
    "  plt.xticks([])\n",
    "  plt.yticks([])"
   ]
  },
  {
   "cell_type": "code",
   "execution_count": 10,
   "id": "35bdecf1",
   "metadata": {
    "execution": {
     "iopub.execute_input": "2022-05-01T01:44:16.686185Z",
     "iopub.status.busy": "2022-05-01T01:44:16.685917Z",
     "iopub.status.idle": "2022-05-01T01:44:16.693759Z",
     "shell.execute_reply": "2022-05-01T01:44:16.692806Z"
    },
    "papermill": {
     "duration": 0.061419,
     "end_time": "2022-05-01T01:44:16.695929",
     "exception": false,
     "start_time": "2022-05-01T01:44:16.634510",
     "status": "completed"
    },
    "tags": []
   },
   "outputs": [],
   "source": [
    "def preprocess_test(data, mean, std, size=None):\n",
    "    N, H, W, C = data.shape\n",
    "    if size==None:\n",
    "        Y = torch.zeros(N, C, H, W)\n",
    "        transform_test = get_val_transforms((0.1307,), (0.3081,), size)\n",
    "    else:  \n",
    "        Y = torch.zeros(N, C, size, size)\n",
    "        transform_test = transforms.Compose([\n",
    "            transforms.ToPILImage(),\n",
    "            transforms.Resize(size),\n",
    "            transforms.ToTensor(),\n",
    "            transforms.Normalize(mean, std)\n",
    "        ])\n",
    "\n",
    "    for n in range(len(data)):\n",
    "        Y[n] =  transform_test(data[n])\n",
    "        \n",
    "    return Y"
   ]
  },
  {
   "cell_type": "code",
   "execution_count": 11,
   "id": "7da8dcd5",
   "metadata": {
    "execution": {
     "iopub.execute_input": "2022-05-01T01:44:16.799483Z",
     "iopub.status.busy": "2022-05-01T01:44:16.799226Z",
     "iopub.status.idle": "2022-05-01T01:44:17.857369Z",
     "shell.execute_reply": "2022-05-01T01:44:17.856373Z"
    },
    "papermill": {
     "duration": 1.112938,
     "end_time": "2022-05-01T01:44:17.860041",
     "exception": false,
     "start_time": "2022-05-01T01:44:16.747103",
     "status": "completed"
    },
    "tags": []
   },
   "outputs": [],
   "source": [
    "chal_data = np.load('mnist_c/' + 'translate/' + 'test_images.npy')\n",
    "chal_data = preprocess_test(chal_data, (0.1307,), (0.3081,), size)\n",
    "chal_labels = val_dataset.targets\n",
    "# chal_labels = torch.Tensor(chal_labels, dtype='long')\n",
    "# chal_labels = chal_labels.long()\n",
    "chal_dataset = torch.utils.data.TensorDataset(chal_data, chal_labels)\n",
    "chal_loader = torch.utils.data.DataLoader(chal_dataset, batch_size=batch_size_test)"
   ]
  },
  {
   "cell_type": "code",
   "execution_count": 12,
   "id": "8b6bfe2d",
   "metadata": {
    "execution": {
     "iopub.execute_input": "2022-05-01T01:44:18.542871Z",
     "iopub.status.busy": "2022-05-01T01:44:18.542466Z",
     "iopub.status.idle": "2022-05-01T01:44:18.552479Z",
     "shell.execute_reply": "2022-05-01T01:44:18.550817Z"
    },
    "papermill": {
     "duration": 0.640941,
     "end_time": "2022-05-01T01:44:18.554706",
     "exception": false,
     "start_time": "2022-05-01T01:44:17.913765",
     "status": "completed"
    },
    "tags": []
   },
   "outputs": [
    {
     "name": "stdout",
     "output_type": "stream",
     "text": [
      "79\n"
     ]
    }
   ],
   "source": [
    "print(len(chal_loader))\n",
    "examples = enumerate(chal_loader)\n",
    "batch_idx, (example_data, example_targets) = next(examples)"
   ]
  },
  {
   "cell_type": "code",
   "execution_count": 13,
   "id": "f5a4027e",
   "metadata": {
    "execution": {
     "iopub.execute_input": "2022-05-01T01:44:18.658910Z",
     "iopub.status.busy": "2022-05-01T01:44:18.657903Z",
     "iopub.status.idle": "2022-05-01T01:44:19.234327Z",
     "shell.execute_reply": "2022-05-01T01:44:19.233291Z"
    },
    "papermill": {
     "duration": 0.629932,
     "end_time": "2022-05-01T01:44:19.236469",
     "exception": false,
     "start_time": "2022-05-01T01:44:18.606537",
     "status": "completed"
    },
    "tags": []
   },
   "outputs": [
    {
     "data": {
      "image/png": "[encoded data removed]",
      "text/plain": [
       "<Figure size 432x288 with 6 Axes>"
      ]
     },
     "metadata": {},
     "output_type": "display_data"
    }
   ],
   "source": [
    "fig = plt.figure()\n",
    "for i in range(6):\n",
    "  plt.subplot(2,3,i+1)\n",
    "  plt.tight_layout()\n",
    "  plt.imshow(example_data[i][0], cmap='gray', interpolation='none')\n",
    "  plt.title(\"Ground Truth: {}\".format(example_targets[i]))\n",
    "  plt.xticks([])\n",
    "  plt.yticks([])"
   ]
  },
  {
   "cell_type": "code",
   "execution_count": 14,
   "id": "15ce41d2",
   "metadata": {
    "execution": {
     "iopub.execute_input": "2022-05-01T01:44:19.424564Z",
     "iopub.status.busy": "2022-05-01T01:44:19.424105Z",
     "iopub.status.idle": "2022-05-01T01:44:19.628410Z",
     "shell.execute_reply": "2022-05-01T01:44:19.627440Z"
    },
    "papermill": {
     "duration": 0.31358,
     "end_time": "2022-05-01T01:44:19.631069",
     "exception": false,
     "start_time": "2022-05-01T01:44:19.317489",
     "status": "completed"
    },
    "tags": []
   },
   "outputs": [],
   "source": [
    "class ResNet(nn.Module):\n",
    "    def __init__(self, num_layers, in_channels, output_dim, pretrained = True,freeze_pretrained=False):\n",
    "        super().__init__()\n",
    "\n",
    "        self.conv_layers = None\n",
    "        self.fc_layers = None\n",
    "        self.loss_criterion = None\n",
    "\n",
    "        if num_layers == 18:\n",
    "            resnet_model = models.resnet18(pretrained=pretrained)\n",
    "        elif num_layers == 34:\n",
    "            resnet_model = models.resnet34(pretrained=pretrained)\n",
    "        if in_channels == 1:\n",
    "            conv1 = nn.Conv2d(1, 64, kernel_size=(7, 7), stride=(2, 2), padding=(3, 3), bias=False)\n",
    "            if pretrained:\n",
    "                conv1.weight = nn.Parameter(torch.mean(resnet_model.conv1.weight, dim=1, keepdim=True))\n",
    "            resnet_model.conv1 = conv1\n",
    "        self.conv_layers = nn.Sequential(*(list(resnet_model.children())[:-1]))\n",
    "        self.fc_layers = nn.Sequential(torch.nn.Linear(list(resnet_model.children())[-1].in_features, output_dim))\n",
    "        if freeze_pretrained:\n",
    "            for param in self.conv_layers.parameters():\n",
    "                param.requires_grad = False\n",
    "\n",
    "    def forward(self, x: torch.Tensor) -> torch.Tensor:\n",
    "        model_output = self.conv_layers(x)\n",
    "        model_output = model_output.view(model_output.shape[0], -1)\n",
    "        model_output = self.fc_layers(model_output)\n",
    "\n",
    "        return model_output"
   ]
  },
  {
   "cell_type": "code",
   "execution_count": 15,
   "id": "b33e4842",
   "metadata": {
    "execution": {
     "iopub.execute_input": "2022-05-01T01:44:19.816911Z",
     "iopub.status.busy": "2022-05-01T01:44:19.816237Z",
     "iopub.status.idle": "2022-05-01T01:44:19.830383Z",
     "shell.execute_reply": "2022-05-01T01:44:19.829450Z"
    },
    "papermill": {
     "duration": 0.10952,
     "end_time": "2022-05-01T01:44:19.832917",
     "exception": false,
     "start_time": "2022-05-01T01:44:19.723397",
     "status": "completed"
    },
    "tags": []
   },
   "outputs": [],
   "source": [
    "class VGG16(nn.Module):\n",
    "    def __init__(self, in_channels, output_dim):\n",
    "        super().__init__()\n",
    "        model = models.vgg16_bn()\n",
    "        model.classifier = nn.Sequential(\n",
    "            nn.Linear(in_features=model.classifier[0].in_features, out_features=100, bias=True),\n",
    "            nn.ReLU(inplace=True),\n",
    "            nn.Dropout(p=0.5, inplace=False),\n",
    "            nn.Linear(in_features=100, out_features=output_dim, bias=True)\n",
    "        )\n",
    "        model.features[0] = nn.Conv2d(1, 64, kernel_size=(3, 3), stride=(1, 1), padding=(1, 1))\n",
    "        self.model = model\n",
    "    \n",
    "    def forward(self, x: torch.Tensor) -> torch.Tensor:\n",
    "        model_output = self.model(x)\n",
    "\n",
    "        return model_output"
   ]
  },
  {
   "cell_type": "code",
   "execution_count": 16,
   "id": "3ff6c611",
   "metadata": {
    "execution": {
     "iopub.execute_input": "2022-05-01T01:44:19.991894Z",
     "iopub.status.busy": "2022-05-01T01:44:19.991588Z",
     "iopub.status.idle": "2022-05-01T01:44:20.001740Z",
     "shell.execute_reply": "2022-05-01T01:44:20.000729Z"
    },
    "papermill": {
     "duration": 0.07899,
     "end_time": "2022-05-01T01:44:20.004054",
     "exception": false,
     "start_time": "2022-05-01T01:44:19.925064",
     "status": "completed"
    },
    "tags": []
   },
   "outputs": [],
   "source": [
    "class SimpleCNN(nn.Module):\n",
    "    def __init__(self, in_channels, output_dim):\n",
    "        super(SimpleCNN, self).__init__()\n",
    "        \n",
    "        self.layer = nn.Sequential(\n",
    "            nn.Conv2d(in_channels,16,5), # 16*24*24\n",
    "            nn.ReLU(),\n",
    "            nn.BatchNorm2d(16),\n",
    "            nn.Conv2d(16,32,5), # 32*20*20\n",
    "            nn.ReLU(),\n",
    "            nn.BatchNorm2d(32),\n",
    "            nn.MaxPool2d(2,2), # 32*10*10\n",
    "            nn.Conv2d(32,64,5), # 64*6*6\n",
    "            nn.ReLU(),\n",
    "            nn.BatchNorm2d(64),\n",
    "            nn.MaxPool2d(2,2) #64*3*3\n",
    "        )\n",
    "        \n",
    "        self.fc_layer = nn.Sequential(\n",
    "            nn.Linear(576,100),\n",
    "            nn.ReLU(),\n",
    "            nn.Linear(100,output_dim)\n",
    "        )       \n",
    "        \n",
    "    def forward(self,x):\n",
    "        out = self.layer(x)\n",
    "        out = out.view(out.size(0),-1)\n",
    "        out = self.fc_layer(out)\n",
    "\n",
    "        return out"
   ]
  },
  {
   "cell_type": "code",
   "execution_count": 17,
   "id": "3e0791c1",
   "metadata": {
    "execution": {
     "iopub.execute_input": "2022-05-01T01:44:20.113733Z",
     "iopub.status.busy": "2022-05-01T01:44:20.112908Z",
     "iopub.status.idle": "2022-05-01T01:44:20.123204Z",
     "shell.execute_reply": "2022-05-01T01:44:20.122268Z"
    },
    "papermill": {
     "duration": 0.067485,
     "end_time": "2022-05-01T01:44:20.125513",
     "exception": false,
     "start_time": "2022-05-01T01:44:20.058028",
     "status": "completed"
    },
    "tags": []
   },
   "outputs": [],
   "source": [
    "def plot_loss_history(train_loss_history, validation_loss_history):\n",
    "        \"\"\"Plots the loss history\"\"\"\n",
    "        plt.figure()\n",
    "        epoch_idxs = range(len(train_loss_history))\n",
    "\n",
    "        plt.plot(epoch_idxs, train_loss_history, \"-b\", label=\"training\")\n",
    "        plt.plot(epoch_idxs, validation_loss_history, \"-r\", label=\"validation\")\n",
    "        plt.title(\"Loss history\")\n",
    "        plt.legend()\n",
    "        plt.ylabel(\"Loss\")\n",
    "        plt.xlabel(\"Epochs\")\n",
    "        plt.show()\n",
    "\n",
    "def plot_accuracy(train_accuracy_history, validation_accuracy_history):\n",
    "    \"\"\"Plots the accuracy history\"\"\"\n",
    "    plt.figure()\n",
    "    epoch_idxs = range(len(train_accuracy_history))\n",
    "    plt.plot(epoch_idxs, train_accuracy_history, \"-b\", label=\"training\")\n",
    "    plt.plot(epoch_idxs, validation_accuracy_history, \"-r\", label=\"validation\")\n",
    "    plt.title(\"Accuracy history\")\n",
    "    plt.legend()\n",
    "    plt.ylabel(\"Accuracy\")\n",
    "    plt.xlabel(\"Epochs\")\n",
    "    plt.show()"
   ]
  },
  {
   "cell_type": "code",
   "execution_count": 18,
   "id": "c379553f",
   "metadata": {
    "execution": {
     "iopub.execute_input": "2022-05-01T01:44:20.233170Z",
     "iopub.status.busy": "2022-05-01T01:44:20.232359Z",
     "iopub.status.idle": "2022-05-01T01:44:20.252413Z",
     "shell.execute_reply": "2022-05-01T01:44:20.251455Z"
    },
    "papermill": {
     "duration": 0.076856,
     "end_time": "2022-05-01T01:44:20.254673",
     "exception": false,
     "start_time": "2022-05-01T01:44:20.177817",
     "status": "completed"
    },
    "tags": []
   },
   "outputs": [],
   "source": [
    "def train_model(model, dataloaders, dataset_sizes, criterion, optimizer, scheduler, num_epochs=25):\n",
    "    device = torch.device(\"cuda:0\" if torch.cuda.is_available() else \"cpu\")\n",
    "    since = time.time()\n",
    "    loss_history= []\n",
    "    acc_history = []\n",
    "    best_model_wts = copy.deepcopy(model.state_dict())\n",
    "    best_acc = 0.0\n",
    "    num_train_batches = len(dataloaders['train'])\n",
    "    num_val_batches = len(dataloaders['val'])\n",
    "\n",
    "    for epoch in range(num_epochs):\n",
    "        print('Epoch {}/{}'.format(epoch+1, num_epochs))\n",
    "        print('-' * 10)\n",
    "\n",
    "        # Each epoch has a training and validation phase\n",
    "        for phase in ['train', 'val']:\n",
    "            if phase == 'train':\n",
    "                model.train()  # Set model to training mode\n",
    "            else:\n",
    "                model.eval()   # Set model to evaluate mode\n",
    "\n",
    "            running_loss = 0.0\n",
    "            running_corrects = 0\n",
    "\n",
    "            for i,(inputs, labels) in enumerate(dataloaders[phase]):\n",
    "                inputs = inputs.to(device)\n",
    "                labels = labels.to(device)\n",
    "\n",
    "                optimizer.zero_grad()\n",
    "\n",
    "                with torch.set_grad_enabled(phase == 'train'):\n",
    "                    outputs = model(inputs)\n",
    "                    _, preds = torch.max(outputs, 1)\n",
    "                    loss = criterion(outputs, labels)\n",
    "\n",
    "                    if phase == 'train':\n",
    "                        loss.backward()\n",
    "                        optimizer.step()\n",
    "\n",
    "                # statistics\n",
    "                running_loss += loss.item()\n",
    "                running_corrects += torch.sum(preds == labels.data)\n",
    "                print(\"\\rIteration: {}/{}, Loss: {}.\".format(i+1, len(dataloaders[phase]), loss.item()), end=\"\")\n",
    "\n",
    "                sys.stdout.flush()\n",
    "                \n",
    "            if phase == 'train':\n",
    "                if scheduler != None:\n",
    "                    scheduler.step()\n",
    "            epoch_loss = running_loss\n",
    "            epoch_acc = running_corrects.double() / dataset_sizes[phase]\n",
    "            if phase == 'train':\n",
    "                avg_loss = epoch_loss\n",
    "                t_acc = epoch_acc\n",
    "            else:\n",
    "                val_loss = epoch_loss\n",
    "                val_acc = epoch_acc\n",
    "            \n",
    "            if phase == 'val' and epoch_acc > best_acc:\n",
    "                best_acc = epoch_acc\n",
    "                best_model_wts = copy.deepcopy(model.state_dict())\n",
    "        avg_loss = avg_loss / num_train_batches\n",
    "        val_loss = val_loss/num_val_batches\n",
    "        loss_history.append([avg_loss, val_loss])\n",
    "        acc_history.append([t_acc, val_acc])\n",
    "        print('Train Loss: {:.4f} Acc: {:.4f}'.format(avg_loss, t_acc))\n",
    "        print(  'Val Loss: {:.4f} Acc: {:.4f}'.format(val_loss, val_acc))\n",
    "        print('Best Val Accuracy: {}'.format(best_acc))\n",
    "        print()\n",
    "    \n",
    "    time_elapsed = time.time() - since\n",
    "    print('Training complete in {:.0f}m {:.0f}s'.format(\n",
    "        time_elapsed // 60, time_elapsed % 60))\n",
    "    print('Best val Acc: {:4f}'.format(best_acc))\n",
    "\n",
    "    # load best model weights\n",
    "    model.load_state_dict(best_model_wts)\n",
    "    return model, loss_history, acc_history"
   ]
  },
  {
   "cell_type": "code",
   "execution_count": 19,
   "id": "7a7f5856",
   "metadata": {
    "execution": {
     "iopub.execute_input": "2022-05-01T01:44:20.361584Z",
     "iopub.status.busy": "2022-05-01T01:44:20.361297Z",
     "iopub.status.idle": "2022-05-01T01:44:20.367637Z",
     "shell.execute_reply": "2022-05-01T01:44:20.366634Z"
    },
    "papermill": {
     "duration": 0.06279,
     "end_time": "2022-05-01T01:44:20.369850",
     "exception": false,
     "start_time": "2022-05-01T01:44:20.307060",
     "status": "completed"
    },
    "tags": []
   },
   "outputs": [],
   "source": [
    "train_loader = torch.utils.data.DataLoader(train_dataset,batch_size=batch_size_train, shuffle=True)\n",
    "val_loader = torch.utils.data.DataLoader(val_dataset,batch_size=batch_size_test, shuffle=True)\n",
    "dataset_sizes = {}\n",
    "dataset_sizes['train'] = len(train_dataset)\n",
    "dataset_sizes['val'] = len(val_dataset)\n",
    "dataloaders={}\n",
    "dataloaders['train'] = train_loader\n",
    "dataloaders['val'] = val_loader"
   ]
  },
  {
   "cell_type": "code",
   "execution_count": 20,
   "id": "8669e578",
   "metadata": {
    "execution": {
     "iopub.execute_input": "2022-05-01T01:44:20.477132Z",
     "iopub.status.busy": "2022-05-01T01:44:20.476850Z",
     "iopub.status.idle": "2022-05-01T01:44:24.297119Z",
     "shell.execute_reply": "2022-05-01T01:44:24.296113Z"
    },
    "papermill": {
     "duration": 3.876593,
     "end_time": "2022-05-01T01:44:24.299860",
     "exception": false,
     "start_time": "2022-05-01T01:44:20.423267",
     "status": "completed"
    },
    "tags": []
   },
   "outputs": [],
   "source": [
    "if model_name == \"vgg16\":\n",
    "    model = VGG16(1, num_classes)\n",
    "elif model_name == \"resnet18\":\n",
    "    model = ResNet(18, 1, num_classes, pretrained = False)\n",
    "elif model_name == 'simpleCNN':\n",
    "    model = SimpleCNN(1, num_classes)\n",
    "\n",
    "device = torch.device(\"cuda:0\" if torch.cuda.is_available() else \"cpu\")\n",
    "model = model.to(device)\n",
    "\n",
    "#Loss Function\n",
    "criterion = nn.CrossEntropyLoss()\n",
    "optimizer = optim.Adam(model.parameters(), lr = lr, weight_decay = wd)\n",
    "\n",
    "# exp_lr_scheduler = lr_scheduler.StepLR(optimizer, step_size=7, gamma=0.1)"
   ]
  },
  {
   "cell_type": "code",
   "execution_count": 21,
   "id": "77cf15be",
   "metadata": {
    "execution": {
     "iopub.execute_input": "2022-05-01T01:44:26.312987Z",
     "iopub.status.busy": "2022-05-01T01:44:26.312057Z",
     "iopub.status.idle": "2022-05-01T01:52:16.316369Z",
     "shell.execute_reply": "2022-05-01T01:52:16.315189Z"
    },
    "papermill": {
     "duration": 471.959322,
     "end_time": "2022-05-01T01:52:16.318900",
     "exception": false,
     "start_time": "2022-05-01T01:44:24.359578",
     "status": "completed"
    },
    "tags": []
   },
   "outputs": [
    {
     "name": "stdout",
     "output_type": "stream",
     "text": [
      "Epoch 1/8\n",
      "----------\n",
      "Iteration: 79/79, Loss: 0.00020553045033011585.Train Loss: 0.1201 Acc: 0.9644\n",
      "Val Loss: 0.0297 Acc: 0.9904\n",
      "Best Val Accuracy: 0.9904000000000001\n",
      "\n",
      "Epoch 2/8\n",
      "----------\n",
      "Iteration: 79/79, Loss: 0.0005744257941842079.Train Loss: 0.0463 Acc: 0.9854\n",
      "Val Loss: 0.0253 Acc: 0.9920\n",
      "Best Val Accuracy: 0.992\n",
      "\n",
      "Epoch 3/8\n",
      "----------\n",
      "Iteration: 79/79, Loss: 0.017995396628975868.Train Loss: 0.0356 Acc: 0.9889\n",
      "Val Loss: 0.0234 Acc: 0.9924\n",
      "Best Val Accuracy: 0.9924000000000001\n",
      "\n",
      "Epoch 4/8\n",
      "----------\n",
      "Iteration: 79/79, Loss: 0.0019503890071064234.Train Loss: 0.0296 Acc: 0.9906\n",
      "Val Loss: 0.0245 Acc: 0.9929\n",
      "Best Val Accuracy: 0.9929\n",
      "\n",
      "Epoch 5/8\n",
      "----------\n",
      "Iteration: 79/79, Loss: 0.00020734977442771196.Train Loss: 0.0262 Acc: 0.9916\n",
      "Val Loss: 0.0195 Acc: 0.9932\n",
      "Best Val Accuracy: 0.9932000000000001\n",
      "\n",
      "Epoch 6/8\n",
      "----------\n",
      "Iteration: 79/79, Loss: 0.0007932614535093307.Train Loss: 0.0233 Acc: 0.9922\n",
      "Val Loss: 0.0225 Acc: 0.9925\n",
      "Best Val Accuracy: 0.9932000000000001\n",
      "\n",
      "Epoch 7/8\n",
      "----------\n",
      "Iteration: 79/79, Loss: 5.252585651760455e-06.Train Loss: 0.0207 Acc: 0.9932\n",
      "Val Loss: 0.0246 Acc: 0.9925\n",
      "Best Val Accuracy: 0.9932000000000001\n",
      "\n",
      "Epoch 8/8\n",
      "----------\n",
      "Iteration: 79/79, Loss: 3.7602912925649434e-05.Train Loss: 0.0194 Acc: 0.9936\n",
      "Val Loss: 0.0198 Acc: 0.9935\n",
      "Best Val Accuracy: 0.9935\n",
      "\n",
      "Training complete in 7m 50s\n",
      "Best val Acc: 0.993500\n"
     ]
    }
   ],
   "source": [
    "model, loss_history, acc_history = train_model(model, dataloaders, dataset_sizes, criterion, optimizer, None,num_epochs=n_epochs)"
   ]
  },
  {
   "cell_type": "code",
   "execution_count": 22,
   "id": "b6b6d187",
   "metadata": {
    "execution": {
     "iopub.execute_input": "2022-05-01T01:52:19.981867Z",
     "iopub.status.busy": "2022-05-01T01:52:19.981565Z",
     "iopub.status.idle": "2022-05-01T01:52:19.995060Z",
     "shell.execute_reply": "2022-05-01T01:52:19.994124Z"
    },
    "papermill": {
     "duration": 1.842981,
     "end_time": "2022-05-01T01:52:19.997342",
     "exception": false,
     "start_time": "2022-05-01T01:52:18.154361",
     "status": "completed"
    },
    "tags": []
   },
   "outputs": [],
   "source": [
    "torch.save(model.state_dict(), model_name + \"_baseline.pt\") "
   ]
  },
  {
   "cell_type": "code",
   "execution_count": 23,
   "id": "ec02073f",
   "metadata": {
    "execution": {
     "iopub.execute_input": "2022-05-01T01:52:23.930080Z",
     "iopub.status.busy": "2022-05-01T01:52:23.929730Z",
     "iopub.status.idle": "2022-05-01T01:52:24.403217Z",
     "shell.execute_reply": "2022-05-01T01:52:24.402252Z"
    },
    "papermill": {
     "duration": 2.572593,
     "end_time": "2022-05-01T01:52:24.405477",
     "exception": false,
     "start_time": "2022-05-01T01:52:21.832884",
     "status": "completed"
    },
    "tags": []
   },
   "outputs": [
    {
     "data": {
      "image/png": "[encoded data removed]",
      "text/plain": [
       "<Figure size 432x288 with 1 Axes>"
      ]
     },
     "metadata": {
      "needs_background": "light"
     },
     "output_type": "display_data"
    },
    {
     "data": {
      "image/png": "[encoded data removed]",
      "text/plain": [
       "<Figure size 432x288 with 1 Axes>"
      ]
     },
     "metadata": {
      "needs_background": "light"
     },
     "output_type": "display_data"
    }
   ],
   "source": [
    "loss_history = pd.DataFrame(loss_history, columns=['train', 'val'])\n",
    "acc_history = pd.DataFrame(acc_history, columns=['train', 'val'])\n",
    "plot_loss_history(loss_history.loc[:, 'train'], loss_history.loc[:, 'val'])\n",
    "plot_accuracy(acc_history.loc[:, 'train'], acc_history.loc[:, 'val'])"
   ]
  },
  {
   "cell_type": "code",
   "execution_count": 24,
   "id": "0649515b",
   "metadata": {
    "execution": {
     "iopub.execute_input": "2022-05-01T01:52:28.107283Z",
     "iopub.status.busy": "2022-05-01T01:52:28.106899Z",
     "iopub.status.idle": "2022-05-01T01:52:28.158464Z",
     "shell.execute_reply": "2022-05-01T01:52:28.157527Z"
    },
    "papermill": {
     "duration": 1.925966,
     "end_time": "2022-05-01T01:52:28.160633",
     "exception": false,
     "start_time": "2022-05-01T01:52:26.234667",
     "status": "completed"
    },
    "tags": []
   },
   "outputs": [],
   "source": [
    "from copy import deepcopy\n",
    "\n",
    "import torch\n",
    "import torch.nn as nn\n",
    "import torch.jit\n",
    "\n",
    "\n",
    "class Tent(nn.Module):\n",
    "    \"\"\"Tent adapts a model by entropy minimization during testing.\n",
    "    Once tented, a model adapts itself by updating on every forward.\n",
    "    \"\"\"\n",
    "    def __init__(self, model, optimizer, steps=1, episodic=False):\n",
    "        super().__init__()\n",
    "        self.model = model\n",
    "        self.optimizer = optimizer\n",
    "        self.steps = steps\n",
    "        assert steps > 0, \"tent requires >= 1 step(s) to forward and update\"\n",
    "        self.episodic = episodic\n",
    "\n",
    "        # note: if the model is never reset, like for continual adaptation,\n",
    "        # then skipping the state copy would save memory\n",
    "        self.model_state, self.optimizer_state = \\\n",
    "            copy_model_and_optimizer(self.model, self.optimizer)\n",
    "\n",
    "    def forward(self, x):\n",
    "        if self.episodic:\n",
    "            self.reset()\n",
    "\n",
    "        for _ in range(self.steps):\n",
    "            outputs = forward_and_adapt(x, self.model, self.optimizer)\n",
    "\n",
    "        return outputs\n",
    "\n",
    "    def reset(self):\n",
    "        if self.model_state is None or self.optimizer_state is None:\n",
    "            raise Exception(\"cannot reset without saved model/optimizer state\")\n",
    "        load_model_and_optimizer(self.model, self.optimizer,\n",
    "                                 self.model_state, self.optimizer_state)\n",
    "\n",
    "\n",
    "@torch.jit.script\n",
    "def softmax_entropy(x: torch.Tensor) -> torch.Tensor:\n",
    "    \"\"\"Entropy of softmax distribution from logits.\"\"\"\n",
    "    return -(x.softmax(1) * x.log_softmax(1)).sum(1)\n",
    "\n",
    "\n",
    "@torch.enable_grad()  # ensure grads in possible no grad context for testing\n",
    "def forward_and_adapt(x, model, optimizer):\n",
    "    \"\"\"Forward and adapt model on batch of data.\n",
    "    Measure entropy of the model prediction, take gradients, and update params.\n",
    "    \"\"\"\n",
    "    # forward\n",
    "    outputs = model(x)\n",
    "    # adapt\n",
    "    loss = softmax_entropy(outputs).mean(0)\n",
    "    loss.backward()\n",
    "    optimizer.step()\n",
    "    optimizer.zero_grad()\n",
    "    return outputs\n",
    "\n",
    "\n",
    "def collect_params(model):\n",
    "    \"\"\"Collect the affine scale + shift parameters from batch norms.\n",
    "    Walk the model's modules and collect all batch normalization parameters.\n",
    "    Return the parameters and their names.\n",
    "    Note: other choices of parameterization are possible!\n",
    "    \"\"\"\n",
    "    params = []\n",
    "    names = []\n",
    "    for nm, m in model.named_modules():\n",
    "        if isinstance(m, nn.BatchNorm2d):\n",
    "            for np, p in m.named_parameters():\n",
    "                if np in ['weight', 'bias']:  # weight is scale, bias is shift\n",
    "                    params.append(p)\n",
    "                    names.append(f\"{nm}.{np}\")\n",
    "    return params, names\n",
    "\n",
    "\n",
    "def copy_model_and_optimizer(model, optimizer):\n",
    "    \"\"\"Copy the model and optimizer states for resetting after adaptation.\"\"\"\n",
    "    model_state = deepcopy(model.state_dict())\n",
    "    optimizer_state = deepcopy(optimizer.state_dict())\n",
    "    return model_state, optimizer_state\n",
    "\n",
    "\n",
    "def load_model_and_optimizer(model, optimizer, model_state, optimizer_state):\n",
    "    \"\"\"Restore the model and optimizer states from copies.\"\"\"\n",
    "    model.load_state_dict(model_state, strict=True)\n",
    "    optimizer.load_state_dict(optimizer_state)\n",
    "\n",
    "\n",
    "def configure_model(model):\n",
    "    \"\"\"Configure model for use with tent.\"\"\"\n",
    "    # train mode, because tent optimizes the model to minimize entropy\n",
    "    model.train()\n",
    "    # disable grad, to (re-)enable only what tent updates\n",
    "    model.requires_grad_(False)\n",
    "    # configure norm for tent updates: enable grad + force batch statisics\n",
    "    for m in model.modules():\n",
    "        if isinstance(m, nn.BatchNorm2d):\n",
    "            m.requires_grad_(True)\n",
    "            # force use of batch stats in train and eval modes\n",
    "            m.track_running_stats = False\n",
    "            m.running_mean = None\n",
    "            m.running_var = None\n",
    "    return model\n",
    "\n",
    "\n",
    "def check_model(model):\n",
    "    \"\"\"Check model for compatability with tent.\"\"\"\n",
    "    is_training = model.training\n",
    "    assert is_training, \"tent needs train mode: call model.train()\"\n",
    "    param_grads = [p.requires_grad for p in model.parameters()]\n",
    "    has_any_params = any(param_grads)\n",
    "    has_all_params = all(param_grads)\n",
    "    assert has_any_params, \"tent needs params to update: \" \\\n",
    "                           \"check which require grad\"\n",
    "    assert not has_all_params, \"tent should not update all params: \" \\\n",
    "                               \"check which require grad\"\n",
    "    has_bn = any([isinstance(m, nn.BatchNorm2d) for m in model.modules()])\n",
    "    assert has_bn, \"tent needs normalization for its optimization\""
   ]
  },
  {
   "cell_type": "code",
   "execution_count": 25,
   "id": "647d9e23",
   "metadata": {
    "execution": {
     "iopub.execute_input": "2022-05-01T01:52:31.785221Z",
     "iopub.status.busy": "2022-05-01T01:52:31.784867Z",
     "iopub.status.idle": "2022-05-01T01:52:31.803715Z",
     "shell.execute_reply": "2022-05-01T01:52:31.802823Z"
    },
    "papermill": {
     "duration": 1.844893,
     "end_time": "2022-05-01T01:52:31.806106",
     "exception": false,
     "start_time": "2022-05-01T01:52:29.961213",
     "status": "completed"
    },
    "tags": []
   },
   "outputs": [],
   "source": [
    "if model_name == \"vgg16\":\n",
    "    model = VGG16(1, num_classes)\n",
    "elif model_name == \"resnet18\":\n",
    "    model = ResNet(18, 1, num_classes, pretrained = False)\n",
    "elif model_name == 'simpleCNN':\n",
    "    model = SimpleCNN(1, num_classes)\n",
    "\n",
    "device = torch.device(\"cuda:0\" if torch.cuda.is_available() else \"cpu\")\n",
    "model.load_state_dict(torch.load(model_name+\"_baseline.pt\"))\n",
    "model = model.to(device)"
   ]
  },
  {
   "cell_type": "code",
   "execution_count": 26,
   "id": "c842b122",
   "metadata": {
    "execution": {
     "iopub.execute_input": "2022-05-01T01:52:35.756538Z",
     "iopub.status.busy": "2022-05-01T01:52:35.756196Z",
     "iopub.status.idle": "2022-05-01T01:52:38.284636Z",
     "shell.execute_reply": "2022-05-01T01:52:38.283671Z"
    },
    "papermill": {
     "duration": 4.674631,
     "end_time": "2022-05-01T01:52:38.287549",
     "exception": false,
     "start_time": "2022-05-01T01:52:33.612918",
     "status": "completed"
    },
    "tags": []
   },
   "outputs": [
    {
     "name": "stdout",
     "output_type": "stream",
     "text": [
      "Model:  simpleCNN\n",
      "###Test Set Accuracy on Clean Images with no TENT###\n",
      "Test loss: 0.0200 | Test acc.: 0.9935\n",
      "\n"
     ]
    }
   ],
   "source": [
    "print(\"Model: \", model_name)\n",
    "print(\"###Test Set Accuracy on Clean Images with no TENT###\")\n",
    "model.eval()\n",
    "test_loader = torch.utils.data.DataLoader(val_dataset, batch_size_test, shuffle=False)\n",
    "running_loss = 0.0\n",
    "running_acc = 0.0\n",
    "\n",
    "\n",
    "for i, batch in enumerate(test_loader):\n",
    "    inputs, labels = batch\n",
    "    inputs, labels = inputs.to(device), labels.to(device)\n",
    "\n",
    "    with torch.no_grad():\n",
    "        outputs = model(inputs)\n",
    "    loss = nn.CrossEntropyLoss(reduction='mean')(outputs, labels)\n",
    "\n",
    "    _, preds = torch.max(outputs, 1)\n",
    "    running_loss += loss.detach() * inputs.size(0)\n",
    "    running_acc += torch.sum(preds == labels.data)\n",
    "\n",
    "# Get loss and accuracy\n",
    "test_loss = (running_loss / len(val_dataset))\n",
    "test_accuracy = (running_acc.float() / len(val_dataset))\n",
    "\n",
    "# Display loss, accuracy values after each epoch\n",
    "print(\"Test loss: {:.4f} | Test acc.: {:.4f}\\n\"\n",
    "            .format(test_loss.item(),test_accuracy.item()))"
   ]
  },
  {
   "cell_type": "code",
   "execution_count": 27,
   "id": "e81d4ab9",
   "metadata": {
    "execution": {
     "iopub.execute_input": "2022-05-01T01:52:41.990878Z",
     "iopub.status.busy": "2022-05-01T01:52:41.990612Z",
     "iopub.status.idle": "2022-05-01T01:53:26.375922Z",
     "shell.execute_reply": "2022-05-01T01:53:26.374110Z"
    },
    "papermill": {
     "duration": 46.260568,
     "end_time": "2022-05-01T01:53:26.378925",
     "exception": false,
     "start_time": "2022-05-01T01:52:40.118357",
     "status": "completed"
    },
    "tags": []
   },
   "outputs": [
    {
     "name": "stdout",
     "output_type": "stream",
     "text": [
      "Model:  simpleCNN\n",
      "###Test Set Accuracy on Corrupted Images with no TENT###\n",
      "zigzag :  0.873199999332428  \n",
      "shear :  0.9878999590873718  \n",
      "spatter :  0.9517999887466431  \n",
      "identity :  0.9934999942779541  \n",
      "fog :  0.12049999833106995  \n",
      "translate :  0.6966999769210815  \n",
      "scale :  0.9656999707221985  \n",
      "impulse_noise :  0.8666999936103821  \n",
      "motion_blur :  0.6491999626159668  \n",
      "dotted_line :  0.9833999872207642  \n",
      "canny_edges :  0.738099992275238  \n",
      "rotate :  0.9777999520301819  \n",
      "stripe :  0.8965999484062195  \n",
      "glass_blur :  0.6248999834060669  \n",
      "brightness :  0.23569999635219574  \n",
      "shot_noise :  0.9829999804496765  \n",
      "Mean:  0.7840437302365899\n"
     ]
    }
   ],
   "source": [
    "chal_labels = val_dataset.targets\n",
    "testset_c_dir = 'mnist_c/'\n",
    "challenges = os.listdir(testset_c_dir)\n",
    "print(\"Model: \", model_name)\n",
    "print(\"###Test Set Accuracy on Corrupted Images with no TENT###\")\n",
    "\n",
    "model.eval()\n",
    "avg_list = []\n",
    "for chal in challenges:\n",
    "    chal_avg = 0\n",
    "    for severity in range(1, 2):\n",
    "        chal_data = np.load(testset_c_dir + chal + '/test_images.npy')\n",
    "        chal_data = preprocess_test(chal_data, (0.1307,), (0.3081,),size)\n",
    "        chal_dataset = torch.utils.data.TensorDataset(chal_data, chal_labels)\n",
    "        test_loader = torch.utils.data.DataLoader(chal_dataset, batch_size=batch_size_test)\n",
    "\n",
    "        sev_acc = 0\n",
    "        with torch.no_grad():\n",
    "            for x, y in test_loader:\n",
    "                x = x.to(device)\n",
    "                y = y.to(device)\n",
    "\n",
    "                outputs = model(x)\n",
    "                sev_acc += torch.sum(torch.argmax(outputs,1) == y)\n",
    "\n",
    "        chal_avg += (sev_acc/len(chal_dataset)).item()\n",
    "    \n",
    "    avg_list.append(chal_avg)\n",
    "    print(chal, \": \", (chal_avg),\" \")\n",
    "\n",
    "print(\"Mean: \", np.mean(avg_list))"
   ]
  },
  {
   "cell_type": "code",
   "execution_count": 28,
   "id": "1ebd23c6",
   "metadata": {
    "execution": {
     "iopub.execute_input": "2022-05-01T01:53:30.390167Z",
     "iopub.status.busy": "2022-05-01T01:53:30.389846Z",
     "iopub.status.idle": "2022-05-01T01:53:30.395965Z",
     "shell.execute_reply": "2022-05-01T01:53:30.394995Z"
    },
    "papermill": {
     "duration": 2.182992,
     "end_time": "2022-05-01T01:53:30.398384",
     "exception": false,
     "start_time": "2022-05-01T01:53:28.215392",
     "status": "completed"
    },
    "tags": []
   },
   "outputs": [],
   "source": [
    "baseresults= list(zip(challenges, avg_list))\n",
    "results = pd.DataFrame(baseresults, columns=['DistortionType', 'baseline_score'])"
   ]
  },
  {
   "cell_type": "code",
   "execution_count": 29,
   "id": "5e10f1df",
   "metadata": {
    "execution": {
     "iopub.execute_input": "2022-05-01T01:53:34.120440Z",
     "iopub.status.busy": "2022-05-01T01:53:34.120132Z",
     "iopub.status.idle": "2022-05-01T01:53:38.067051Z",
     "shell.execute_reply": "2022-05-01T01:53:38.064764Z"
    },
    "papermill": {
     "duration": 5.823787,
     "end_time": "2022-05-01T01:53:38.070191",
     "exception": false,
     "start_time": "2022-05-01T01:53:32.246404",
     "status": "completed"
    },
    "tags": []
   },
   "outputs": [
    {
     "name": "stdout",
     "output_type": "stream",
     "text": [
      "Model:  simpleCNN\n",
      "###Test Set Accuracy on Clean Images with TENT###\n",
      "Test loss: 0.0197 | Test acc.: 0.9941\n",
      "\n"
     ]
    }
   ],
   "source": [
    "print(\"Model: \", model_name)\n",
    "print(\"###Test Set Accuracy on Clean Images with TENT###\")\n",
    "if model_name == \"vgg16\":\n",
    "    model = VGG16(1, num_classes)\n",
    "elif model_name == \"resnet18\":\n",
    "    model = ResNet(18, 1, num_classes, pretrained = False)\n",
    "elif model_name == 'simpleCNN':\n",
    "    model = SimpleCNN(1, num_classes)\n",
    "    \n",
    "device = torch.device(\"cuda:0\" if torch.cuda.is_available() else \"cpu\")\n",
    "model.load_state_dict(torch.load(model_name+\"_baseline.pt\"))\n",
    "\n",
    "net = configure_model(model)\n",
    "params, param_names = collect_params(net)\n",
    "optimizer = torch.optim.Adam(params, lr=1e-3)\n",
    "tented_model = Tent(net, optimizer)\n",
    "\n",
    "tented_model = tented_model.to(device)\n",
    "tented_model.eval()\n",
    "test_loader = torch.utils.data.DataLoader(val_dataset, batch_size_test, shuffle=False)\n",
    "running_loss = 0.0\n",
    "running_acc = 0.0\n",
    "\n",
    "\n",
    "for i, batch in enumerate(test_loader):\n",
    "    inputs, labels = batch\n",
    "    inputs, labels = inputs.to(device), labels.to(device)\n",
    "\n",
    "    with torch.no_grad():\n",
    "        outputs = tented_model(inputs)\n",
    "    loss = nn.CrossEntropyLoss(reduction='mean')(outputs, labels)\n",
    "\n",
    "    _, preds = torch.max(outputs, 1)\n",
    "    running_loss += loss.detach() * inputs.size(0)\n",
    "    running_acc += torch.sum(preds == labels.data)\n",
    "\n",
    "# Get loss and accuracy\n",
    "test_loss = (running_loss / len(val_dataset))\n",
    "test_accuracy = (running_acc.float() / len(val_dataset))\n",
    "\n",
    "# Display loss, accuracy values after each epoch\n",
    "print(\"Test loss: {:.4f} | Test acc.: {:.4f}\\n\"\n",
    "            .format(test_loss.item(),test_accuracy.item()))"
   ]
  },
  {
   "cell_type": "code",
   "execution_count": 30,
   "id": "6f16b948",
   "metadata": {
    "execution": {
     "iopub.execute_input": "2022-05-01T01:53:42.066367Z",
     "iopub.status.busy": "2022-05-01T01:53:42.066070Z",
     "iopub.status.idle": "2022-05-01T01:55:02.026595Z",
     "shell.execute_reply": "2022-05-01T01:55:02.025305Z"
    },
    "papermill": {
     "duration": 82.11878,
     "end_time": "2022-05-01T01:55:02.029009",
     "exception": false,
     "start_time": "2022-05-01T01:53:39.910229",
     "status": "completed"
    },
    "tags": []
   },
   "outputs": [
    {
     "name": "stdout",
     "output_type": "stream",
     "text": [
      "Model:  simpleCNN\n",
      "###Test Set Accuracy on Corrupted Images with TENT###\n",
      "zigzag :  0.911899983882904  \n",
      "shear :  0.9879999756813049  \n",
      "spatter :  0.979699969291687  \n",
      "identity :  0.9940999746322632  \n",
      "fog :  0.8682999610900879  \n",
      "translate :  0.7042999863624573  \n",
      "scale :  0.967799961566925  \n",
      "impulse_noise :  0.9695000052452087  \n",
      "motion_blur :  0.9519000053405762  \n",
      "dotted_line :  0.9864999651908875  \n",
      "canny_edges :  0.9193999767303467  \n",
      "rotate :  0.9787999987602234  \n",
      "stripe :  0.9483999609947205  \n",
      "glass_blur :  0.9530999660491943  \n",
      "brightness :  0.9802999496459961  \n",
      "shot_noise :  0.9876999855041504  \n",
      "Mean:  0.9431062266230583\n"
     ]
    }
   ],
   "source": [
    "chal_labels = val_dataset.targets\n",
    "testset_c_dir = 'mnist_c/'\n",
    "challenges = os.listdir(testset_c_dir)\n",
    "print(\"Model: \", model_name)\n",
    "print(\"###Test Set Accuracy on Corrupted Images with TENT###\")\n",
    "\n",
    "model.eval()\n",
    "avg_list = []\n",
    "for chal in challenges:\n",
    "    chal_avg = 0\n",
    "    for severity in range(1, 2):\n",
    "        if model_name == \"vgg16\":\n",
    "            model = VGG16(1, num_classes)\n",
    "        elif model_name == \"resnet18\":\n",
    "            model = ResNet(18, 1, num_classes, pretrained = False)\n",
    "        elif model_name == 'simpleCNN':\n",
    "            model = SimpleCNN(1, num_classes)\n",
    "\n",
    "        device = torch.device(\"cuda:0\" if torch.cuda.is_available() else \"cpu\")\n",
    "        model.load_state_dict(torch.load(model_name+\"_baseline.pt\"))\n",
    "        \n",
    "        net = configure_model(model)\n",
    "        params, param_names = collect_params(net)\n",
    "        optimizer = torch.optim.Adam(params, lr=1e-3)\n",
    "        tented_model = Tent(net, optimizer)\n",
    "\n",
    "        tented_model = tented_model.to(device)\n",
    "\n",
    "        chal_data = np.load(testset_c_dir + chal + '/test_images.npy')\n",
    "        chal_data = preprocess_test(chal_data, (0.1307,), (0.3081,), size)\n",
    "        chal_dataset = torch.utils.data.TensorDataset(chal_data, chal_labels)\n",
    "        test_loader = torch.utils.data.DataLoader(chal_dataset, batch_size=batch_size_test)\n",
    "\n",
    "        sev_acc = 0\n",
    "        with torch.no_grad():\n",
    "            for x, y in test_loader:\n",
    "                x = x.to(device)\n",
    "                y = y.to(device)\n",
    "\n",
    "                outputs = tented_model(x)\n",
    "                sev_acc += torch.sum(torch.argmax(outputs,1) == y)\n",
    "        chal_avg += (sev_acc/len(chal_dataset)).item()\n",
    "    \n",
    "    avg_list.append(chal_avg)\n",
    "    print(chal, \": \", (chal_avg),\" \")\n",
    "\n",
    "print(\"Mean: \", np.mean(avg_list))"
   ]
  },
  {
   "cell_type": "code",
   "execution_count": 31,
   "id": "94e24eaf",
   "metadata": {
    "execution": {
     "iopub.execute_input": "2022-05-01T01:55:05.878149Z",
     "iopub.status.busy": "2022-05-01T01:55:05.877813Z",
     "iopub.status.idle": "2022-05-01T01:55:05.891294Z",
     "shell.execute_reply": "2022-05-01T01:55:05.890506Z"
    },
    "papermill": {
     "duration": 1.931291,
     "end_time": "2022-05-01T01:55:05.893603",
     "exception": false,
     "start_time": "2022-05-01T01:55:03.962312",
     "status": "completed"
    },
    "tags": []
   },
   "outputs": [],
   "source": [
    "results[\"tent_score\"] = avg_list\n",
    "results.to_csv(model_name+'_results.csv')\n",
    "results = results.set_index('DistortionType')"
   ]
  },
  {
   "cell_type": "code",
   "execution_count": 32,
   "id": "7995cbca",
   "metadata": {
    "execution": {
     "iopub.execute_input": "2022-05-01T01:55:10.030704Z",
     "iopub.status.busy": "2022-05-01T01:55:10.030360Z",
     "iopub.status.idle": "2022-05-01T01:55:10.951571Z",
     "shell.execute_reply": "2022-05-01T01:55:10.950410Z"
    },
    "papermill": {
     "duration": 3.16952,
     "end_time": "2022-05-01T01:55:10.955003",
     "exception": false,
     "start_time": "2022-05-01T01:55:07.785483",
     "status": "completed"
    },
    "tags": []
   },
   "outputs": [
    {
     "data": {
      "image/png": "[encoded data removed]",
      "text/plain": [
       "<Figure size 1152x576 with 1 Axes>"
      ]
     },
     "metadata": {
      "needs_background": "light"
     },
     "output_type": "display_data"
    }
   ],
   "source": [
    "ax = results.plot.barh(figsize=(16,8))\n",
    "ax.set_xlabel(\"Accuracy\")\n",
    "plt.savefig(\"mnistc_\" + model_name +\".pdf\",bbox_inches = \"tight\")"
   ]
  }
 ],
 "metadata": {
  "kernelspec": {
   "display_name": "Python 3",
   "language": "python",
   "name": "python3"
  },
  "language_info": {
   "codemirror_mode": {
    "name": "ipython",
    "version": 3
   },
   "file_extension": ".py",
   "mimetype": "text/x-python",
   "name": "python",
   "nbconvert_exporter": "python",
   "pygments_lexer": "ipython3",
   "version": "3.7.12"
  },
  "papermill": {
   "default_parameters": {},
   "duration": 686.928365,
   "end_time": "2022-05-01T01:55:14.192985",
   "environment_variables": {},
   "exception": null,
   "input_path": "__notebook__.ipynb",
   "output_path": "__notebook__.ipynb",
   "parameters": {},
   "start_time": "2022-05-01T01:43:47.264620",
   "version": "2.3.4"
  },
  "widgets": {
   "application/vnd.jupyter.widget-state+json": {
    "state": {
     "01338e561d3e46a79d4b0a3cdfd38201": {
      "model_module": "@jupyter-widgets/controls",
      "model_module_version": "1.5.0",
      "model_name": "HTMLModel",
      "state": {
       "_dom_classes": [],
       "_model_module": "@jupyter-widgets/controls",
       "_model_module_version": "1.5.0",
       "_model_name": "HTMLModel",
       "_view_count": null,
       "_view_module": "@jupyter-widgets/controls",
       "_view_module_version": "1.5.0",
       "_view_name": "HTMLView",
       "description": "",
       "description_tooltip": null,
       "layout": "IPY_MODEL_be5c5cfcea9b4050aa4db6f15d522f12",
       "placeholder": "​",
       "style": "IPY_MODEL_b785b405272f4224a1295cd6b8c9f1fd",
       "value": " 29696/? [00:00&lt;00:00, 980238.87it/s]"
      }
     },
     "085b733cf7164d948bd139aba81b3ca3": {
      "model_module": "@jupyter-widgets/base",
      "model_module_version": "1.2.0",
      "model_name": "LayoutModel",
      "state": {
       "_model_module": "@jupyter-widgets/base",
       "_model_module_version": "1.2.0",
       "_model_name": "LayoutModel",
       "_view_count": null,
       "_view_module": "@jupyter-widgets/base",
       "_view_module_version": "1.2.0",
       "_view_name": "LayoutView",
       "align_content": null,
       "align_items": null,
       "align_self": null,
       "border": null,
       "bottom": null,
       "display": null,
       "flex": null,
       "flex_flow": null,
       "grid_area": null,
       "grid_auto_columns": null,
       "grid_auto_flow": null,
       "grid_auto_rows": null,
       "grid_column": null,
       "grid_gap": null,
       "grid_row": null,
       "grid_template_areas": null,
       "grid_template_columns": null,
       "grid_template_rows": null,
       "height": null,
       "justify_content": null,
       "justify_items": null,
       "left": null,
       "margin": null,
       "max_height": null,
       "max_width": null,
       "min_height": null,
       "min_width": null,
       "object_fit": null,
       "object_position": null,
       "order": null,
       "overflow": null,
       "overflow_x": null,
       "overflow_y": null,
       "padding": null,
       "right": null,
       "top": null,
       "visibility": null,
       "width": null
      }
     },
     "0a6d96d1521d4916af5ed5715130b4b8": {
      "model_module": "@jupyter-widgets/controls",
      "model_module_version": "1.5.0",
      "model_name": "FloatProgressModel",
      "state": {
       "_dom_classes": [],
       "_model_module": "@jupyter-widgets/controls",
       "_model_module_version": "1.5.0",
       "_model_name": "FloatProgressModel",
       "_view_count": null,
       "_view_module": "@jupyter-widgets/controls",
       "_view_module_version": "1.5.0",
       "_view_name": "ProgressView",
       "bar_style": "success",
       "description": "",
       "description_tooltip": null,
       "layout": "IPY_MODEL_2f841b3c97ed42f8956b86814c1b47c8",
       "max": 1648877,
       "min": 0,
       "orientation": "horizontal",
       "style": "IPY_MODEL_e818f420dd9e4104a551f78148cb22c4",
       "value": 1648877
      }
     },
     "0caec7c713e243588b831b7d5bdd5487": {
      "model_module": "@jupyter-widgets/controls",
      "model_module_version": "1.5.0",
      "model_name": "HTMLModel",
      "state": {
       "_dom_classes": [],
       "_model_module": "@jupyter-widgets/controls",
       "_model_module_version": "1.5.0",
       "_model_name": "HTMLModel",
       "_view_count": null,
       "_view_module": "@jupyter-widgets/controls",
       "_view_module_version": "1.5.0",
       "_view_name": "HTMLView",
       "description": "",
       "description_tooltip": null,
       "layout": "IPY_MODEL_b5d85a80748a4386973bd5b1b17dcb34",
       "placeholder": "​",
       "style": "IPY_MODEL_9a2d9f18846e47879ac9508518a4d38c",
       "value": " 1649664/? [00:00&lt;00:00, 26548765.31it/s]"
      }
     },
     "12189e7be0a943daafed41e8f331ea02": {
      "model_module": "@jupyter-widgets/base",
      "model_module_version": "1.2.0",
      "model_name": "LayoutModel",
      "state": {
       "_model_module": "@jupyter-widgets/base",
       "_model_module_version": "1.2.0",
       "_model_name": "LayoutModel",
       "_view_count": null,
       "_view_module": "@jupyter-widgets/base",
       "_view_module_version": "1.2.0",
       "_view_name": "LayoutView",
       "align_content": null,
       "align_items": null,
       "align_self": null,
       "border": null,
       "bottom": null,
       "display": null,
       "flex": null,
       "flex_flow": null,
       "grid_area": null,
       "grid_auto_columns": null,
       "grid_auto_flow": null,
       "grid_auto_rows": null,
       "grid_column": null,
       "grid_gap": null,
       "grid_row": null,
       "grid_template_areas": null,
       "grid_template_columns": null,
       "grid_template_rows": null,
       "height": null,
       "justify_content": null,
       "justify_items": null,
       "left": null,
       "margin": null,
       "max_height": null,
       "max_width": null,
       "min_height": null,
       "min_width": null,
       "object_fit": null,
       "object_position": null,
       "order": null,
       "overflow": null,
       "overflow_x": null,
       "overflow_y": null,
       "padding": null,
       "right": null,
       "top": null,
       "visibility": null,
       "width": null
      }
     },
     "12bf5b26fd214d2baebe55e148b42437": {
      "model_module": "@jupyter-widgets/base",
      "model_module_version": "1.2.0",
      "model_name": "LayoutModel",
      "state": {
       "_model_module": "@jupyter-widgets/base",
       "_model_module_version": "1.2.0",
       "_model_name": "LayoutModel",
       "_view_count": null,
       "_view_module": "@jupyter-widgets/base",
       "_view_module_version": "1.2.0",
       "_view_name": "LayoutView",
       "align_content": null,
       "align_items": null,
       "align_self": null,
       "border": null,
       "bottom": null,
       "display": null,
       "flex": null,
       "flex_flow": null,
       "grid_area": null,
       "grid_auto_columns": null,
       "grid_auto_flow": null,
       "grid_auto_rows": null,
       "grid_column": null,
       "grid_gap": null,
       "grid_row": null,
       "grid_template_areas": null,
       "grid_template_columns": null,
       "grid_template_rows": null,
       "height": null,
       "justify_content": null,
       "justify_items": null,
       "left": null,
       "margin": null,
       "max_height": null,
       "max_width": null,
       "min_height": null,
       "min_width": null,
       "object_fit": null,
       "object_position": null,
       "order": null,
       "overflow": null,
       "overflow_x": null,
       "overflow_y": null,
       "padding": null,
       "right": null,
       "top": null,
       "visibility": null,
       "width": null
      }
     },
     "1dfa80e806ec48f59b8ca3543dc30a15": {
      "model_module": "@jupyter-widgets/controls",
      "model_module_version": "1.5.0",
      "model_name": "HBoxModel",
      "state": {
       "_dom_classes": [],
       "_model_module": "@jupyter-widgets/controls",
       "_model_module_version": "1.5.0",
       "_model_name": "HBoxModel",
       "_view_count": null,
       "_view_module": "@jupyter-widgets/controls",
       "_view_module_version": "1.5.0",
       "_view_name": "HBoxView",
       "box_style": "",
       "children": [
        "IPY_MODEL_784999239ea74fb68442d6e9358c229b",
        "IPY_MODEL_d25c421befbb471192b488c6beba2e84",
        "IPY_MODEL_216fef3bfdbe4267a62dbfa107d078aa"
       ],
       "layout": "IPY_MODEL_51a8d881db0c4252be2f9154f886b7c2"
      }
     },
     "216fef3bfdbe4267a62dbfa107d078aa": {
      "model_module": "@jupyter-widgets/controls",
      "model_module_version": "1.5.0",
      "model_name": "HTMLModel",
      "state": {
       "_dom_classes": [],
       "_model_module": "@jupyter-widgets/controls",
       "_model_module_version": "1.5.0",
       "_model_name": "HTMLModel",
       "_view_count": null,
       "_view_module": "@jupyter-widgets/controls",
       "_view_module_version": "1.5.0",
       "_view_name": "HTMLView",
       "description": "",
       "description_tooltip": null,
       "layout": "IPY_MODEL_12189e7be0a943daafed41e8f331ea02",
       "placeholder": "​",
       "style": "IPY_MODEL_ba11e309dbc34cf8b405804cd50af064",
       "value": " 9913344/? [00:00&lt;00:00, 40650803.47it/s]"
      }
     },
     "27ede8289f0443a4b657af31442eedf2": {
      "model_module": "@jupyter-widgets/controls",
      "model_module_version": "1.5.0",
      "model_name": "DescriptionStyleModel",
      "state": {
       "_model_module": "@jupyter-widgets/controls",
       "_model_module_version": "1.5.0",
       "_model_name": "DescriptionStyleModel",
       "_view_count": null,
       "_view_module": "@jupyter-widgets/base",
       "_view_module_version": "1.2.0",
       "_view_name": "StyleView",
       "description_width": ""
      }
     },
     "2994da60af1247c093603e30a05f0b77": {
      "model_module": "@jupyter-widgets/controls",
      "model_module_version": "1.5.0",
      "model_name": "DescriptionStyleModel",
      "state": {
       "_model_module": "@jupyter-widgets/controls",
       "_model_module_version": "1.5.0",
       "_model_name": "DescriptionStyleModel",
       "_view_count": null,
       "_view_module": "@jupyter-widgets/base",
       "_view_module_version": "1.2.0",
       "_view_name": "StyleView",
       "description_width": ""
      }
     },
     "2bdffe2687a644e1b2e845ad6c0b45d0": {
      "model_module": "@jupyter-widgets/controls",
      "model_module_version": "1.5.0",
      "model_name": "FloatProgressModel",
      "state": {
       "_dom_classes": [],
       "_model_module": "@jupyter-widgets/controls",
       "_model_module_version": "1.5.0",
       "_model_name": "FloatProgressModel",
       "_view_count": null,
       "_view_module": "@jupyter-widgets/controls",
       "_view_module_version": "1.5.0",
       "_view_name": "ProgressView",
       "bar_style": "success",
       "description": "",
       "description_tooltip": null,
       "layout": "IPY_MODEL_519b44fa2535400bba27e04d5d2eb4fb",
       "max": 28881,
       "min": 0,
       "orientation": "horizontal",
       "style": "IPY_MODEL_f1aeca8025434657aa374ef77f8501b0",
       "value": 28881
      }
     },
     "2f841b3c97ed42f8956b86814c1b47c8": {
      "model_module": "@jupyter-widgets/base",
      "model_module_version": "1.2.0",
      "model_name": "LayoutModel",
      "state": {
       "_model_module": "@jupyter-widgets/base",
       "_model_module_version": "1.2.0",
       "_model_name": "LayoutModel",
       "_view_count": null,
       "_view_module": "@jupyter-widgets/base",
       "_view_module_version": "1.2.0",
       "_view_name": "LayoutView",
       "align_content": null,
       "align_items": null,
       "align_self": null,
       "border": null,
       "bottom": null,
       "display": null,
       "flex": null,
       "flex_flow": null,
       "grid_area": null,
       "grid_auto_columns": null,
       "grid_auto_flow": null,
       "grid_auto_rows": null,
       "grid_column": null,
       "grid_gap": null,
       "grid_row": null,
       "grid_template_areas": null,
       "grid_template_columns": null,
       "grid_template_rows": null,
       "height": null,
       "justify_content": null,
       "justify_items": null,
       "left": null,
       "margin": null,
       "max_height": null,
       "max_width": null,
       "min_height": null,
       "min_width": null,
       "object_fit": null,
       "object_position": null,
       "order": null,
       "overflow": null,
       "overflow_x": null,
       "overflow_y": null,
       "padding": null,
       "right": null,
       "top": null,
       "visibility": null,
       "width": null
      }
     },
     "361d6edd29164352bcf2876407851ddc": {
      "model_module": "@jupyter-widgets/controls",
      "model_module_version": "1.5.0",
      "model_name": "DescriptionStyleModel",
      "state": {
       "_model_module": "@jupyter-widgets/controls",
       "_model_module_version": "1.5.0",
       "_model_name": "DescriptionStyleModel",
       "_view_count": null,
       "_view_module": "@jupyter-widgets/base",
       "_view_module_version": "1.2.0",
       "_view_name": "StyleView",
       "description_width": ""
      }
     },
     "3c9f29d32aa04f2bbe63930449b521ea": {
      "model_module": "@jupyter-widgets/controls",
      "model_module_version": "1.5.0",
      "model_name": "HTMLModel",
      "state": {
       "_dom_classes": [],
       "_model_module": "@jupyter-widgets/controls",
       "_model_module_version": "1.5.0",
       "_model_name": "HTMLModel",
       "_view_count": null,
       "_view_module": "@jupyter-widgets/controls",
       "_view_module_version": "1.5.0",
       "_view_name": "HTMLView",
       "description": "",
       "description_tooltip": null,
       "layout": "IPY_MODEL_ac65d0e82cdd4f40b6d32f5b35389960",
       "placeholder": "​",
       "style": "IPY_MODEL_27ede8289f0443a4b657af31442eedf2",
       "value": " 5120/? [00:00&lt;00:00, 166735.28it/s]"
      }
     },
     "510de8c643484f9eb92d6627c8db6627": {
      "model_module": "@jupyter-widgets/controls",
      "model_module_version": "1.5.0",
      "model_name": "FloatProgressModel",
      "state": {
       "_dom_classes": [],
       "_model_module": "@jupyter-widgets/controls",
       "_model_module_version": "1.5.0",
       "_model_name": "FloatProgressModel",
       "_view_count": null,
       "_view_module": "@jupyter-widgets/controls",
       "_view_module_version": "1.5.0",
       "_view_name": "ProgressView",
       "bar_style": "success",
       "description": "",
       "description_tooltip": null,
       "layout": "IPY_MODEL_085b733cf7164d948bd139aba81b3ca3",
       "max": 4542,
       "min": 0,
       "orientation": "horizontal",
       "style": "IPY_MODEL_bfcafcddc9b84f599a8a9268ca8e6714",
       "value": 4542
      }
     },
     "519b44fa2535400bba27e04d5d2eb4fb": {
      "model_module": "@jupyter-widgets/base",
      "model_module_version": "1.2.0",
      "model_name": "LayoutModel",
      "state": {
       "_model_module": "@jupyter-widgets/base",
       "_model_module_version": "1.2.0",
       "_model_name": "LayoutModel",
       "_view_count": null,
       "_view_module": "@jupyter-widgets/base",
       "_view_module_version": "1.2.0",
       "_view_name": "LayoutView",
       "align_content": null,
       "align_items": null,
       "align_self": null,
       "border": null,
       "bottom": null,
       "display": null,
       "flex": null,
       "flex_flow": null,
       "grid_area": null,
       "grid_auto_columns": null,
       "grid_auto_flow": null,
       "grid_auto_rows": null,
       "grid_column": null,
       "grid_gap": null,
       "grid_row": null,
       "grid_template_areas": null,
       "grid_template_columns": null,
       "grid_template_rows": null,
       "height": null,
       "justify_content": null,
       "justify_items": null,
       "left": null,
       "margin": null,
       "max_height": null,
       "max_width": null,
       "min_height": null,
       "min_width": null,
       "object_fit": null,
       "object_position": null,
       "order": null,
       "overflow": null,
       "overflow_x": null,
       "overflow_y": null,
       "padding": null,
       "right": null,
       "top": null,
       "visibility": null,
       "width": null
      }
     },
     "51a8d881db0c4252be2f9154f886b7c2": {
      "model_module": "@jupyter-widgets/base",
      "model_module_version": "1.2.0",
      "model_name": "LayoutModel",
      "state": {
       "_model_module": "@jupyter-widgets/base",
       "_model_module_version": "1.2.0",
       "_model_name": "LayoutModel",
       "_view_count": null,
       "_view_module": "@jupyter-widgets/base",
       "_view_module_version": "1.2.0",
       "_view_name": "LayoutView",
       "align_content": null,
       "align_items": null,
       "align_self": null,
       "border": null,
       "bottom": null,
       "display": null,
       "flex": null,
       "flex_flow": null,
       "grid_area": null,
       "grid_auto_columns": null,
       "grid_auto_flow": null,
       "grid_auto_rows": null,
       "grid_column": null,
       "grid_gap": null,
       "grid_row": null,
       "grid_template_areas": null,
       "grid_template_columns": null,
       "grid_template_rows": null,
       "height": null,
       "justify_content": null,
       "justify_items": null,
       "left": null,
       "margin": null,
       "max_height": null,
       "max_width": null,
       "min_height": null,
       "min_width": null,
       "object_fit": null,
       "object_position": null,
       "order": null,
       "overflow": null,
       "overflow_x": null,
       "overflow_y": null,
       "padding": null,
       "right": null,
       "top": null,
       "visibility": null,
       "width": null
      }
     },
     "5990965ecd7c4269896e10e27b547881": {
      "model_module": "@jupyter-widgets/controls",
      "model_module_version": "1.5.0",
      "model_name": "ProgressStyleModel",
      "state": {
       "_model_module": "@jupyter-widgets/controls",
       "_model_module_version": "1.5.0",
       "_model_name": "ProgressStyleModel",
       "_view_count": null,
       "_view_module": "@jupyter-widgets/base",
       "_view_module_version": "1.2.0",
       "_view_name": "StyleView",
       "bar_color": null,
       "description_width": ""
      }
     },
     "5ce47e9de8d5437b9037d85721a960d7": {
      "model_module": "@jupyter-widgets/controls",
      "model_module_version": "1.5.0",
      "model_name": "HTMLModel",
      "state": {
       "_dom_classes": [],
       "_model_module": "@jupyter-widgets/controls",
       "_model_module_version": "1.5.0",
       "_model_name": "HTMLModel",
       "_view_count": null,
       "_view_module": "@jupyter-widgets/controls",
       "_view_module_version": "1.5.0",
       "_view_name": "HTMLView",
       "description": "",
       "description_tooltip": null,
       "layout": "IPY_MODEL_7e3fb41fae3b4886b1051256ae8195fe",
       "placeholder": "​",
       "style": "IPY_MODEL_2994da60af1247c093603e30a05f0b77",
       "value": ""
      }
     },
     "690c3c90af414d428fc86975c91daee4": {
      "model_module": "@jupyter-widgets/controls",
      "model_module_version": "1.5.0",
      "model_name": "DescriptionStyleModel",
      "state": {
       "_model_module": "@jupyter-widgets/controls",
       "_model_module_version": "1.5.0",
       "_model_name": "DescriptionStyleModel",
       "_view_count": null,
       "_view_module": "@jupyter-widgets/base",
       "_view_module_version": "1.2.0",
       "_view_name": "StyleView",
       "description_width": ""
      }
     },
     "6d0916c0c77b4b3a976e9ebe994d08a9": {
      "model_module": "@jupyter-widgets/base",
      "model_module_version": "1.2.0",
      "model_name": "LayoutModel",
      "state": {
       "_model_module": "@jupyter-widgets/base",
       "_model_module_version": "1.2.0",
       "_model_name": "LayoutModel",
       "_view_count": null,
       "_view_module": "@jupyter-widgets/base",
       "_view_module_version": "1.2.0",
       "_view_name": "LayoutView",
       "align_content": null,
       "align_items": null,
       "align_self": null,
       "border": null,
       "bottom": null,
       "display": null,
       "flex": null,
       "flex_flow": null,
       "grid_area": null,
       "grid_auto_columns": null,
       "grid_auto_flow": null,
       "grid_auto_rows": null,
       "grid_column": null,
       "grid_gap": null,
       "grid_row": null,
       "grid_template_areas": null,
       "grid_template_columns": null,
       "grid_template_rows": null,
       "height": null,
       "justify_content": null,
       "justify_items": null,
       "left": null,
       "margin": null,
       "max_height": null,
       "max_width": null,
       "min_height": null,
       "min_width": null,
       "object_fit": null,
       "object_position": null,
       "order": null,
       "overflow": null,
       "overflow_x": null,
       "overflow_y": null,
       "padding": null,
       "right": null,
       "top": null,
       "visibility": null,
       "width": null
      }
     },
     "784999239ea74fb68442d6e9358c229b": {
      "model_module": "@jupyter-widgets/controls",
      "model_module_version": "1.5.0",
      "model_name": "HTMLModel",
      "state": {
       "_dom_classes": [],
       "_model_module": "@jupyter-widgets/controls",
       "_model_module_version": "1.5.0",
       "_model_name": "HTMLModel",
       "_view_count": null,
       "_view_module": "@jupyter-widgets/controls",
       "_view_module_version": "1.5.0",
       "_view_name": "HTMLView",
       "description": "",
       "description_tooltip": null,
       "layout": "IPY_MODEL_f7b452721a164f8cb9ca624396e63202",
       "placeholder": "​",
       "style": "IPY_MODEL_361d6edd29164352bcf2876407851ddc",
       "value": ""
      }
     },
     "7c16ab3b365b4d0bb23056678dae6caa": {
      "model_module": "@jupyter-widgets/base",
      "model_module_version": "1.2.0",
      "model_name": "LayoutModel",
      "state": {
       "_model_module": "@jupyter-widgets/base",
       "_model_module_version": "1.2.0",
       "_model_name": "LayoutModel",
       "_view_count": null,
       "_view_module": "@jupyter-widgets/base",
       "_view_module_version": "1.2.0",
       "_view_name": "LayoutView",
       "align_content": null,
       "align_items": null,
       "align_self": null,
       "border": null,
       "bottom": null,
       "display": null,
       "flex": null,
       "flex_flow": null,
       "grid_area": null,
       "grid_auto_columns": null,
       "grid_auto_flow": null,
       "grid_auto_rows": null,
       "grid_column": null,
       "grid_gap": null,
       "grid_row": null,
       "grid_template_areas": null,
       "grid_template_columns": null,
       "grid_template_rows": null,
       "height": null,
       "justify_content": null,
       "justify_items": null,
       "left": null,
       "margin": null,
       "max_height": null,
       "max_width": null,
       "min_height": null,
       "min_width": null,
       "object_fit": null,
       "object_position": null,
       "order": null,
       "overflow": null,
       "overflow_x": null,
       "overflow_y": null,
       "padding": null,
       "right": null,
       "top": null,
       "visibility": null,
       "width": null
      }
     },
     "7e3fb41fae3b4886b1051256ae8195fe": {
      "model_module": "@jupyter-widgets/base",
      "model_module_version": "1.2.0",
      "model_name": "LayoutModel",
      "state": {
       "_model_module": "@jupyter-widgets/base",
       "_model_module_version": "1.2.0",
       "_model_name": "LayoutModel",
       "_view_count": null,
       "_view_module": "@jupyter-widgets/base",
       "_view_module_version": "1.2.0",
       "_view_name": "LayoutView",
       "align_content": null,
       "align_items": null,
       "align_self": null,
       "border": null,
       "bottom": null,
       "display": null,
       "flex": null,
       "flex_flow": null,
       "grid_area": null,
       "grid_auto_columns": null,
       "grid_auto_flow": null,
       "grid_auto_rows": null,
       "grid_column": null,
       "grid_gap": null,
       "grid_row": null,
       "grid_template_areas": null,
       "grid_template_columns": null,
       "grid_template_rows": null,
       "height": null,
       "justify_content": null,
       "justify_items": null,
       "left": null,
       "margin": null,
       "max_height": null,
       "max_width": null,
       "min_height": null,
       "min_width": null,
       "object_fit": null,
       "object_position": null,
       "order": null,
       "overflow": null,
       "overflow_x": null,
       "overflow_y": null,
       "padding": null,
       "right": null,
       "top": null,
       "visibility": null,
       "width": null
      }
     },
     "81b324838409463fa892337b7ffd6c67": {
      "model_module": "@jupyter-widgets/controls",
      "model_module_version": "1.5.0",
      "model_name": "DescriptionStyleModel",
      "state": {
       "_model_module": "@jupyter-widgets/controls",
       "_model_module_version": "1.5.0",
       "_model_name": "DescriptionStyleModel",
       "_view_count": null,
       "_view_module": "@jupyter-widgets/base",
       "_view_module_version": "1.2.0",
       "_view_name": "StyleView",
       "description_width": ""
      }
     },
     "86b43426f3aa41eeb1539015e95f57a8": {
      "model_module": "@jupyter-widgets/controls",
      "model_module_version": "1.5.0",
      "model_name": "HBoxModel",
      "state": {
       "_dom_classes": [],
       "_model_module": "@jupyter-widgets/controls",
       "_model_module_version": "1.5.0",
       "_model_name": "HBoxModel",
       "_view_count": null,
       "_view_module": "@jupyter-widgets/controls",
       "_view_module_version": "1.5.0",
       "_view_name": "HBoxView",
       "box_style": "",
       "children": [
        "IPY_MODEL_5ce47e9de8d5437b9037d85721a960d7",
        "IPY_MODEL_2bdffe2687a644e1b2e845ad6c0b45d0",
        "IPY_MODEL_01338e561d3e46a79d4b0a3cdfd38201"
       ],
       "layout": "IPY_MODEL_aa294fdd178e455ebc3639a140de0201"
      }
     },
     "9a2d9f18846e47879ac9508518a4d38c": {
      "model_module": "@jupyter-widgets/controls",
      "model_module_version": "1.5.0",
      "model_name": "DescriptionStyleModel",
      "state": {
       "_model_module": "@jupyter-widgets/controls",
       "_model_module_version": "1.5.0",
       "_model_name": "DescriptionStyleModel",
       "_view_count": null,
       "_view_module": "@jupyter-widgets/base",
       "_view_module_version": "1.2.0",
       "_view_name": "StyleView",
       "description_width": ""
      }
     },
     "9f58703b31dd4b7a95e9f65910dabce0": {
      "model_module": "@jupyter-widgets/base",
      "model_module_version": "1.2.0",
      "model_name": "LayoutModel",
      "state": {
       "_model_module": "@jupyter-widgets/base",
       "_model_module_version": "1.2.0",
       "_model_name": "LayoutModel",
       "_view_count": null,
       "_view_module": "@jupyter-widgets/base",
       "_view_module_version": "1.2.0",
       "_view_name": "LayoutView",
       "align_content": null,
       "align_items": null,
       "align_self": null,
       "border": null,
       "bottom": null,
       "display": null,
       "flex": null,
       "flex_flow": null,
       "grid_area": null,
       "grid_auto_columns": null,
       "grid_auto_flow": null,
       "grid_auto_rows": null,
       "grid_column": null,
       "grid_gap": null,
       "grid_row": null,
       "grid_template_areas": null,
       "grid_template_columns": null,
       "grid_template_rows": null,
       "height": null,
       "justify_content": null,
       "justify_items": null,
       "left": null,
       "margin": null,
       "max_height": null,
       "max_width": null,
       "min_height": null,
       "min_width": null,
       "object_fit": null,
       "object_position": null,
       "order": null,
       "overflow": null,
       "overflow_x": null,
       "overflow_y": null,
       "padding": null,
       "right": null,
       "top": null,
       "visibility": null,
       "width": null
      }
     },
     "aa294fdd178e455ebc3639a140de0201": {
      "model_module": "@jupyter-widgets/base",
      "model_module_version": "1.2.0",
      "model_name": "LayoutModel",
      "state": {
       "_model_module": "@jupyter-widgets/base",
       "_model_module_version": "1.2.0",
       "_model_name": "LayoutModel",
       "_view_count": null,
       "_view_module": "@jupyter-widgets/base",
       "_view_module_version": "1.2.0",
       "_view_name": "LayoutView",
       "align_content": null,
       "align_items": null,
       "align_self": null,
       "border": null,
       "bottom": null,
       "display": null,
       "flex": null,
       "flex_flow": null,
       "grid_area": null,
       "grid_auto_columns": null,
       "grid_auto_flow": null,
       "grid_auto_rows": null,
       "grid_column": null,
       "grid_gap": null,
       "grid_row": null,
       "grid_template_areas": null,
       "grid_template_columns": null,
       "grid_template_rows": null,
       "height": null,
       "justify_content": null,
       "justify_items": null,
       "left": null,
       "margin": null,
       "max_height": null,
       "max_width": null,
       "min_height": null,
       "min_width": null,
       "object_fit": null,
       "object_position": null,
       "order": null,
       "overflow": null,
       "overflow_x": null,
       "overflow_y": null,
       "padding": null,
       "right": null,
       "top": null,
       "visibility": null,
       "width": null
      }
     },
     "ac65d0e82cdd4f40b6d32f5b35389960": {
      "model_module": "@jupyter-widgets/base",
      "model_module_version": "1.2.0",
      "model_name": "LayoutModel",
      "state": {
       "_model_module": "@jupyter-widgets/base",
       "_model_module_version": "1.2.0",
       "_model_name": "LayoutModel",
       "_view_count": null,
       "_view_module": "@jupyter-widgets/base",
       "_view_module_version": "1.2.0",
       "_view_name": "LayoutView",
       "align_content": null,
       "align_items": null,
       "align_self": null,
       "border": null,
       "bottom": null,
       "display": null,
       "flex": null,
       "flex_flow": null,
       "grid_area": null,
       "grid_auto_columns": null,
       "grid_auto_flow": null,
       "grid_auto_rows": null,
       "grid_column": null,
       "grid_gap": null,
       "grid_row": null,
       "grid_template_areas": null,
       "grid_template_columns": null,
       "grid_template_rows": null,
       "height": null,
       "justify_content": null,
       "justify_items": null,
       "left": null,
       "margin": null,
       "max_height": null,
       "max_width": null,
       "min_height": null,
       "min_width": null,
       "object_fit": null,
       "object_position": null,
       "order": null,
       "overflow": null,
       "overflow_x": null,
       "overflow_y": null,
       "padding": null,
       "right": null,
       "top": null,
       "visibility": null,
       "width": null
      }
     },
     "b36a5f9e21474ec8a31544dd7afeb4c2": {
      "model_module": "@jupyter-widgets/controls",
      "model_module_version": "1.5.0",
      "model_name": "HBoxModel",
      "state": {
       "_dom_classes": [],
       "_model_module": "@jupyter-widgets/controls",
       "_model_module_version": "1.5.0",
       "_model_name": "HBoxModel",
       "_view_count": null,
       "_view_module": "@jupyter-widgets/controls",
       "_view_module_version": "1.5.0",
       "_view_name": "HBoxView",
       "box_style": "",
       "children": [
        "IPY_MODEL_eef17e07f5af40e7ae37228d5c7ca458",
        "IPY_MODEL_0a6d96d1521d4916af5ed5715130b4b8",
        "IPY_MODEL_0caec7c713e243588b831b7d5bdd5487"
       ],
       "layout": "IPY_MODEL_9f58703b31dd4b7a95e9f65910dabce0"
      }
     },
     "b5d85a80748a4386973bd5b1b17dcb34": {
      "model_module": "@jupyter-widgets/base",
      "model_module_version": "1.2.0",
      "model_name": "LayoutModel",
      "state": {
       "_model_module": "@jupyter-widgets/base",
       "_model_module_version": "1.2.0",
       "_model_name": "LayoutModel",
       "_view_count": null,
       "_view_module": "@jupyter-widgets/base",
       "_view_module_version": "1.2.0",
       "_view_name": "LayoutView",
       "align_content": null,
       "align_items": null,
       "align_self": null,
       "border": null,
       "bottom": null,
       "display": null,
       "flex": null,
       "flex_flow": null,
       "grid_area": null,
       "grid_auto_columns": null,
       "grid_auto_flow": null,
       "grid_auto_rows": null,
       "grid_column": null,
       "grid_gap": null,
       "grid_row": null,
       "grid_template_areas": null,
       "grid_template_columns": null,
       "grid_template_rows": null,
       "height": null,
       "justify_content": null,
       "justify_items": null,
       "left": null,
       "margin": null,
       "max_height": null,
       "max_width": null,
       "min_height": null,
       "min_width": null,
       "object_fit": null,
       "object_position": null,
       "order": null,
       "overflow": null,
       "overflow_x": null,
       "overflow_y": null,
       "padding": null,
       "right": null,
       "top": null,
       "visibility": null,
       "width": null
      }
     },
     "b785b405272f4224a1295cd6b8c9f1fd": {
      "model_module": "@jupyter-widgets/controls",
      "model_module_version": "1.5.0",
      "model_name": "DescriptionStyleModel",
      "state": {
       "_model_module": "@jupyter-widgets/controls",
       "_model_module_version": "1.5.0",
       "_model_name": "DescriptionStyleModel",
       "_view_count": null,
       "_view_module": "@jupyter-widgets/base",
       "_view_module_version": "1.2.0",
       "_view_name": "StyleView",
       "description_width": ""
      }
     },
     "ba11e309dbc34cf8b405804cd50af064": {
      "model_module": "@jupyter-widgets/controls",
      "model_module_version": "1.5.0",
      "model_name": "DescriptionStyleModel",
      "state": {
       "_model_module": "@jupyter-widgets/controls",
       "_model_module_version": "1.5.0",
       "_model_name": "DescriptionStyleModel",
       "_view_count": null,
       "_view_module": "@jupyter-widgets/base",
       "_view_module_version": "1.2.0",
       "_view_name": "StyleView",
       "description_width": ""
      }
     },
     "be5c5cfcea9b4050aa4db6f15d522f12": {
      "model_module": "@jupyter-widgets/base",
      "model_module_version": "1.2.0",
      "model_name": "LayoutModel",
      "state": {
       "_model_module": "@jupyter-widgets/base",
       "_model_module_version": "1.2.0",
       "_model_name": "LayoutModel",
       "_view_count": null,
       "_view_module": "@jupyter-widgets/base",
       "_view_module_version": "1.2.0",
       "_view_name": "LayoutView",
       "align_content": null,
       "align_items": null,
       "align_self": null,
       "border": null,
       "bottom": null,
       "display": null,
       "flex": null,
       "flex_flow": null,
       "grid_area": null,
       "grid_auto_columns": null,
       "grid_auto_flow": null,
       "grid_auto_rows": null,
       "grid_column": null,
       "grid_gap": null,
       "grid_row": null,
       "grid_template_areas": null,
       "grid_template_columns": null,
       "grid_template_rows": null,
       "height": null,
       "justify_content": null,
       "justify_items": null,
       "left": null,
       "margin": null,
       "max_height": null,
       "max_width": null,
       "min_height": null,
       "min_width": null,
       "object_fit": null,
       "object_position": null,
       "order": null,
       "overflow": null,
       "overflow_x": null,
       "overflow_y": null,
       "padding": null,
       "right": null,
       "top": null,
       "visibility": null,
       "width": null
      }
     },
     "bfcafcddc9b84f599a8a9268ca8e6714": {
      "model_module": "@jupyter-widgets/controls",
      "model_module_version": "1.5.0",
      "model_name": "ProgressStyleModel",
      "state": {
       "_model_module": "@jupyter-widgets/controls",
       "_model_module_version": "1.5.0",
       "_model_name": "ProgressStyleModel",
       "_view_count": null,
       "_view_module": "@jupyter-widgets/base",
       "_view_module_version": "1.2.0",
       "_view_name": "StyleView",
       "bar_color": null,
       "description_width": ""
      }
     },
     "c901bf777a9443d180a46aef1839823c": {
      "model_module": "@jupyter-widgets/base",
      "model_module_version": "1.2.0",
      "model_name": "LayoutModel",
      "state": {
       "_model_module": "@jupyter-widgets/base",
       "_model_module_version": "1.2.0",
       "_model_name": "LayoutModel",
       "_view_count": null,
       "_view_module": "@jupyter-widgets/base",
       "_view_module_version": "1.2.0",
       "_view_name": "LayoutView",
       "align_content": null,
       "align_items": null,
       "align_self": null,
       "border": null,
       "bottom": null,
       "display": null,
       "flex": null,
       "flex_flow": null,
       "grid_area": null,
       "grid_auto_columns": null,
       "grid_auto_flow": null,
       "grid_auto_rows": null,
       "grid_column": null,
       "grid_gap": null,
       "grid_row": null,
       "grid_template_areas": null,
       "grid_template_columns": null,
       "grid_template_rows": null,
       "height": null,
       "justify_content": null,
       "justify_items": null,
       "left": null,
       "margin": null,
       "max_height": null,
       "max_width": null,
       "min_height": null,
       "min_width": null,
       "object_fit": null,
       "object_position": null,
       "order": null,
       "overflow": null,
       "overflow_x": null,
       "overflow_y": null,
       "padding": null,
       "right": null,
       "top": null,
       "visibility": null,
       "width": null
      }
     },
     "cf1bfaa65e26451aa700d48c7fa8a41b": {
      "model_module": "@jupyter-widgets/controls",
      "model_module_version": "1.5.0",
      "model_name": "HBoxModel",
      "state": {
       "_dom_classes": [],
       "_model_module": "@jupyter-widgets/controls",
       "_model_module_version": "1.5.0",
       "_model_name": "HBoxModel",
       "_view_count": null,
       "_view_module": "@jupyter-widgets/controls",
       "_view_module_version": "1.5.0",
       "_view_name": "HBoxView",
       "box_style": "",
       "children": [
        "IPY_MODEL_e8c7f79c23ad46d4911809da5f4920fd",
        "IPY_MODEL_510de8c643484f9eb92d6627c8db6627",
        "IPY_MODEL_3c9f29d32aa04f2bbe63930449b521ea"
       ],
       "layout": "IPY_MODEL_7c16ab3b365b4d0bb23056678dae6caa"
      }
     },
     "d25c421befbb471192b488c6beba2e84": {
      "model_module": "@jupyter-widgets/controls",
      "model_module_version": "1.5.0",
      "model_name": "FloatProgressModel",
      "state": {
       "_dom_classes": [],
       "_model_module": "@jupyter-widgets/controls",
       "_model_module_version": "1.5.0",
       "_model_name": "FloatProgressModel",
       "_view_count": null,
       "_view_module": "@jupyter-widgets/controls",
       "_view_module_version": "1.5.0",
       "_view_name": "ProgressView",
       "bar_style": "success",
       "description": "",
       "description_tooltip": null,
       "layout": "IPY_MODEL_c901bf777a9443d180a46aef1839823c",
       "max": 9912422,
       "min": 0,
       "orientation": "horizontal",
       "style": "IPY_MODEL_5990965ecd7c4269896e10e27b547881",
       "value": 9912422
      }
     },
     "e818f420dd9e4104a551f78148cb22c4": {
      "model_module": "@jupyter-widgets/controls",
      "model_module_version": "1.5.0",
      "model_name": "ProgressStyleModel",
      "state": {
       "_model_module": "@jupyter-widgets/controls",
       "_model_module_version": "1.5.0",
       "_model_name": "ProgressStyleModel",
       "_view_count": null,
       "_view_module": "@jupyter-widgets/base",
       "_view_module_version": "1.2.0",
       "_view_name": "StyleView",
       "bar_color": null,
       "description_width": ""
      }
     },
     "e8c7f79c23ad46d4911809da5f4920fd": {
      "model_module": "@jupyter-widgets/controls",
      "model_module_version": "1.5.0",
      "model_name": "HTMLModel",
      "state": {
       "_dom_classes": [],
       "_model_module": "@jupyter-widgets/controls",
       "_model_module_version": "1.5.0",
       "_model_name": "HTMLModel",
       "_view_count": null,
       "_view_module": "@jupyter-widgets/controls",
       "_view_module_version": "1.5.0",
       "_view_name": "HTMLView",
       "description": "",
       "description_tooltip": null,
       "layout": "IPY_MODEL_6d0916c0c77b4b3a976e9ebe994d08a9",
       "placeholder": "​",
       "style": "IPY_MODEL_690c3c90af414d428fc86975c91daee4",
       "value": ""
      }
     },
     "eef17e07f5af40e7ae37228d5c7ca458": {
      "model_module": "@jupyter-widgets/controls",
      "model_module_version": "1.5.0",
      "model_name": "HTMLModel",
      "state": {
       "_dom_classes": [],
       "_model_module": "@jupyter-widgets/controls",
       "_model_module_version": "1.5.0",
       "_model_name": "HTMLModel",
       "_view_count": null,
       "_view_module": "@jupyter-widgets/controls",
       "_view_module_version": "1.5.0",
       "_view_name": "HTMLView",
       "description": "",
       "description_tooltip": null,
       "layout": "IPY_MODEL_12bf5b26fd214d2baebe55e148b42437",
       "placeholder": "​",
       "style": "IPY_MODEL_81b324838409463fa892337b7ffd6c67",
       "value": ""
      }
     },
     "f1aeca8025434657aa374ef77f8501b0": {
      "model_module": "@jupyter-widgets/controls",
      "model_module_version": "1.5.0",
      "model_name": "ProgressStyleModel",
      "state": {
       "_model_module": "@jupyter-widgets/controls",
       "_model_module_version": "1.5.0",
       "_model_name": "ProgressStyleModel",
       "_view_count": null,
       "_view_module": "@jupyter-widgets/base",
       "_view_module_version": "1.2.0",
       "_view_name": "StyleView",
       "bar_color": null,
       "description_width": ""
      }
     },
     "f7b452721a164f8cb9ca624396e63202": {
      "model_module": "@jupyter-widgets/base",
      "model_module_version": "1.2.0",
      "model_name": "LayoutModel",
      "state": {
       "_model_module": "@jupyter-widgets/base",
       "_model_module_version": "1.2.0",
       "_model_name": "LayoutModel",
       "_view_count": null,
       "_view_module": "@jupyter-widgets/base",
       "_view_module_version": "1.2.0",
       "_view_name": "LayoutView",
       "align_content": null,
       "align_items": null,
       "align_self": null,
       "border": null,
       "bottom": null,
       "display": null,
       "flex": null,
       "flex_flow": null,
       "grid_area": null,
       "grid_auto_columns": null,
       "grid_auto_flow": null,
       "grid_auto_rows": null,
       "grid_column": null,
       "grid_gap": null,
       "grid_row": null,
       "grid_template_areas": null,
       "grid_template_columns": null,
       "grid_template_rows": null,
       "height": null,
       "justify_content": null,
       "justify_items": null,
       "left": null,
       "margin": null,
       "max_height": null,
       "max_width": null,
       "min_height": null,
       "min_width": null,
       "object_fit": null,
       "object_position": null,
       "order": null,
       "overflow": null,
       "overflow_x": null,
       "overflow_y": null,
       "padding": null,
       "right": null,
       "top": null,
       "visibility": null,
       "width": null
      }
     }
    },
    "version_major": 2,
    "version_minor": 0
   }
  }
 },
 "nbformat": 4,
 "nbformat_minor": 5
}
